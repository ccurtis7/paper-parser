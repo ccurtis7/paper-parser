{
 "cells": [
  {
   "cell_type": "markdown",
   "metadata": {},
   "source": [
    "# PaperParser Example Notebook"
   ]
  },
  {
   "cell_type": "markdown",
   "metadata": {},
   "source": [
    "**PaperParser** is a toolkit allowing for the automatic extraction of key parameters (synthesis, performance) from a scientific article.  In this example notebook, we will demonstrate the various functionalities of **PaperParser**, what each component of the package is built to do, and how to use the package from start to finish."
   ]
  },
  {
   "cell_type": "markdown",
   "metadata": {},
   "source": [
    "## 0.  Initialization"
   ]
  },
  {
   "cell_type": "code",
   "execution_count": 200,
   "metadata": {},
   "outputs": [],
   "source": [
    "import sys\n",
    "sys.path.insert(0, '../paperparser/read_paper')\n",
    "import extract_sentences\n",
    "import sentence_classifier\n",
    "import search_paper_for_perform_sentences\n",
    "\n",
    "sys.path.insert(0, '../paperparser/parse')\n",
    "import anneal\n",
    "import order\n",
    "import spincoat\n",
    "import pce\n",
    "\n",
    "import pandas as pd\n",
    "from sklearn.externals import joblib"
   ]
  },
  {
   "cell_type": "markdown",
   "metadata": {},
   "source": [
    "## 1.  Reading Synthesis Information from a Paper"
   ]
  },
  {
   "cell_type": "markdown",
   "metadata": {},
   "source": [
    "PaperParser is designed to read through a scientific document, identify only the relevant synthesis-related sentences therein, and parse those sentences to extract synthetic steps and parameters.  The full process will be demonstrated below.\n",
    "\n",
    "First, load a scientific paper through PaperParser's `read_paper.extract_sentences` module.  (The module is build on top of `chemdataextractor`'s .html reader.)  The paper is stored as a ChemDataExtractor Document type.  To demonstrate, we load an example paper provided in the PaperParser repo."
   ]
  },
  {
   "cell_type": "code",
   "execution_count": 101,
   "metadata": {},
   "outputs": [],
   "source": [
    "paper = extract_sentences.read_html_paper('journal_articles/Paper0.html')"
   ]
  },
  {
   "cell_type": "markdown",
   "metadata": {},
   "source": [
    "PaperParser's `read_paper.extract_sentences` module can also extract all sentences and their location in the paper (as represented by unique indices)."
   ]
  },
  {
   "cell_type": "code",
   "execution_count": 3,
   "metadata": {},
   "outputs": [],
   "source": [
    "X_sentences, sentences_record = extract_sentences.extract_all_sentences(paper)"
   ]
  },
  {
   "cell_type": "markdown",
   "metadata": {},
   "source": [
    "### 1.1.  Identifying Synthesis Sentences in a Paper"
   ]
  },
  {
   "cell_type": "markdown",
   "metadata": {},
   "source": [
    "Rather than read the whole paper, `paperparser` implements a pre-trained SVM classifier to find sentences corresponding to synthesis.  The pre-trained model has been stored as a `.pkl` file.\n",
    "\n",
    "(Note: We acknowledge potential security issues with `pkl` files; future updates will implement `hdf5`.)"
   ]
  },
  {
   "cell_type": "code",
   "execution_count": 4,
   "metadata": {},
   "outputs": [],
   "source": [
    "syn_sen_model = joblib.load('syn_sen_model.pkl')"
   ]
  },
  {
   "cell_type": "markdown",
   "metadata": {},
   "source": [
    "We can use the classifier on our example paper to identify synthesis and non-synthesis sentences."
   ]
  },
  {
   "cell_type": "code",
   "execution_count": 6,
   "metadata": {},
   "outputs": [],
   "source": [
    "pred_data, synthesis_sentences, not_synthesis_sentences = sentence_classifier.classify_sentences(syn_sen_model, X_sentences)"
   ]
  },
  {
   "cell_type": "markdown",
   "metadata": {},
   "source": [
    "A preview of classified sentences is shown below (for the full list, de-comment and rerun)."
   ]
  },
  {
   "cell_type": "code",
   "execution_count": 12,
   "metadata": {},
   "outputs": [
    {
     "name": "stdout",
     "output_type": "stream",
     "text": [
      "First synthesis sentence: 'The spin-coated layer formed with the solvent mixture followed by the toluene drip is extremely uniform and transparent, and covers the full surface with low surface roughness.'\n",
      "Number of synthesis sentences: 12\n",
      "Total number of sentences: 851\n"
     ]
    }
   ],
   "source": [
    "print(f\"First synthesis sentence: '{synthesis_sentences[0]}'\",\n",
    "      f\"Number of synthesis sentences: {len(synthesis_sentences)}\",\n",
    "      f\"Total number of sentences: {len(synthesis_sentences) + len(not_synthesis_sentences)}\",\n",
    "      sep=\"\\n\")\n",
    "#synthesis_sentences"
   ]
  },
  {
   "cell_type": "markdown",
   "metadata": {},
   "source": [
    "Nice!  We have now reduced the number of sentences that PaperParser has to read from almost 1000 to only 12."
   ]
  },
  {
   "cell_type": "markdown",
   "metadata": {},
   "source": [
    "#### 1.1.1. Organizing Synthesis Sentences into a Dataframe\n",
    "\n",
    "For user-friendliness, we have also arranged the sentences into a pandas dataframe.  Here the indices can be more clearly read, and the `Tag` aspect which tags synthesis sentences (=1) and non-synthesis sentences (=0) is shown in a column.\n",
    "\n",
    "(To streamline this notebook, only the first 5 sentences are shown-- de-comment in order to see the full dataframe!)"
   ]
  },
  {
   "cell_type": "code",
   "execution_count": 15,
   "metadata": {
    "scrolled": false
   },
   "outputs": [
    {
     "data": {
      "text/html": [
       "<div>\n",
       "<style scoped>\n",
       "    .dataframe tbody tr th:only-of-type {\n",
       "        vertical-align: middle;\n",
       "    }\n",
       "\n",
       "    .dataframe tbody tr th {\n",
       "        vertical-align: top;\n",
       "    }\n",
       "\n",
       "    .dataframe thead th {\n",
       "        text-align: right;\n",
       "    }\n",
       "</style>\n",
       "<table border=\"1\" class=\"dataframe\">\n",
       "  <thead>\n",
       "    <tr style=\"text-align: right;\">\n",
       "      <th></th>\n",
       "      <th>Sentences</th>\n",
       "      <th>Element # in doc</th>\n",
       "      <th>Sentence_index_in_para</th>\n",
       "      <th>Tag</th>\n",
       "    </tr>\n",
       "  </thead>\n",
       "  <tbody>\n",
       "    <tr>\n",
       "      <th>0</th>\n",
       "      <td>Solvent engineering for high-performance inorg...</td>\n",
       "      <td>0</td>\n",
       "      <td>0</td>\n",
       "      <td>0.0</td>\n",
       "    </tr>\n",
       "    <tr>\n",
       "      <th>1</th>\n",
       "      <td>Cookie Notice</td>\n",
       "      <td>1</td>\n",
       "      <td>0</td>\n",
       "      <td>0.0</td>\n",
       "    </tr>\n",
       "    <tr>\n",
       "      <th>2</th>\n",
       "      <td>We use cookies to personalise content and ads,...</td>\n",
       "      <td>2</td>\n",
       "      <td>0</td>\n",
       "      <td>0.0</td>\n",
       "    </tr>\n",
       "    <tr>\n",
       "      <th>3</th>\n",
       "      <td>We also share information about your use of ou...</td>\n",
       "      <td>2</td>\n",
       "      <td>1</td>\n",
       "      <td>0.0</td>\n",
       "    </tr>\n",
       "    <tr>\n",
       "      <th>4</th>\n",
       "      <td>You can manage your preferences in 'Manage Coo...</td>\n",
       "      <td>2</td>\n",
       "      <td>2</td>\n",
       "      <td>0.0</td>\n",
       "    </tr>\n",
       "  </tbody>\n",
       "</table>\n",
       "</div>"
      ],
      "text/plain": [
       "                                           Sentences  Element # in doc  \\\n",
       "0  Solvent engineering for high-performance inorg...                 0   \n",
       "1                                      Cookie Notice                 1   \n",
       "2  We use cookies to personalise content and ads,...                 2   \n",
       "3  We also share information about your use of ou...                 2   \n",
       "4  You can manage your preferences in 'Manage Coo...                 2   \n",
       "\n",
       "   Sentence_index_in_para  Tag  \n",
       "0                       0  0.0  \n",
       "1                       0  0.0  \n",
       "2                       0  0.0  \n",
       "3                       1  0.0  \n",
       "4                       2  0.0  "
      ]
     },
     "execution_count": 15,
     "metadata": {},
     "output_type": "execute_result"
    }
   ],
   "source": [
    "df_sentences = pd.DataFrame({'Sentences':X_sentences, 'Element # in doc':[rec[0] for rec in sentences_record],\n",
    "                             'Sentence_index_in_para':[rec[1] for rec in sentences_record], 'Tag':pred_data})\n",
    "df_sentences.head()\n",
    "#df_sentences"
   ]
  },
  {
   "cell_type": "markdown",
   "metadata": {},
   "source": [
    "We can also use pandas to show only synthesis sentences."
   ]
  },
  {
   "cell_type": "code",
   "execution_count": 17,
   "metadata": {},
   "outputs": [
    {
     "data": {
      "text/html": [
       "<div>\n",
       "<style scoped>\n",
       "    .dataframe tbody tr th:only-of-type {\n",
       "        vertical-align: middle;\n",
       "    }\n",
       "\n",
       "    .dataframe tbody tr th {\n",
       "        vertical-align: top;\n",
       "    }\n",
       "\n",
       "    .dataframe thead th {\n",
       "        text-align: right;\n",
       "    }\n",
       "</style>\n",
       "<table border=\"1\" class=\"dataframe\">\n",
       "  <thead>\n",
       "    <tr style=\"text-align: right;\">\n",
       "      <th></th>\n",
       "      <th>Sentences</th>\n",
       "      <th>Element # in doc</th>\n",
       "      <th>Sentence_index_in_para</th>\n",
       "      <th>Tag</th>\n",
       "    </tr>\n",
       "  </thead>\n",
       "  <tbody>\n",
       "    <tr>\n",
       "      <th>124</th>\n",
       "      <td>The spin-coated layer formed with the solvent ...</td>\n",
       "      <td>92</td>\n",
       "      <td>15</td>\n",
       "      <td>1.0</td>\n",
       "    </tr>\n",
       "    <tr>\n",
       "      <th>152</th>\n",
       "      <td>We see that the formation of the perovskite ph...</td>\n",
       "      <td>96</td>\n",
       "      <td>2</td>\n",
       "      <td>1.0</td>\n",
       "    </tr>\n",
       "    <tr>\n",
       "      <th>160</th>\n",
       "      <td>Accordingly, the formation of the intermediate...</td>\n",
       "      <td>99</td>\n",
       "      <td>0</td>\n",
       "      <td>1.0</td>\n",
       "    </tr>\n",
       "    <tr>\n",
       "      <th>187</th>\n",
       "      <td>Generally, the average value of the efficiency...</td>\n",
       "      <td>100</td>\n",
       "      <td>21</td>\n",
       "      <td>1.0</td>\n",
       "    </tr>\n",
       "    <tr>\n",
       "      <th>188</th>\n",
       "      <td>For a deeper understanding of the dependence o...</td>\n",
       "      <td>103</td>\n",
       "      <td>0</td>\n",
       "      <td>1.0</td>\n",
       "    </tr>\n",
       "  </tbody>\n",
       "</table>\n",
       "</div>"
      ],
      "text/plain": [
       "                                             Sentences  Element # in doc  \\\n",
       "124  The spin-coated layer formed with the solvent ...                92   \n",
       "152  We see that the formation of the perovskite ph...                96   \n",
       "160  Accordingly, the formation of the intermediate...                99   \n",
       "187  Generally, the average value of the efficiency...               100   \n",
       "188  For a deeper understanding of the dependence o...               103   \n",
       "\n",
       "     Sentence_index_in_para  Tag  \n",
       "124                      15  1.0  \n",
       "152                       2  1.0  \n",
       "160                       0  1.0  \n",
       "187                      21  1.0  \n",
       "188                       0  1.0  "
      ]
     },
     "execution_count": 17,
     "metadata": {},
     "output_type": "execute_result"
    }
   ],
   "source": [
    "synth_sent_df = df_sentences.loc[df_sentences['Tag'] == 1.0]\n",
    "synth_sent_df.head()\n",
    "#synth_sent_df"
   ]
  },
  {
   "cell_type": "markdown",
   "metadata": {},
   "source": [
    "### 1.2. Parsing Synthesis Information from Selected Sentences"
   ]
  },
  {
   "cell_type": "markdown",
   "metadata": {},
   "source": [
    "Once synthesis sentences have been identified, PaperParser is ready to begin parsing!  PaperParser has currently been designed only to recognize spincoating and annealing parameters, but in the future, many more can be added to capture other synthesis steps. \n",
    "\n",
    "As of the current implementation, each parser must be called individually from the `paperparser.parse` module."
   ]
  },
  {
   "cell_type": "code",
   "execution_count": 27,
   "metadata": {},
   "outputs": [
    {
     "data": {
      "text/plain": [
       "[[],\n",
       " [],\n",
       " [],\n",
       " [],\n",
       " [],\n",
       " [],\n",
       " [],\n",
       " [{'spin_coat': [{'spds': [{'spdvalue': '1,000', 'spdunits': 'r.p.m'},\n",
       "      {'spdvalue': '5,000', 'spdunits': 'r.p.m'}],\n",
       "     'times': [{'timevalue': '10', 'timeunits': 's'},\n",
       "      {'timevalue': '20', 'timeunits': 's'}]}]}],\n",
       " [],\n",
       " [],\n",
       " [{'spin_coat': [{'spds': [{'spdvalue': '3,000', 'spdunits': 'r.p.m'}],\n",
       "     'times': [{'timevalue': '30', 'timeunits': 's'}]}]}],\n",
       " []]"
      ]
     },
     "execution_count": 27,
     "metadata": {},
     "output_type": "execute_result"
    }
   ],
   "source": [
    "spincoat_parse_results = [spincoat.parse_spincoat(syn_sentence) for syn_sentence in synthesis_sentences]\n",
    "spincoat_parse_results"
   ]
  },
  {
   "cell_type": "code",
   "execution_count": 19,
   "metadata": {},
   "outputs": [
    {
     "data": {
      "text/plain": [
       "[[],\n",
       " [],\n",
       " [],\n",
       " [],\n",
       " [],\n",
       " [],\n",
       " [],\n",
       " [],\n",
       " [],\n",
       " [{'anneal': [{'temps': [{'tempvalue': '100', 'tempunits': '°C'}],\n",
       "     'times': [{'timevalue': '10', 'timeunits': 'min'}]}]}],\n",
       " [],\n",
       " []]"
      ]
     },
     "execution_count": 19,
     "metadata": {},
     "output_type": "execute_result"
    }
   ],
   "source": [
    "anneal_parse_results = [anneal.parse_anneal(syn_sentence) for syn_sentence in synthesis_sentences]\n",
    "anneal_parse_results"
   ]
  },
  {
   "cell_type": "markdown",
   "metadata": {},
   "source": [
    "Sentences that match parser patterns return synthesis parameters. Sentences that do not match parser return an empty list."
   ]
  },
  {
   "cell_type": "markdown",
   "metadata": {},
   "source": [
    "#### 1.2.1. Capabilities and Flexibility of Synthesis Parsers\n",
    "\n",
    "PaperParser's synthesis parsers have been designed to (somewhat) flexibly extract spin-coating and annealing parameters."
   ]
  },
  {
   "cell_type": "code",
   "execution_count": 48,
   "metadata": {
    "scrolled": true
   },
   "outputs": [
    {
     "data": {
      "text/plain": [
       "([{'spin_coat': [{'spds': [{'spdvalue': '12,000', 'spdunits': 'rcf'}],\n",
       "     'times': [{'timevalue': '2', 'timeunits': 'h'}]}]}],\n",
       " [{'spin_coat': [{'spds': [{'spdvalue': '1,200', 'spdunits': 'r.p.m'}],\n",
       "     'times': [{'timevalue': '10', 'timeunits': 'minutes'}]}]}])"
      ]
     },
     "execution_count": 48,
     "metadata": {},
     "output_type": "execute_result"
    }
   ],
   "source": [
    "sc1 = \"The substrate was spun at 12,000 rcf for 2 h.\"\n",
    "sc2 = \"The substrate was coated at 1,200 r.p.m for 10 minutes.\"\n",
    "spincoat.parse_spincoat(sc1), spincoat.parse_spincoat(sc2)"
   ]
  },
  {
   "cell_type": "code",
   "execution_count": 54,
   "metadata": {},
   "outputs": [
    {
     "data": {
      "text/plain": [
       "([{'anneal': [{'temps': [{'tempvalue': '400', 'tempunits': '°F'}],\n",
       "     'times': [{'timevalue': '20', 'timeunits': 'seconds'}]}]}],\n",
       " [{'anneal': [{'temps': [{'tempvalue': '20', 'tempunits': '°C'}],\n",
       "     'times': [{'timevalue': '20', 'timeunits': 'min'}]}]}])"
      ]
     },
     "execution_count": 54,
     "metadata": {},
     "output_type": "execute_result"
    }
   ],
   "source": [
    "an1 = \"The substrate was heated at 400°F for 20 seconds.\"\n",
    "an2 = \"The substrate was dried at 20 °C for 20 min\"\n",
    "anneal.parse_anneal(an1), anneal.parse_anneal(an2)"
   ]
  },
  {
   "cell_type": "markdown",
   "metadata": {},
   "source": [
    "The parsers also ignore unlikely values."
   ]
  },
  {
   "cell_type": "code",
   "execution_count": 99,
   "metadata": {},
   "outputs": [
    {
     "data": {
      "text/plain": [
       "([], [], [], [])"
      ]
     },
     "execution_count": 99,
     "metadata": {},
     "output_type": "execute_result"
    }
   ],
   "source": [
    "sc3 = \"The substrate was spun at 1,000,000 r.c.f for 5 min\" # Houston, we have a problem. A very fast one.\n",
    "sc4 = \"The substrate was spun at 2,000 rpm for 3,000 hours\" # Doubtful that anyone spends 34% of a year spin-coating a film.\n",
    "an3 = \"The substrate was dried at 0 °C for 20 min\" # Annealing at 0 °C might not do much for your film.\n",
    "an4 = \"The substrate was dried at 100°C for 200 min\" # Annealing for 200 minutes might do too much for your film.\n",
    "spincoat.parse_spincoat(sc3), spincoat.parse_spincoat(sc4), anneal.parse_anneal(an3), anneal.parse_anneal(an4)"
   ]
  },
  {
   "cell_type": "markdown",
   "metadata": {},
   "source": [
    "#### 1.2.2. Parsing the Order of Steps in a Synthesis "
   ]
  },
  {
   "cell_type": "markdown",
   "metadata": {},
   "source": [
    "As an added feature, `paperparser` contains a method `order.syn_order` that can be used to extract the order of various steps in the synthesis procedure. Let's try it on a specific paragraph from the example paper."
   ]
  },
  {
   "cell_type": "code",
   "execution_count": 28,
   "metadata": {
    "scrolled": true
   },
   "outputs": [
    {
     "data": {
      "text/html": [
       "<p class=\"cde-paragraph\">A dense blocking layer of TiO2 (bl-TiO2, ∼70 nm in thickness) was deposited onto a F-doped SnO2 (FTO, Pilkington, TEC8) substrate by spray pyrolysis, using a 20 mM titanium diisopropoxide bis(acetylacetonate) solution (Aldrich) at 450 °C to prevent direct contact between the FTO and the hole-conducting layer. A 200–300-nm-thick mesoporous TiO2 (particle size: about 50 nm, crystalline phase: anatase) film was spin-coated onto the bl-TiO2/FTO substrate using home-made pastes14 and calcining at 500 °C for 1 h in air to remove organic components. CH3NH3I (MAI) and CH3NH3Br (MABr) were first synthesized by reacting 27.86 ml CH3NH2 (40% in methanol, Junsei Chemical) and 30 ml HI (57 wt% in water, Aldrich) or 44 ml HBr (48 wt% in water, Aldrich) in a 250 ml round-bottom flask at 0 °C for 4 h with stirring, respectively. The precipitate was recovered by evaporation at 55 °C for 1 h. MAI and MABr were dissolved in ethanol, recrystallized from diethyl ether, and dried at 60 °C in a vacuum oven for 24 h. The prepared MAI and MABr powders, PbI2 (Aldrich) and PbBr2 (Aldrich) for 0.8 M MAPb(I1 − xBrx)3 (x  =  0.1–0.15) solution were stirred in a mixture of GBL and DMSO (7:3 v/v) at 60 °C for 12 h. The resulting solution was coated onto the mp-TiO2/bl-TiO2/FTO substrate by a consecutive two-step spin-coating process at 1,000 and 5,000 r.p.m for 10 and 20 s, respectively. During the second spin-coating step, the substrate (around 1 cm × 1 cm) was treated with toluene drop-casting. A detailed time-rotation profile for the spin-coating is represented in Supplementary Fig. 1c. The substrate was dried on a hot plate at 100 °C for 10 min. A solution of poly(triarylamine) (15 mg, PTAA, EM Index, Mw  =  17,500 g mol−1) in toluene (1.5 ml) was mixed with 15 μl of a solution of lithium bistrifluoromethanesulphonimidate (170 mg) in acetonitrile (1 ml) and 7.5 μl 4-tert-butylpyridine and spin-coated on the MAPb(I1 − xBrx)3 (x  =  0.1–0.15)/mp-TiO2/bl-TiO2/FTO substrate at 3,000 r.p.m for 30 s. Finally, a Au counterelectrode was deposited by thermal evaporation. The active area of this electrode was fixed at 0.16 cm2.</p>"
      ],
      "text/plain": [
       "Paragraph(id='methods-content', references=[], text='A dense blocking layer of TiO2 (bl-TiO2, ∼70 nm in thickness) was deposited onto a F-doped SnO2 (FTO, Pilkington, TEC8) substrate by spray pyrolysis, using a 20 mM titanium diisopropoxide bis(acetylacetonate) solution (Aldrich) at 450 °C to prevent direct contact between the FTO and the hole-conducting layer. A 200–300-nm-thick mesoporous TiO2 (particle size: about 50 nm, crystalline phase: anatase) film was spin-coated onto the bl-TiO2/FTO substrate using home-made pastes14 and calcining at 500 °C for 1 h in air to remove organic components. CH3NH3I (MAI) and CH3NH3Br (MABr) were first synthesized by reacting 27.86 ml CH3NH2 (40% in methanol, Junsei Chemical) and 30 ml HI (57 wt% in water, Aldrich) or 44 ml HBr (48 wt% in water, Aldrich) in a 250 ml round-bottom flask at 0 °C for 4 h with stirring, respectively. The precipitate was recovered by evaporation at 55 °C for 1 h. MAI and MABr were dissolved in ethanol, recrystallized from diethyl ether, and dried at 60 °C in a vacuum oven for 24 h. The prepared MAI and MABr powders, PbI2 (Aldrich) and PbBr2 (Aldrich) for 0.8 M MAPb(I1\\xa0−\\xa0xBrx)3 (x\\xa0 = \\xa00.1–0.15) solution were stirred in a mixture of GBL and DMSO (7:3 v/v) at 60 °C for 12 h. The resulting solution was coated onto the mp-TiO2/bl-TiO2/FTO substrate by a consecutive two-step spin-coating process at 1,000 and 5,000 r.p.m for 10 and 20 s, respectively. During the second spin-coating step, the substrate (around 1 cm × 1 cm) was treated with toluene drop-casting. A detailed time-rotation profile for the spin-coating is represented in Supplementary Fig.\\xa01c. The substrate was dried on a hot plate at 100 °C for 10 min. A solution of poly(triarylamine) (15 mg, PTAA, EM Index, Mw\\xa0 = \\xa017,500 g mol−1) in toluene (1.5 ml) was mixed with 15 μl of a solution of lithium bistrifluoromethanesulphonimidate (170 mg) in acetonitrile (1 ml) and 7.5 μl 4-tert-butylpyridine and spin-coated on the MAPb(I1\\xa0−\\xa0xBrx)3 (x\\xa0 = \\xa00.1–0.15)/mp-TiO2/bl-TiO2/FTO substrate at 3,000 r.p.m for 30 s. Finally, a Au counterelectrode was deposited by thermal evaporation. The active area of this electrode was fixed at 0.16 cm2.')"
      ]
     },
     "execution_count": 28,
     "metadata": {},
     "output_type": "execute_result"
    }
   ],
   "source": [
    "a_paragraph = paper[109]\n",
    "a_paragraph"
   ]
  },
  {
   "cell_type": "markdown",
   "metadata": {},
   "source": [
    "PaperParser can then use an ordering method on the above paragraph to generate an ordered list of the synthesis steps contained within."
   ]
  },
  {
   "cell_type": "code",
   "execution_count": 29,
   "metadata": {
    "scrolled": true
   },
   "outputs": [
    {
     "data": {
      "text/plain": [
       "{0: [],\n",
       " 1: ['spin-coat'],\n",
       " 2: [],\n",
       " 3: ['dry'],\n",
       " 4: [],\n",
       " 5: ['coat', 'spin-coat'],\n",
       " 6: ['spin-coat', 'dry'],\n",
       " 7: ['spin-coat'],\n",
       " 8: ['dry'],\n",
       " 9: ['spin-coat'],\n",
       " 10: [],\n",
       " 11: []}"
      ]
     },
     "execution_count": 29,
     "metadata": {},
     "output_type": "execute_result"
    }
   ],
   "source": [
    "steps_order, steps_dict = order.syn_order(a_paragraph)\n",
    "steps_dict"
   ]
  },
  {
   "cell_type": "markdown",
   "metadata": {},
   "source": [
    "Pretty neat, right?"
   ]
  },
  {
   "cell_type": "markdown",
   "metadata": {},
   "source": [
    "## 2.  Reading Device Performance from a Paper"
   ]
  },
  {
   "cell_type": "markdown",
   "metadata": {},
   "source": [
    "The goal of `paperparser` is to correlate synthesis parameters with the performance of a given device.  For perovskites, performance is quantified using a number of parameters, including power conversion efficiency ($PCE$), short-circuit current ($J_{SC}$), and open-circuit voltage ($V_{OC}$).  (To learn more about how solar cell performance is measured, try some [nifty](http://depts.washington.edu/cmditr/modules/opv/physics_of_solar_cells.html) [online](https://www.ossila.com/pages/solar-cells-theory) [resources](https://en.wikipedia.org/wiki/Solar_cell_efficiency).\n",
    "\n",
    "To extract performance metrics, PaperParser uses a set of tools similar to those used in the synthesis section above.  First, PaperParser searches the paper for sentences containing a performance metric identifier ('$PCE$', '$J_{SC}$', '$V_{OC}$', _etc._) along with its corresponding value.  PaperParser then organizes the information into a user-friendly, readable format. \n",
    "\n",
    "(For version 0.1 of `paperparser`, only the PCE parser is fully functional and will be demonstrated below.  The other parsers are planned for future development.)"
   ]
  },
  {
   "cell_type": "markdown",
   "metadata": {},
   "source": [
    "### 2.1. Identifying Device Performance Sentences in a Paper"
   ]
  },
  {
   "cell_type": "markdown",
   "metadata": {},
   "source": [
    "The first step is to find the relevant sentences to pass to the parser for speedy parsing, as above. Luckily, identiying performance metrics is easier than identifying syntheses, so no fancy-pants machine learning is required. Instead, PaperParser implements a simple search with the method `search_paper_for_perform_sentences.list_perform_sents`, which searches for PCE information by default.  However, the method is designed with generality in mind for future parser design. (See docstrings to learn more.)"
   ]
  },
  {
   "cell_type": "code",
   "execution_count": 30,
   "metadata": {
    "scrolled": false
   },
   "outputs": [
    {
     "data": {
      "text/plain": [
       "['For example, when MAPbI3 was loaded on a mesoporous (mp)-TiO2 electrode by the sequential deposition of PbI2 and methylammonium iodide (MAI), a 15.0% power-conversion efficiency (PCE) was achieved under 1 sun illumination11.',\n",
       " 'The Jsc, Voc and FF values obtained from the I–V curve of the reverse scan were 19.2 mA cm−2, 1.09 V and 0.69, respectively, yielding a PCE of 14.4% under standard AM 1.5 conditions.',\n",
       " 'The average values from the J–V curves from the reverse and forward scans (Fig.\\xa05a) exhibited a Jsc of 19.58 mA cm−2, Voc of 1.105 V, and FF of 76.2%, corresponding to a PCE of 16.5% under standard AM 1.5 G conditions.',\n",
       " 'The best device also showed a very broad IPCE plateau of over 80% between 420 and 700 nm, as shown in Fig.\\xa05b.',\n",
       " 'One of these devices was certified by the standardized method in a photovoltaics calibration laboratory, confirming a PCE of 16.2% under AM 1.5 G full sun (Supplementary Fig.\\xa06).',\n",
       " 'In summary, we developed a solvent-engineering technology for the deposition of extremely uniform perovskite layers, and demonstrated a solution-processed perovskite solar cell with 16.5% PCE under standard conditions (AM 1.5 G radiation, 100 mW cm−2).']"
      ]
     },
     "execution_count": 30,
     "metadata": {},
     "output_type": "execute_result"
    }
   ],
   "source": [
    "relevant_sentences_to_pce = search_paper_for_perform_sentences.list_perform_sents('journal_articles/Paper0.html')\n",
    "relevant_sentences_to_pce"
   ]
  },
  {
   "cell_type": "markdown",
   "metadata": {},
   "source": [
    "Wow! Look at that output. A whole paper down to just those sentences, and they all have quantitative info on the PCE! I don't know about you, but I am impressed.\n",
    "\n",
    "Unfortunately, unlike with the synthesis parameters, the location indices of PCE sentences are not labeled. This is planned to be addressed in a future  version of `paperparser` to better identify which section of the paper each parameter comes from. "
   ]
  },
  {
   "cell_type": "markdown",
   "metadata": {},
   "source": [
    "### 2.2. Parsing Device Performance Information from Selected Sentences\n",
    "\n",
    "Now these sentences can be fed to the PCE parcer to extract values and relations."
   ]
  },
  {
   "cell_type": "code",
   "execution_count": 31,
   "metadata": {},
   "outputs": [
    {
     "data": {
      "text/plain": [
       "[[],\n",
       " [{'pce_pattern': [{'value': '14.4', 'units': '%'}]}],\n",
       " [{'pce_pattern': [{'value': '16.5', 'units': '%'}]}],\n",
       " [],\n",
       " [{'pce_pattern': [{'value': '16.2', 'units': '%'}]}],\n",
       " [{'pce_pattern': [{'value': '16.5', 'units': '%'}]}]]"
      ]
     },
     "execution_count": 31,
     "metadata": {},
     "output_type": "execute_result"
    }
   ],
   "source": [
    "parsed_pce_info = pce.parse_pce(relevant_sentences_to_pce)\n",
    "parsed_pce_info"
   ]
  },
  {
   "cell_type": "markdown",
   "metadata": {},
   "source": [
    "The parser works as hoped for all except the first sentence, where the pce is reported in the phrase `'15.0% power-conversion efficiency (PCE)'`. Although this pattern is incorporated into `parse.pce`, there is some bug. \n",
    "\n",
    "The 4th sentence was not parsed. Closer inspection of the sentence shows that it says:"
   ]
  },
  {
   "cell_type": "code",
   "execution_count": 201,
   "metadata": {},
   "outputs": [
    {
     "data": {
      "text/plain": [
       "'The best device also showed a very broad IPCE plateau of over 80% between 420 and 700 nm, as shown in Fig.\\xa05b.'"
      ]
     },
     "execution_count": 201,
     "metadata": {},
     "output_type": "execute_result"
    }
   ],
   "source": [
    "relevant_sentences_to_pce[3]"
   ]
  },
  {
   "cell_type": "markdown",
   "metadata": {},
   "source": [
    "The above sentence does not contain the correct information, which is why its output is blank.  (Good parser.)"
   ]
  },
  {
   "cell_type": "markdown",
   "metadata": {},
   "source": [
    "#### 2.2.1. Capabilities and Flexibility of Performance Parsers\n",
    "\n",
    "The PCE parser is designed to detect different patterns of phrasing, as demonstrated below."
   ]
  },
  {
   "cell_type": "code",
   "execution_count": 15,
   "metadata": {},
   "outputs": [
    {
     "data": {
      "text/plain": [
       "[[{'pce_pattern': [{'value': '4.73', 'units': '%'}]}]]"
      ]
     },
     "execution_count": 15,
     "metadata": {},
     "output_type": "execute_result"
    }
   ],
   "source": [
    "pce.parse_pce(['Solar cells containing THE CHEMICALS display PCEs up to 4.73%.'])"
   ]
  },
  {
   "cell_type": "code",
   "execution_count": 16,
   "metadata": {},
   "outputs": [
    {
     "data": {
      "text/plain": [
       "[[{'pce_pattern': [{'value': '4.73', 'units': '%'}]}]]"
      ]
     },
     "execution_count": 16,
     "metadata": {},
     "output_type": "execute_result"
    }
   ],
   "source": [
    "pce.parse_pce(['Solar cells containing THE CHEMICALS display a 4.73% PCE.'])"
   ]
  },
  {
   "cell_type": "markdown",
   "metadata": {},
   "source": [
    "# Future Work"
   ]
  },
  {
   "cell_type": "markdown",
   "metadata": {},
   "source": [
    "**PaperParser** version 0.1 is a handy tool for the extraction of solar cell synthesis and performance information from often lengthy and arcane scientific papers on the subject.  Future improvements planned as of 0.1 include:\n",
    "\n",
    "* More generalized parsers\n",
    "    * Generalized parsers will enable expansion of PaperParser beyond perovskite literature to exciting frontiers!\n",
    "* Increased flexibility for synthesis parsers\n",
    "* Performance parsers for $J_{SC}$, $V_{OC}$, etc.\n",
    "* Association of all parameters with chemical identifiers\n",
    "    * Chemical identifier association (using ChemDataExtractor to recognize chemical names) allows syntheses and performance metrics to be specifically associated with certain formulations, making complete paper analysis a one-step, easy process!\n",
    "\n",
    "The PaperParser team always welcomes suggestions, comments, or feedback (both positive and negative!).  We are a small (but dedicated) development team and look forward to improving PaperParser's functionality and user experience.\n",
    "\n",
    "Thank you!\n",
    "\n",
    "~ Team PaperParser (Christine, Harrison, Linnette, and Neel)"
   ]
  },
  {
   "cell_type": "code",
   "execution_count": null,
   "metadata": {},
   "outputs": [],
   "source": []
  }
 ],
 "metadata": {
  "anaconda-cloud": {},
  "kernelspec": {
   "display_name": "Python 3",
   "language": "python",
   "name": "python3"
  },
  "language_info": {
   "codemirror_mode": {
    "name": "ipython",
    "version": 3
   },
   "file_extension": ".py",
   "mimetype": "text/x-python",
   "name": "python",
   "nbconvert_exporter": "python",
   "pygments_lexer": "ipython3",
   "version": "3.6.8"
  }
 },
 "nbformat": 4,
 "nbformat_minor": 2
}

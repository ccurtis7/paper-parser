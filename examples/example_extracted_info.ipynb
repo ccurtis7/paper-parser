{
 "cells": [
  {
   "cell_type": "markdown",
   "metadata": {},
   "source": [
    "# Notebook demonstrating the use of the high-level summarization of a paper by a signel tool "
   ]
  },
  {
   "cell_type": "markdown",
   "metadata": {},
   "source": [
    "The module `paperparser.extracted_info` contains the class `SynthesisAndPerformanceSummary`, which takes a paper and summarizes the parsed performance metrics and synthesis parameters. Its use should be as shown below, but I have been struggling with import errors having to do with the pickle..."
   ]
  },
  {
   "cell_type": "code",
   "execution_count": 1,
   "metadata": {
    "collapsed": true
   },
   "outputs": [],
   "source": [
    "import sys\n",
    "sys.path.insert(0, '../paperparser')\n",
    "\n",
    "# Something about loading the trained model from the .pkl file requires this to be here so that the pkl importer can find the 'sentence_classifier'\n",
    "sys.path.insert(0, '../paperparser/read_paper')"
   ]
  },
  {
   "cell_type": "code",
   "execution_count": 2,
   "metadata": {
    "collapsed": false
   },
   "outputs": [
    {
     "name": "stderr",
     "output_type": "stream",
     "text": [
      "[nltk_data] Downloading package punkt to /Users/chair/nltk_data...\n",
      "[nltk_data]   Package punkt is already up-to-date!\n"
     ]
    }
   ],
   "source": [
    "import extracted_info"
   ]
  },
  {
   "cell_type": "code",
   "execution_count": 3,
   "metadata": {
    "collapsed": false
   },
   "outputs": [
    {
     "name": "stdout",
     "output_type": "stream",
     "text": [
      "You wish bud!\n"
     ]
    }
   ],
   "source": [
    "summary = extracted_info.SynthesisAndPerformanceSummary('journal_articles/Paper0.html')"
   ]
  },
  {
   "cell_type": "code",
   "execution_count": 5,
   "metadata": {
    "collapsed": false
   },
   "outputs": [
    {
     "data": {
      "text/plain": [
       "{'Parsed_Spincoat': [[],\n",
       "  [],\n",
       "  [],\n",
       "  [],\n",
       "  [],\n",
       "  [],\n",
       "  [],\n",
       "  [],\n",
       "  [],\n",
       "  [{'spin_coat': [{'spds': [{'spdvalue': '3,000', 'spdunits': 'r.p.m'}],\n",
       "      'times': [{'timevalue': '30', 'timeunits': 's'}]}]}],\n",
       "  []],\n",
       " 'Parsed_Anneal': [[],\n",
       "  [],\n",
       "  [],\n",
       "  [],\n",
       "  [],\n",
       "  [],\n",
       "  [],\n",
       "  [],\n",
       "  [{'anneal': [{'temps': [{'tempvalue': '100', 'tempunits': '°C'}],\n",
       "      'times': [{'timevalue': '10', 'timeunits': 'min'}]}]}],\n",
       "  [],\n",
       "  []],\n",
       " 'Parsed_PCE': [[],\n",
       "  [{'pce_pattern': [{'value': '14.4', 'units': '%'}]}],\n",
       "  [{'pce_pattern': [{'value': '16.5', 'units': '%'}]}],\n",
       "  [],\n",
       "  [{'pce_pattern': [{'value': '16.2', 'units': '%'}]}],\n",
       "  [{'pce_pattern': [{'value': '16.5', 'units': '%'}]}]]}"
      ]
     },
     "execution_count": 5,
     "metadata": {},
     "output_type": "execute_result"
    }
   ],
   "source": [
    "summary.relational_dict"
   ]
  },
  {
   "cell_type": "code",
   "execution_count": null,
   "metadata": {
    "collapsed": true
   },
   "outputs": [],
   "source": []
  },
  {
   "cell_type": "code",
   "execution_count": null,
   "metadata": {
    "collapsed": true
   },
   "outputs": [],
   "source": []
  },
  {
   "cell_type": "code",
   "execution_count": null,
   "metadata": {
    "collapsed": true
   },
   "outputs": [],
   "source": []
  },
  {
   "cell_type": "code",
   "execution_count": null,
   "metadata": {
    "collapsed": true
   },
   "outputs": [],
   "source": []
  },
  {
   "cell_type": "code",
   "execution_count": null,
   "metadata": {
    "collapsed": true
   },
   "outputs": [],
   "source": []
  },
  {
   "cell_type": "code",
   "execution_count": null,
   "metadata": {
    "collapsed": true
   },
   "outputs": [],
   "source": []
  }
 ],
 "metadata": {
  "anaconda-cloud": {},
  "kernelspec": {
   "display_name": "Python [conda env:plzplzlasttest]",
   "language": "python",
   "name": "conda-env-plzplzlasttest-py"
  },
  "language_info": {
   "codemirror_mode": {
    "name": "ipython",
    "version": 3
   },
   "file_extension": ".py",
   "mimetype": "text/x-python",
   "name": "python",
   "nbconvert_exporter": "python",
   "pygments_lexer": "ipython3",
   "version": "3.6.8"
  }
 },
 "nbformat": 4,
 "nbformat_minor": 1
}

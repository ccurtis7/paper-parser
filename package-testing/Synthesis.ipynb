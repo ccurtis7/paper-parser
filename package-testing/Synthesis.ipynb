{
 "cells": [
  {
   "cell_type": "markdown",
   "metadata": {},
   "source": [
    "## Initialization"
   ]
  },
  {
   "cell_type": "code",
   "execution_count": 17,
   "metadata": {},
   "outputs": [],
   "source": [
    "import spacy\n",
    "\n",
    "from chemdataextractor import Document\n",
    "from chemdataextractor.model import Compound\n",
    "from chemdataextractor.doc import Paragraph, Heading"
   ]
  },
  {
   "cell_type": "markdown",
   "metadata": {},
   "source": [
    "## Playing with two different synthetic paragraphs\n",
    "\n",
    "`text` is from the Angewandte paper out of Stanford.  The synthetic paragraph is not very straightforward.\n",
    "\n",
    "`text2` is taken from the Methods section of the Nature Nanotech paper out of the University of Toronto.  The synthetic paper is much more straightforward in this case.\n",
    "\n",
    "`text3` is taken from the Methods section of the Nature Materials paper from Korea.  The "
   ]
  },
  {
   "cell_type": "code",
   "execution_count": 18,
   "metadata": {},
   "outputs": [],
   "source": [
    "nlp = spacy.load('en_core_web_sm') # Load English dictionary from spaCy"
   ]
  },
  {
   "cell_type": "code",
   "execution_count": 19,
   "metadata": {},
   "outputs": [],
   "source": [
    "# Angewandte\n",
    "#text = 'Layered perovskites can be structurally derived from the 3D analogue by slicing along specific crystallographic planes.4 The interlayer separation and thickness of the inorganic layers can be controlled through the choice of organic cations.5 The inorganic layers of most layered perovskites comprise a single sheet (n=1) of corner‐sharing metal–halide octahedra sandwiching layers of organic cations.4 These 2D materials do not have electronic properties typically associated with good solar‐cell absorbers. Along with larger bandgaps compared to the 3D analogue (n=∞), the spatial confinement of the 2D structure and dielectric mismatch between organic and inorganic layers lead to strongly bound excitons with low mobility.6 Such tightly bound excitons are difficult to dissociate into free carriers at room temperature and the localized charge carriers are unlikely to reach the electron/hole selective contacts in a typical solar‐cell geometry. To access the more favorable electronic properties of the 3D structure, we sought an intermediate structure between the n=1 and n=∞ materials. We synthesized the n=3 member of the series (PEA)2(MA)n−1[PbnI3n+1] (n=number of Pb–I sheets in each inorganic layer), by combining (PEA)I, (MA)I, and PbI2 in a 2:2:3 stoichiometric ratio in a solvent mixture of nitromethane/acetone. Slow solvent evaporation afforded dark red crystals of (PEA)2(MA)2[Pb3I10] (1), the first crystallographically characterized n=3 lead perovskite (Figure 1).'"
   ]
  },
  {
   "cell_type": "code",
   "execution_count": 20,
   "metadata": {},
   "outputs": [],
   "source": [
    "# Nature Nanotechnology\n",
    "text2 = \"Perovskite film fabrication Different dimensionality perovskite [(PEA)2(CH3NH3)n−1PbnI3n+1] solutions was prepared by dissolving stoichiometric quantities of lead iodide (PbI2), methylammonium idodide (MAI) and PEAI in a dimethyl sulfoxide (DMSO)/ɣ-butyrolactone (1:1 volume ratio) mixture at 70 °C for 1 h with continuous stirring. The resulting solution was then filtered through a polytetrafluoroethylene (PTFE) filter (0.2 µm). The resulting solution was spin-coated onto the substrate via a two-step process at 1,000 r.p.m. and 5,000 r.p.m. for 10 s and 60 s, respectively. During the second spin step, 100 µl of chlorobenzene were poured onto the substrate. The resulting films were then annealed at 70 °C for 10 min to improve crystallization.\""
   ]
  },
  {
   "cell_type": "markdown",
   "metadata": {},
   "source": [
    "### Nature Nanotech paragraph: Playing with ChemDataExtractor"
   ]
  },
  {
   "cell_type": "code",
   "execution_count": 63,
   "metadata": {},
   "outputs": [],
   "source": [
    "# Formatting the Nature Nanotech paragraph according to ChemDataExtractor\n",
    "nat = Document(Heading(u'Perovskite film fabrication'), Paragraph(u'Different dimensionality perovskite [(PEA)2(CH3NH3)n−1PbnI3n+1] solutions was prepared by dissolving stoichiometric quantities of lead iodide (PbI2), methylammonium idodide (MAI) and PEAI in a dimethyl sulfoxide (DMSO)/ɣ-butyrolactone (1:1 volume ratio) mixture at 70 °C for 1 h with continuous stirring. The resulting solution was then filtered through a polytetrafluoroethylene (PTFE) filter (0.2 µm). The resulting solution was spin-coated onto the substrate via a two-step process at 1,000 r.p.m. and 5,000 r.p.m. for 10 s and 60 s, respectively. During the second spin step, 100 µl of chlorobenzene were poured onto the substrate. The resulting films were then annealed at 70 °C for 10 min to improve crystallization.'))"
   ]
  },
  {
   "cell_type": "code",
   "execution_count": 64,
   "metadata": {
    "scrolled": false
   },
   "outputs": [
    {
     "data": {
      "text/plain": [
       "[{'names': ['Perovskite'],\n",
       "  'spin_coat_steps': [{'value': '5,000', 'units': 'r.p.m.'},\n",
       "   {'value': '1,000', 'units': 'r.p.m.'}]}]"
      ]
     },
     "execution_count": 64,
     "metadata": {},
     "output_type": "execute_result"
    }
   ],
   "source": [
    "nat.records.serialize()"
   ]
  },
  {
   "cell_type": "code",
   "execution_count": 24,
   "metadata": {},
   "outputs": [
    {
     "data": {
      "text/plain": [
       "[[('Different', 'JJ'),\n",
       "  ('dimensionality', 'NN'),\n",
       "  ('perovskite', 'NN'),\n",
       "  ('[(PEA)2(CH3NH3)n−1PbnI3n+1]', 'NN'),\n",
       "  ('solutions', 'NNS'),\n",
       "  ('was', 'VBD'),\n",
       "  ('prepared', 'VBN'),\n",
       "  ('by', 'IN'),\n",
       "  ('dissolving', 'VBG'),\n",
       "  ('stoichiometric', 'JJ'),\n",
       "  ('quantities', 'NNS'),\n",
       "  ('of', 'IN'),\n",
       "  ('lead', 'NN'),\n",
       "  ('iodide', 'NN'),\n",
       "  ('(', '-LRB-'),\n",
       "  ('PbI2', 'NN'),\n",
       "  (')', '-RRB-'),\n",
       "  (',', ','),\n",
       "  ('methylammonium', 'NN'),\n",
       "  ('idodide', 'NN'),\n",
       "  ('(', '-LRB-'),\n",
       "  ('MAI', 'NN'),\n",
       "  (')', '-RRB-'),\n",
       "  ('and', 'CC'),\n",
       "  ('PEAI', 'NN'),\n",
       "  ('in', 'IN'),\n",
       "  ('a', 'DT'),\n",
       "  ('dimethyl', 'NN'),\n",
       "  ('sulfoxide', 'NN'),\n",
       "  ('(', '-LRB-'),\n",
       "  ('DMSO', 'NN'),\n",
       "  (')', '-RRB-'),\n",
       "  ('/', ':'),\n",
       "  ('ɣ-butyrolactone', 'NN'),\n",
       "  ('(', '-LRB-'),\n",
       "  ('1', 'CD'),\n",
       "  (':', ':'),\n",
       "  ('1', 'CD'),\n",
       "  ('volume', 'NN'),\n",
       "  ('ratio', 'NN'),\n",
       "  (')', '-RRB-'),\n",
       "  ('mixture', 'NN'),\n",
       "  ('at', 'IN'),\n",
       "  ('70', 'CD'),\n",
       "  ('°', 'NN'),\n",
       "  ('C', 'NN'),\n",
       "  ('for', 'IN'),\n",
       "  ('1', 'CD'),\n",
       "  ('h', 'NN'),\n",
       "  ('with', 'IN'),\n",
       "  ('continuous', 'JJ'),\n",
       "  ('stirring', 'NN'),\n",
       "  ('.', '.')],\n",
       " [('The', 'DT'),\n",
       "  ('resulting', 'VBG'),\n",
       "  ('solution', 'NN'),\n",
       "  ('was', 'VBD'),\n",
       "  ('then', 'RB'),\n",
       "  ('filtered', 'VBN'),\n",
       "  ('through', 'IN'),\n",
       "  ('a', 'DT'),\n",
       "  ('polytetrafluoroethylene', 'NN'),\n",
       "  ('(', '-LRB-'),\n",
       "  ('PTFE', 'NN'),\n",
       "  (')', '-RRB-'),\n",
       "  ('filter', 'NN'),\n",
       "  ('(', '-LRB-'),\n",
       "  ('0.2', 'CD'),\n",
       "  ('µm', 'NN'),\n",
       "  (')', '-RRB-'),\n",
       "  ('.', '.')],\n",
       " [('The', 'DT'),\n",
       "  ('resulting', 'VBG'),\n",
       "  ('solution', 'NN'),\n",
       "  ('was', 'VBD'),\n",
       "  ('spin', 'NN'),\n",
       "  ('-', 'HYPH'),\n",
       "  ('coated', 'VBN'),\n",
       "  ('onto', 'IN'),\n",
       "  ('the', 'DT'),\n",
       "  ('substrate', 'NN'),\n",
       "  ('via', 'IN'),\n",
       "  ('a', 'DT'),\n",
       "  ('two', 'CD'),\n",
       "  ('-', 'HYPH'),\n",
       "  ('step', 'NN'),\n",
       "  ('process', 'NN'),\n",
       "  ('at', 'IN'),\n",
       "  ('1,000', 'CD'),\n",
       "  ('r.p.m.', 'NN'),\n",
       "  ('and', 'CC'),\n",
       "  ('5,000', 'CD'),\n",
       "  ('r.p.m.', 'NN'),\n",
       "  ('for', 'IN'),\n",
       "  ('10', 'CD'),\n",
       "  ('s', 'NNS'),\n",
       "  ('and', 'CC'),\n",
       "  ('60', 'CD'),\n",
       "  ('s', 'NNS'),\n",
       "  (',', ','),\n",
       "  ('respectively', 'RB'),\n",
       "  ('.', '.')],\n",
       " [('During', 'IN'),\n",
       "  ('the', 'DT'),\n",
       "  ('second', 'JJ'),\n",
       "  ('spin', 'NN'),\n",
       "  ('step', 'NN'),\n",
       "  (',', ','),\n",
       "  ('100', 'CD'),\n",
       "  ('µl', 'NN'),\n",
       "  ('of', 'IN'),\n",
       "  ('chlorobenzene', 'NN'),\n",
       "  ('were', 'VBD'),\n",
       "  ('poured', 'VBN'),\n",
       "  ('onto', 'IN'),\n",
       "  ('the', 'DT'),\n",
       "  ('substrate', 'NN'),\n",
       "  ('.', '.')],\n",
       " [('The', 'DT'),\n",
       "  ('resulting', 'VBG'),\n",
       "  ('films', 'NNS'),\n",
       "  ('were', 'VBD'),\n",
       "  ('then', 'RB'),\n",
       "  ('annealed', 'VBN'),\n",
       "  ('at', 'IN'),\n",
       "  ('70', 'CD'),\n",
       "  ('°', 'NN'),\n",
       "  ('C', 'NN'),\n",
       "  ('for', 'IN'),\n",
       "  ('10', 'CD'),\n",
       "  ('min', 'NN'),\n",
       "  ('to', 'TO'),\n",
       "  ('improve', 'VB'),\n",
       "  ('crystallization', 'NN'),\n",
       "  ('.', '.')]]"
      ]
     },
     "execution_count": 24,
     "metadata": {},
     "output_type": "execute_result"
    }
   ],
   "source": [
    "nat.paragraphs[0].pos_tagged_tokens"
   ]
  },
  {
   "cell_type": "code",
   "execution_count": 25,
   "metadata": {},
   "outputs": [
    {
     "name": "stdout",
     "output_type": "stream",
     "text": [
      "Perovskite perovskite ADJ JJ amod Xxxxx True False\n",
      "film film NOUN NN compound xxxx True False\n",
      "fabrication fabrication NOUN NN compound xxxx True False\n",
      "Different different ADJ JJ amod Xxxxx True False\n",
      "dimensionality dimensionality NOUN NN compound xxxx True False\n",
      "perovskite perovskite NOUN NN ROOT xxxx True False\n",
      "[ [ PUNCT -LRB- punct [ False False\n",
      "( ( PUNCT -LRB- punct ( False False\n",
      "PEA)2(CH3NH3)n−1PbnI3n+1 pea)2(ch3nh3)n−1pbni3n+1 NOUN NNS nmod XXX)d(XXdXXd)x−dXxxXdx+d False False\n",
      "] ] PUNCT -RRB- punct ] False False\n",
      "solutions solution NOUN NNS nsubjpass xxxx True False\n",
      "was be VERB VBD auxpass xxx True True\n",
      "prepared prepare VERB VBN ROOT xxxx True False\n",
      "by by ADP IN agent xx True True\n",
      "dissolving dissolve VERB VBG pcomp xxxx True False\n",
      "stoichiometric stoichiometric ADJ JJ amod xxxx True False\n",
      "quantities quantity NOUN NNS dobj xxxx True False\n",
      "of of ADP IN prep xx True True\n",
      "lead lead NOUN NN pobj xxxx True False\n",
      "iodide iodide ADV RB advmod xxxx True False\n",
      "( ( PUNCT -LRB- punct ( False False\n",
      "PbI2 pbi2 PROPN NNP appos XxXd False False\n",
      ") ) PUNCT -RRB- punct ) False False\n",
      ", , PUNCT , punct , False False\n",
      "methylammonium methylammonium NOUN NN compound xxxx True False\n",
      "idodide idodide NOUN NN conj xxxx True False\n",
      "( ( PUNCT -LRB- punct ( False False\n",
      "MAI mai PROPN NNP appos XXX True False\n",
      ") ) PUNCT -RRB- punct ) False False\n",
      "and and CCONJ CC cc xxx True True\n",
      "PEAI peai ADV RB conj XXXX True False\n",
      "in in ADP IN prep xx True True\n",
      "a a DET DT det x True True\n",
      "dimethyl dimethyl ADJ JJ amod xxxx True False\n",
      "sulfoxide sulfoxide NOUN NN pobj xxxx True False\n",
      "( ( PUNCT -LRB- punct ( False False\n",
      "DMSO)/ɣ dmso)/ɣ ADJ JJ compound XXXX)/x False False\n",
      "- - PUNCT HYPH punct - False False\n",
      "butyrolactone butyrolactone NOUN NN nmod xxxx True False\n",
      "( ( PUNCT -LRB- punct ( False False\n",
      "1:1 1:1 NUM CD nummod d:d False False\n",
      "volume volume NOUN NN compound xxxx True False\n",
      "ratio ratio NOUN NN appos xxxx True False\n",
      ") ) PUNCT -RRB- punct ) False False\n",
      "mixture mixture NOUN NN parataxis xxxx True False\n",
      "at at ADP IN prep xx True True\n",
      "70 70 NUM CD nummod dd False False\n",
      "    SPACE _SP    False False\n",
      "° ° NOUN NN compound ° False False\n",
      "C c PROPN NNP pobj X True False\n",
      "for for ADP IN prep xxx True True\n",
      "1 1 NUM CD nummod d False False\n",
      "    SPACE _SP    False False\n",
      "h h NOUN NN pobj x True False\n",
      "with with ADP IN prep xxxx True True\n",
      "continuous continuous ADJ JJ amod xxxx True False\n",
      "stirring stirring NOUN NN pobj xxxx True False\n",
      ". . PUNCT . punct . False False\n",
      "The the DET DT det Xxx True False\n",
      "resulting result VERB VBG amod xxxx True False\n",
      "solution solution NOUN NN nsubjpass xxxx True False\n",
      "was be VERB VBD auxpass xxx True True\n",
      "then then ADV RB advmod xxxx True True\n",
      "filtered filter VERB VBN ROOT xxxx True False\n",
      "through through ADP IN prep xxxx True True\n",
      "a a DET DT det x True True\n",
      "polytetrafluoroethylene polytetrafluoroethylene NOUN NN pobj xxxx True False\n",
      "( ( PUNCT -LRB- punct ( False False\n",
      "PTFE ptfe PROPN NNP appos XXXX True False\n",
      ") ) PUNCT -RRB- punct ) False False\n",
      "filter filter NOUN NN dobj xxxx True False\n",
      "( ( PUNCT -LRB- punct ( False False\n",
      "0.2 0.2 NUM CD nummod d.d False False\n",
      "    SPACE _SP    False False\n",
      "µm µm NOUN NN appos xx True False\n",
      ") ) PUNCT -RRB- punct ) False False\n",
      ". . PUNCT . punct . False False\n",
      "The the DET DT det Xxx True False\n",
      "resulting result VERB VBG amod xxxx True False\n",
      "solution solution NOUN NN nsubj xxxx True False\n",
      "was be VERB VBD ROOT xxx True True\n",
      "spin spin NOUN NN npadvmod xxxx True False\n",
      "- - PUNCT HYPH punct - False False\n",
      "coated coat VERB VBN acomp xxxx True False\n",
      "onto onto ADP IN prep xxxx True True\n",
      "the the DET DT det xxx True True\n",
      "substrate substrate NOUN NN pobj xxxx True False\n",
      "via via ADP IN prep xxx True True\n",
      "a a DET DT det x True True\n",
      "two two NUM CD nummod xxx True True\n",
      "- - PUNCT HYPH punct - False False\n",
      "step step NOUN NN compound xxxx True False\n",
      "process process NOUN NN pobj xxxx True False\n",
      "at at ADP IN prep xx True True\n",
      "1,000 1,000 NUM CD nummod d,ddd False False\n",
      "    SPACE _SP    False False\n",
      "r.p.m r.p.m NOUN NN pobj x.x.x False False\n",
      ". . PUNCT . punct . False False\n",
      "and and CCONJ CC cc xxx True True\n",
      "5,000 5,000 NUM CD nummod d,ddd False False\n",
      "    SPACE _SP    False False\n",
      "r.p.m r.p.m NOUN NN conj x.x.x False False\n",
      ". . PUNCT . punct . False False\n",
      "for for ADP IN prep xxx True True\n",
      "10 10 NUM CD nummod dd False False\n",
      "    SPACE _SP    False False\n",
      "s s NOUN NN pobj x True False\n",
      "and and CCONJ CC cc xxx True True\n",
      "60 60 NUM CD nummod dd False False\n",
      "    SPACE _SP    False False\n",
      "s s VERB VBZ conj x True False\n",
      ", , PUNCT , punct , False False\n",
      "respectively respectively ADV RB advmod xxxx True False\n",
      ". . PUNCT . punct . False False\n",
      "During during ADP IN prep Xxxxx True False\n",
      "the the DET DT det xxx True True\n",
      "second second ADJ JJ amod xxxx True False\n",
      "spin spin NOUN NN compound xxxx True False\n",
      "step step NOUN NN pobj xxxx True False\n",
      ", , PUNCT , punct , False False\n",
      "100 100 NUM CD nsubjpass ddd False False\n",
      "    SPACE _SP    False False\n",
      "µl µl NOUN NN nsubjpass xx True False\n",
      "of of ADP IN prep xx True True\n",
      "chlorobenzene chlorobenzene NOUN NN pobj xxxx True False\n",
      "were be VERB VBD auxpass xxxx True True\n",
      "poured pour VERB VBN ROOT xxxx True False\n",
      "onto onto ADP IN prep xxxx True True\n",
      "the the DET DT det xxx True True\n",
      "substrate substrate NOUN NN pobj xxxx True False\n",
      ". . PUNCT . punct . False False\n",
      "The the DET DT det Xxx True False\n",
      "resulting result VERB VBG amod xxxx True False\n",
      "films film NOUN NNS nsubjpass xxxx True False\n",
      "were be VERB VBD auxpass xxxx True True\n",
      "then then ADV RB advmod xxxx True True\n",
      "annealed anneal VERB VBN ROOT xxxx True False\n",
      "at at ADP IN prep xx True True\n",
      "70 70 NUM CD nummod dd False False\n",
      "    SPACE _SP    False False\n",
      "° ° NOUN NN compound ° False False\n",
      "C c PROPN NNP pobj X True False\n",
      "for for ADP IN prep xxx True True\n",
      "10 10 NUM CD nummod dd False False\n",
      "    SPACE _SP    False False\n",
      "min min NOUN NN pobj xxx True False\n",
      "to to PART TO aux xx True True\n",
      "improve improve VERB VB advcl xxxx True False\n",
      "crystallization crystallization NOUN NN dobj xxxx True False\n",
      ". . PUNCT . punct . False False\n"
     ]
    }
   ],
   "source": [
    "sp_nat = nlp(text2)\n",
    "\n",
    "for token in sp_nat:\n",
    "    print(token.text, token.lemma_, token.pos_, token.tag_, token.dep_,\n",
    "          token.shape_, token.is_alpha, token.is_stop)"
   ]
  },
  {
   "cell_type": "code",
   "execution_count": 26,
   "metadata": {},
   "outputs": [],
   "source": [
    "#sp_ang = nlp(text)\n",
    "\n",
    "#for token in sp_ang:\n",
    "#    print(token.text, token.lemma_, token.pos_, token.tag_, token.dep_,\n",
    "#          token.shape_, token.is_alpha, token.is_stop)"
   ]
  },
  {
   "cell_type": "code",
   "execution_count": 27,
   "metadata": {},
   "outputs": [],
   "source": [
    "#angew = Document(text)"
   ]
  },
  {
   "cell_type": "code",
   "execution_count": 28,
   "metadata": {
    "scrolled": false
   },
   "outputs": [],
   "source": [
    "#angew"
   ]
  },
  {
   "cell_type": "markdown",
   "metadata": {},
   "source": [
    "## Defining Custom Properties in CDE\n",
    "\n",
    "I'm using mostly code from the CDE notebook to define a new property for spin-coating step(s)."
   ]
  },
  {
   "cell_type": "code",
   "execution_count": 35,
   "metadata": {},
   "outputs": [
    {
     "data": {
      "text/html": [
       "<div class=\"cde-document\">\n",
       "<h2 class=\"cde-title\">Perovskite film fabrication</h2>\n",
       "<p class=\"cde-paragraph\">Different dimensionality perovskite [(PEA)2(CH3NH3)n−1PbnI3n+1] solutions was prepared by dissolving stoichiometric quantities of lead iodide (PbI2), methylammonium idodide (MAI) and PEAI in a dimethyl sulfoxide (DMSO)/ɣ-butyrolactone (1:1 volume ratio) mixture at 70 °C for 1 h with continuous stirring. The resulting solution was then filtered through a polytetrafluoroethylene (PTFE) filter (0.2 µm). The resulting solution was spin-coated onto the substrate via a two-step process at 1,000 r.p.m. and 5,000 r.p.m. for 10 s and 60 s, respectively. During the second spin step, 100 µl of chlorobenzene were poured onto the substrate. The resulting films were then annealed at 70 °C for 10 min to improve crystallization.</p>\n",
       "</div>"
      ],
      "text/plain": [
       "<Document: 2 elements>"
      ]
     },
     "execution_count": 35,
     "metadata": {},
     "output_type": "execute_result"
    }
   ],
   "source": [
    "nat"
   ]
  },
  {
   "cell_type": "code",
   "execution_count": 30,
   "metadata": {},
   "outputs": [],
   "source": [
    "from chemdataextractor.model import BaseModel, StringType, ListType, ModelType\n",
    "\n",
    "class SpinCoat(BaseModel):\n",
    "    value = StringType()\n",
    "    units = StringType()\n",
    "    \n",
    "Compound.spin_coat_steps = ListType(ModelType(SpinCoat))"
   ]
  },
  {
   "cell_type": "code",
   "execution_count": 80,
   "metadata": {},
   "outputs": [],
   "source": [
    "from __future__ import absolute_import\n",
    "from __future__ import division\n",
    "from __future__ import print_function\n",
    "from __future__ import unicode_literals\n",
    "import logging\n",
    "\n",
    "#from chemdataextractor.model.cem import chemical_name"
   ]
  },
  {
   "cell_type": "code",
   "execution_count": 91,
   "metadata": {
    "scrolled": true
   },
   "outputs": [
    {
     "data": {
      "text/plain": [
       "'^r\\\\.?^p\\\\.?^m\\\\.?$'"
      ]
     },
     "execution_count": 91,
     "metadata": {},
     "output_type": "execute_result"
    }
   ],
   "source": [
    "u'^r\\.?^p\\.?^m\\.?$'# == 'r.p.m.'"
   ]
  },
  {
   "cell_type": "code",
   "execution_count": 110,
   "metadata": {
    "scrolled": true
   },
   "outputs": [],
   "source": [
    "import re\n",
    "from chemdataextractor.parse import R, I, W, Optional, merge\n",
    "from chemdataextractor.parse.cem import chemical_name\n",
    "\n",
    "solvent = chemical_name('solvent')\n",
    "units = (R(u'^\\br(\\.)?p(\\.)?m(\\.)?\\b$') | R(u'^r(\\.)?c(\\.)?f(\\.)?$') | R(u'^([x×]?)( )?g$'))(u'units')\n",
    "#Optional(W('/')).hide() + W(u'^r\\.?p\\.?m\\.?')\n",
    "#R('^(re)?crystalli[sz](ation|ed)$', re.I)\n",
    "value = R(u'^\\d+(,\\d+)?$')(u'value')\n",
    "spinspd = (value + units)(u'spinspd')\n",
    "\n",
    "from chemdataextractor.parse.base import BaseParser\n",
    "from chemdataextractor.utils import first\n",
    "\n",
    "class SpinCoatParser(BaseParser):\n",
    "    root = spinspd\n",
    "\n",
    "    def interpret(self, result, start, end):\n",
    "        compound = Compound(\n",
    "            spin_coat_steps=[\n",
    "                SpinCoat(\n",
    "                    solvent=first(result.xpath('./solvent/text()')),\n",
    "                    value=first(result.xpath('./value/text()')),\n",
    "                    units=first(result.xpath('./units/text()'))\n",
    "                )\n",
    "            ]\n",
    "        )\n",
    "        yield compound"
   ]
  },
  {
   "cell_type": "code",
   "execution_count": 93,
   "metadata": {},
   "outputs": [],
   "source": [
    "Paragraph.parsers = [SpinCoatParser()]"
   ]
  },
  {
   "cell_type": "code",
   "execution_count": 94,
   "metadata": {},
   "outputs": [
    {
     "data": {
      "text/plain": [
       "[{'names': ['Perovskite'],\n",
       "  'spin_coat_steps': [{'value': '5,000', 'units': 'r.p.m.'},\n",
       "   {'value': '1,000', 'units': 'r.p.m.'}]}]"
      ]
     },
     "execution_count": 94,
     "metadata": {},
     "output_type": "execute_result"
    }
   ],
   "source": [
    "nat.records.serialize()"
   ]
  },
  {
   "cell_type": "code",
   "execution_count": 113,
   "metadata": {},
   "outputs": [
    {
     "data": {
      "text/plain": [
       "[{'spin_coat_steps': [{'value': '1,000', 'units': 'r.p.m.'}]},\n",
       " {'spin_coat_steps': [{'value': '5,000', 'units': 'r.p.m.'}]}]"
      ]
     },
     "execution_count": 113,
     "metadata": {},
     "output_type": "execute_result"
    }
   ],
   "source": [
    "d = Document((u' The resulting solution was spin-coated onto the substrate via a two-step process at (1,000 r.p.m.) and 5,000 r.p.m. for 10 s and 60 s, respectively.')\n",
    ")\n",
    "\n",
    "d.records.serialize()"
   ]
  },
  {
   "cell_type": "code",
   "execution_count": null,
   "metadata": {},
   "outputs": [],
   "source": []
  },
  {
   "cell_type": "code",
   "execution_count": null,
   "metadata": {},
   "outputs": [],
   "source": []
  }
 ],
 "metadata": {
  "kernelspec": {
   "display_name": "Python 3",
   "language": "python",
   "name": "python3"
  },
  "language_info": {
   "codemirror_mode": {
    "name": "ipython",
    "version": 3
   },
   "file_extension": ".py",
   "mimetype": "text/x-python",
   "name": "python",
   "nbconvert_exporter": "python",
   "pygments_lexer": "ipython3",
   "version": "3.6.8"
  }
 },
 "nbformat": 4,
 "nbformat_minor": 2
}

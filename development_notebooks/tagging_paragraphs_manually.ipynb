{
 "cells": [
  {
   "cell_type": "code",
   "execution_count": 26,
   "metadata": {},
   "outputs": [],
   "source": [
    "import sys\n",
    "sys.path.insert(0,'../paperparser/read_paper/')\n",
    "import extract_sentences"
   ]
  },
  {
   "cell_type": "code",
   "execution_count": 27,
   "metadata": {},
   "outputs": [
    {
     "data": {
      "text/html": [
       "<p class=\"cde-paragraph\">For devices, the perovskites were prepared by spin-coating a 40 wt% perovskite solution at 2,000 r.p.m. in a nitrogen-filled glovebox. After spin-coating, the films were annealed at 100 °C for 5 min, 100 °C for 2 h and 150 °C for 40 min for perovskites derived from PbAc2, PbCl2 and PbI2 routes, respectively. The spiro-OMeTAD hole-transporting layer was then deposited from a 66-mM chlorobenzene solution containing additives of lithium bis(trifluoromethanesulfonyl)imide and 4-tert-butylpyridine. Finally, 120-nm-silver electrodes were thermally evaporated under vacuum of ~10−6 Torr, at a rate of ~0.1 nm s−1, to complete the devices.</p>"
      ],
      "text/plain": [
       "Paragraph(id='methods-content', references=[], text='For devices, the perovskites were prepared by spin-coating a 40 wt% perovskite solution at 2,000\\u2009r.p.m. in a nitrogen-filled glovebox. After spin-coating, the films were annealed at 100\\u2009°C for 5\\u2009min, 100\\u2009°C for 2\\u2009h and 150\\u2009°C for 40\\u2009min for perovskites derived from PbAc2, PbCl2 and PbI2 routes, respectively. The spiro-OMeTAD hole-transporting layer was then deposited from a 66-mM chlorobenzene solution containing additives of lithium bis(trifluoromethanesulfonyl)imide and 4-tert-butylpyridine. Finally, 120-nm-silver electrodes were thermally evaporated under vacuum of ~10−6\\u2009Torr, at a rate of ~0.1\\u2009nm\\u2009s−1, to complete the devices.')"
      ]
     },
     "execution_count": 27,
     "metadata": {},
     "output_type": "execute_result"
    }
   ],
   "source": [
    "doc = extract_sentences.read_html_paper('journal_articles/Paper6.html')\n",
    "doc.elements[142]\n",
    "doc.elements[146]"
   ]
  },
  {
   "cell_type": "code",
   "execution_count": 33,
   "metadata": {},
   "outputs": [
    {
     "data": {
      "text/html": [
       "<p class=\"cde-paragraph\">PEDOT:PSS was spin-cast onto the ITO surface at 4,000 r.p.m. and then annealed at 120 °C for 15 min in ambient air. The NiOx precursor was spin-coated on the ITO and annealed at 300 °C for 60 min in ambient air. The substrates were then transferred into a nitrogen glove box for coating of the perovskite layer, where a two-step spin-coating process was adopted. (It was found that a one-step solution process cannot form a high quality of perovskite film on the NiOx20,21, possibly due to the surface roughness of the NiOx inducing fast crystallization in the perovskite, so the two-step process was adopted here to obtain a sufficiently high quality perovskite layer35.) The PbI2 layer was spin-coated first using a 460 mg ml–1 solution and dried at 70 °C for 10 min, then 50 mg ml–1 of CH3NH3I solution was coated onto the PbI2 layer, after which the film was taken out for annealing in ambient air at 100 °C for 2 h. For PCBM coating, a 2% PCBM in chlorobenzene solution was coated onto the perovskite layer. For the ZnO layer, different thicknesses of ZnO were coated onto the perovskite surface by controlling the spin speed. Finally, the device was transferred to a vacuum chamber for Al electrode evaporation. The device area was 0.1 cm2. J–V characteristics of the photovoltaic cells were measured using a Keithley 2400 source unit under a simulated AM 1.5G spectrum. With an Oriel 9600 solar simulator, the light intensity was calibrated by a KG-5 Si diode. I–V measurements were carried out in a nitrogen glove box. The devices were measured in reverse scan (1.2 V → 0 V, step 0.02 V, delay time 200 ms) and forward scan (0 V → 1.2 V, step 0.02 V, delay time 200 ms). The differences between reverse and forward scans are shown in Fig. 5c, Supplementary Fig. 13 and Supplementary Table 6). The devices were taken out for EQE measurements using an Enli tech (Taiwan) EQE measurement system.</p>"
      ],
      "text/plain": [
       "Paragraph(id='methods-content', references=[], text='PEDOT:PSS was spin-cast onto the ITO surface at 4,000\\u2005r.p.m. and then annealed at 120\\u2005°C for 15 min in ambient air. The NiOx precursor was spin-coated on the ITO and annealed at 300\\u2005°C for 60 min in ambient air. The substrates were then transferred into a nitrogen glove box for coating of the perovskite layer, where a two-step spin-coating process was adopted. (It was found that a one-step solution process cannot form a high quality of perovskite film on the NiOx20,21, possibly due to the surface roughness of the NiOx inducing fast crystallization in the perovskite, so the two-step process was adopted here to obtain a sufficiently high quality perovskite layer35.) The PbI2 layer was spin-coated first using a 460\\u2005mg\\u2005ml–1 solution and dried at 70\\u2005°C for 10 min, then 50\\u2005mg\\u2005ml–1 of CH3NH3I solution was coated onto the PbI2 layer, after which the film was taken out for annealing in ambient air at 100\\u2005°C for 2\\u2005h. For PCBM coating, a 2% PCBM in chlorobenzene solution was coated onto the perovskite layer. For the ZnO layer, different thicknesses of ZnO were coated onto the perovskite surface by controlling the spin speed. Finally, the device was transferred to a vacuum chamber for Al electrode evaporation. The device area was 0.1\\u2005cm2. J–V characteristics of the photovoltaic cells were measured using a Keithley 2400 source unit under a simulated AM 1.5G spectrum. With an Oriel 9600 solar simulator, the light intensity was calibrated by a KG-5 Si diode. I–V measurements were carried out in a nitrogen glove box. The devices were measured in reverse scan (1.2\\u2005V\\u2009→\\u20090\\u2005V, step 0.02\\u2005V, delay time 200\\u2005ms) and forward scan (0\\u2005V\\u2009→\\u20091.2\\u2005V, step 0.02\\u2005V, delay time 200\\u2005ms). The differences between reverse and forward scans are shown in Fig.\\xa05c, Supplementary Fig. 13 and Supplementary Table 6). The devices were taken out for EQE measurements using an Enli tech (Taiwan) EQE measurement system.')"
      ]
     },
     "execution_count": 33,
     "metadata": {},
     "output_type": "execute_result"
    }
   ],
   "source": [
    "doc = extract_sentences.read_html_paper('journal_articles/Paper7.html')\n",
    "doc.elements[130]"
   ]
  },
  {
   "cell_type": "code",
   "execution_count": 38,
   "metadata": {},
   "outputs": [
    {
     "data": {
      "text/html": [
       "<p class=\"cde-paragraph\">A ZSO thin film was prepared by spin coating the colloidal dispersion of ZSO particles onto ITO-coated glass/PEN substrate at 3,000 r.p.m. for 30 s, followed by drying on a hot plate at 100 °C for 3 min. To control film thickness, the procedure was repeated four times. After baking at 100 °C for 1 h in air, the perovskite layer was deposited onto the resulting ZSO film by a consecutive two-step spin coating process at 1,000 and 5,000 r.p.m. for 10 and 20 s, respectively, from the mixture solution of methylammonium iodide (CH3NH3I) and PbI2. During the second spin coating step, the film was treated with toluene drop-casting, and then was dried on a hot plate at 100 °C for 10 min. The detailed preparation of the CH3NH3I has been described in previous work3. A solution of poly(triarylamine) (EM index, Mn=17,500 g mol−1, 15 mg in toluene 1.5 ml) was mixed with 15 μl of a solution of lithium bistrifluoromethanesulphonimidate (170 mg) in acetonitrile (1 ml) and 7.5 μl 4-tert-butylpyridine. The resulting solution was spin coated on the CH3NH3PbI3/ZSO thin film at 3,000 r.p.m. for 30 s. Finally, an Au counterelectrode was deposited by thermal evaporation.</p>"
      ],
      "text/plain": [
       "Paragraph(id='methods-content', references=[], text='A ZSO thin film was prepared by spin coating the colloidal dispersion of ZSO particles onto ITO-coated glass/PEN substrate at 3,000\\u2009r.p.m. for 30\\u2009s, followed by drying on a hot plate at 100\\u2009°C for 3\\u2009min. To control film thickness, the procedure was repeated four times. After baking at 100\\u2009°C for 1\\u2009h in air, the perovskite layer was deposited onto the resulting ZSO film by a consecutive two-step spin coating process at 1,000 and 5,000\\u2009r.p.m. for 10 and 20\\u2009s, respectively, from the mixture solution of methylammonium iodide (CH3NH3I) and PbI2. During the second spin coating step, the film was treated with toluene drop-casting, and then was dried on a hot plate at 100\\u2009°C for 10\\u2009min. The detailed preparation of the CH3NH3I has been described in previous work3. A solution of poly(triarylamine) (EM index, Mn=17,500\\u2009g\\u2009mol−1, 15\\u2009mg in toluene 1.5\\u2009ml) was mixed with 15\\u2009μl of a solution of lithium bistrifluoromethanesulphonimidate (170\\u2009mg) in acetonitrile (1\\u2009ml) and 7.5\\u2009μl 4-tert-butylpyridine. The resulting solution was spin coated on the CH3NH3PbI3/ZSO thin film at 3,000\\u2009r.p.m. for 30\\u2009s. Finally, an Au counterelectrode was deposited by thermal evaporation.')"
      ]
     },
     "execution_count": 38,
     "metadata": {},
     "output_type": "execute_result"
    }
   ],
   "source": [
    "doc = extract_sentences.read_html_paper('journal_articles/Paper8.html')\n",
    "doc.elements[115]"
   ]
  },
  {
   "cell_type": "code",
   "execution_count": 47,
   "metadata": {},
   "outputs": [
    {
     "data": {
      "text/html": [
       "<p class=\"cde-paragraph\">FTO-coated glass with sheet resistance of 14 Ω sq−1 was washed by sonication with deionized water, ethanol and acetone and then treated with oxygen plasma for two minutes. A compact layer of TiO2 was deposited on the FTO substrate by spin-coating the titanium precursor (0.24 M titanium isopropoxide and 0.12 M HCl in ethanol) at 5000 r.p.m. for 60 s following by calcination on a hotplate at 500 oC for 40 min. Subsequently, the perovskite solution was spin-coated on the cooled TiO2/FTO substrate in a nitrogen-filled glovebox at 3000 r.p.m. for 60 s. It was annealed on a hotplate at 100 oC for the reaction and crystallization of the perovskite. The optimized annealing time for the above-mentioned five precursors is 45 min, 10 min, 15 min, 23 min and 33 min, respectively. Then, the HTM, spiro-OMeTAD, was deposited by spin coating a solution (72.5 mg sprio-OMeTAD, 42.7 μL 4-tert-butylpyridine (tBP) and 26.3 μL lithium-bis(trifluoromethanesulfonyl)imide (Li-TSFI) stock solution (520 mg mL-1 in acetonitrile) in 1 mL chlorobenzene) at 5000 r.p.m. for 60 s. After oxidizing the HTM layer in air for 15 h, the cell was completed by thermally evaporating a 100 nm-thick silver layer.</p>"
      ],
      "text/plain": [
       "Paragraph(id='methods-content', references=[], text='FTO-coated glass with sheet resistance of 14 Ω sq−1 was washed by sonication with deionized water, ethanol and acetone and then treated with oxygen plasma for two minutes. A compact layer of TiO2 was deposited on the FTO substrate by spin-coating the titanium precursor (0.24\\u2009M titanium isopropoxide and 0.12\\u2009M HCl in ethanol) at 5000\\u2009r.p.m. for 60\\u2009s following by calcination on a hotplate at 500\\u2009oC for 40\\u2009min. Subsequently, the perovskite solution was spin-coated on the cooled TiO2/FTO substrate in a nitrogen-filled glovebox at 3000\\u2009r.p.m. for 60\\u2009s. It was annealed on a hotplate at 100\\u2009oC for the reaction and crystallization of the perovskite. The optimized annealing time for the above-mentioned five precursors is 45\\u2009min, 10\\u2009min, 15\\u2009min, 23\\u2009min and 33\\u2009min, respectively. Then, the HTM, spiro-OMeTAD, was deposited by spin coating a solution (72.5\\u2009mg sprio-OMeTAD, 42.7\\u2009μL 4-tert-butylpyridine (tBP) and 26.3\\u2009μL lithium-bis(trifluoromethanesulfonyl)imide (Li-TSFI) stock solution (520\\u2009mg mL-1 in acetonitrile) in 1\\u2009mL chlorobenzene) at 5000\\u2009r.p.m. for 60 s. After oxidizing the HTM layer in air for 15\\u2009h, the cell was completed by thermally evaporating a 100\\u2009nm-thick silver layer.')"
      ]
     },
     "execution_count": 47,
     "metadata": {},
     "output_type": "execute_result"
    }
   ],
   "source": [
    "doc = extract_sentences.read_html_paper('journal_articles/Paper9.html')\n",
    "doc.elements[123]\n",
    "doc.elements[125]"
   ]
  },
  {
   "cell_type": "code",
   "execution_count": 51,
   "metadata": {},
   "outputs": [
    {
     "data": {
      "text/html": [
       "<p class=\"cde-paragraph\">FTO glass plates with high transparency in the visible range were etched with a laser to form two detached electrode pattern before being ultrasonically cleaned with detergent, deionized water and ethanol successively. After that, the patterned substrates were coated with a roughly 100 nm compact TiO2 layer by aerosol spray pyrolysis at 450°C. After cooling down to room temperature naturally, a 1 μm TiO2 nanocrystalline layer (PASOL HPW-18NR) was deposited on top of the compact layer by screen printing and then sintered at 500°C for 30 min. Followed, a 1 μm ZrO2 spacer layer and a 10 μm mesoscopic carbon layer was printed on the top of the TiO2 nanocrystalline layer successively, and then the films were sintered at 400°C for 30 min (See Figure S4 ESI†). After cooling down, 5 μL of the CH3NH3PbI3 precursor (0.123 g CH3NH3I and 0.3625 g PbI2 were mixed in 1 mL γ-butyrolactone) was dipped on the top of the mesoscopic carbon layer. Then the devices were dried at 50°C on a hot plate under dark. During the drying procedure, the coated devices changed color from light yellow to dark brown, indicating the accomplishment of the solar cell.</p>"
      ],
      "text/plain": [
       "Paragraph(id='methods-content', references=[], text='FTO glass plates with high transparency in the visible range were etched with a laser to form two detached electrode pattern before being ultrasonically cleaned with detergent, deionized water and ethanol successively. After that, the patterned substrates were coated with a roughly 100\\u2005nm compact TiO2 layer by aerosol spray pyrolysis at 450°C. After cooling down to room temperature naturally, a 1\\u2005μm TiO2 nanocrystalline layer (PASOL HPW-18NR) was deposited on top of the compact layer by screen printing and then sintered at 500°C for 30\\u2005min. Followed, a 1\\u2005μm ZrO2 spacer layer and a 10\\u2005μm mesoscopic carbon layer was printed on the top of the TiO2 nanocrystalline layer successively, and then the films were sintered at 400°C for 30\\u2005min (See Figure S4 ESI†). After cooling down, 5\\u2005μL of the CH3NH3PbI3 precursor (0.123\\u2005g CH3NH3I and 0.3625\\u2005g PbI2 were mixed in 1\\u2005mL γ-butyrolactone) was dipped on the top of the mesoscopic carbon layer. Then the devices were dried at 50°C on a hot plate under dark. During the drying procedure, the coated devices changed color from light yellow to dark brown, indicating the accomplishment of the solar cell.')"
      ]
     },
     "execution_count": 51,
     "metadata": {},
     "output_type": "execute_result"
    }
   ],
   "source": [
    "doc = extract_sentences.read_html_paper('journal_articles/Paper10.html')\n",
    "doc.elements[105]"
   ]
  },
  {
   "cell_type": "code",
   "execution_count": null,
   "metadata": {},
   "outputs": [],
   "source": []
  }
 ],
 "metadata": {
  "kernelspec": {
   "display_name": "Python 3",
   "language": "python",
   "name": "python3"
  },
  "language_info": {
   "codemirror_mode": {
    "name": "ipython",
    "version": 3
   },
   "file_extension": ".py",
   "mimetype": "text/x-python",
   "name": "python",
   "nbconvert_exporter": "python",
   "pygments_lexer": "ipython3",
   "version": "3.6.8"
  }
 },
 "nbformat": 4,
 "nbformat_minor": 2
}

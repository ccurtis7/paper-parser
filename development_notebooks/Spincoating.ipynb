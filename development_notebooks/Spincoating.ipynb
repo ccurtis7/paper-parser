{
 "cells": [
  {
   "cell_type": "markdown",
   "metadata": {},
   "source": [
    "## Initialization"
   ]
  },
  {
   "cell_type": "code",
   "execution_count": null,
   "metadata": {},
   "outputs": [],
   "source": [
    "from __future__ import absolute_import\n",
    "from __future__ import division\n",
    "from __future__ import print_function\n",
    "from __future__ import unicode_literals\n",
    "\n",
    "import logging\n",
    "import re\n",
    "\n",
    "from chemdataextractor import Document\n",
    "from chemdataextractor.model import Compound, BaseModel, \\\n",
    "                                    StringType, ListType, ModelType\n",
    "from chemdataextractor.doc import Paragraph, Heading\n",
    "from chemdataextractor.parse import R, I, W, Optional, merge, ZeroOrMore, OneOrMore\n",
    "from chemdataextractor.parse.cem import chemical_name\n",
    "from chemdataextractor.parse.base import BaseParser\n",
    "from chemdataextractor.utils import first"
   ]
  },
  {
   "cell_type": "markdown",
   "metadata": {},
   "source": [
    "### Glossary for Regular Expression Parsing"
   ]
  },
  {
   "cell_type": "markdown",
   "metadata": {},
   "source": [
    "`.parse`:\n",
    "\n",
    "* `R(pattern)`: match token text with regular expression\n",
    "* `I(match)`: case-insensitive match token text\n",
    "* `W(match)`: match token text exactly\n",
    "* `T(match)`: match tag exactly\n",
    "* `Optional(expr)`: abstract class for combining and post-processing parsed tokens\n",
    "* `merge(tokens, start, result)`: join tokens into a single string with no spaces\n",
    "* `ZeroOrMore(expr)`: optional repetition of zero or more of the given expression\n",
    "* `OneOrMore(expr)`: repetition of one or more of the given expression\n",
    "* `Not(expr):` check ahead to disallow a match with the given parse expression"
   ]
  },
  {
   "cell_type": "markdown",
   "metadata": {},
   "source": [
    "### Outlining Spincoat Parameter Extraction\n",
    "\n",
    "    {'Synthesis' : {\n",
    "                'spincoat' : {\n",
    "                    'time' : {\n",
    "                        'value' : (number),\n",
    "                        'units' : 's',\n",
    "                        },\n",
    "                    },\n",
    "                'anneal' : {\n",
    "                    'time' : {\n",
    "                        'value' : (number),\n",
    "                        'units' : 's',\n",
    "                        },\n",
    "                    'temperature' : {\n",
    "                        'value' : (number),\n",
    "                        'units' : 'K',\n",
    "                        },\n",
    "                etc...\n",
    "    }\n",
    "\n",
    "Structuring my code to fit the format:\n",
    "\n",
    "    create 'spincoat' class to parse spincoat spds\n",
    "    spincoat: (value) (units)\n",
    "        create 'time' subclass in the spincoat class\n",
    "        time: (value) (units)\n",
    "    create 'anneal' class to parse annealing conditions\n",
    "        create 'time' subclass in the anneal class\n",
    "        time: (value) (units)\n",
    "        create 'temperature' subclass in the anneal class\n",
    "        temperature: (value) (units)"
   ]
  },
  {
   "cell_type": "markdown",
   "metadata": {},
   "source": [
    "#### Data Structure for ir.py (CDE) vs my preferred implementation\n",
    "\n",
    "IR data structure:\n",
    "\n",
    "    ir_spectra:\n",
    "     solvent\n",
    "     units\n",
    "     \\\n",
    "      \\\n",
    "       pk\n",
    "       pkunits\n",
    "       strength\n",
    "       bond\n",
    "     \\\n",
    "      \\\n",
    "      pk\n",
    "      pkunits\n",
    "      strength\n",
    "      bond\n",
    "     ...etc.\n",
    " \n",
    "My proposed data structure:\n",
    "\n",
    "    spin_coat:\n",
    "     solvent\n",
    "     units\n",
    "     \\\n",
    "      \\\n",
    "       spinspd\n",
    "       spdunits\n",
    "       time\n",
    "       timeunits\n",
    "     \\\n",
    "      \\\n",
    "       spinspd\n",
    "       spdunits\n",
    "       time\n",
    "       timeunits"
   ]
  },
  {
   "cell_type": "code",
   "execution_count": null,
   "metadata": {},
   "outputs": [],
   "source": [
    "# Creating SpinStep and SpinCoat class with various properties: speed, time, temperature, and respective units.\n",
    "class SpinStep(BaseModel):\n",
    "    \"\"\"\n",
    "    Classification for each spin-coating step\n",
    "    \"\"\"\n",
    "    spd = StringType()\n",
    "    spdunits = StringType(contextual=True)\n",
    "    #time = StringType()\n",
    "    #timeunits = StringType()\n",
    "    #temp = StringType()\n",
    "    #tempunits = StringType()\n",
    "\n",
    "class SpinCoat(BaseModel):\n",
    "    \"\"\"\n",
    "    Class for full list of spin-coating steps for entire spin-coating process.\n",
    "    \"\"\"\n",
    "    solvent = StringType(contextual=True)\n",
    "    steps = ListType(ModelType(SpinStep))\n",
    "    #spd = StringType()\n",
    "    #spdunits = StringType()"
   ]
  },
  {
   "cell_type": "markdown",
   "metadata": {},
   "source": [
    "### Associating Parameters with a Chemical"
   ]
  },
  {
   "cell_type": "code",
   "execution_count": null,
   "metadata": {},
   "outputs": [],
   "source": [
    "#Compound.synthesis = ListType(ModelType(Synthesis))\n",
    "Compound.spin_coat = ListType(ModelType(SpinCoat))\n",
    "#Compound.anneal = ListType(ModelType(Anneal))"
   ]
  },
  {
   "cell_type": "markdown",
   "metadata": {},
   "source": [
    "### Defining Parameters for the Parser"
   ]
  },
  {
   "cell_type": "code",
   "execution_count": null,
   "metadata": {},
   "outputs": [],
   "source": [
    "# Adding GBL to the solvents list\n",
    "gbl = (I('GBL') | R('^γ-?[bB]?utyrolactone$'))\n",
    "solvent = (gbl | chemical_name)('solvent').add_action(join)"
   ]
  },
  {
   "cell_type": "code",
   "execution_count": null,
   "metadata": {
    "scrolled": true
   },
   "outputs": [],
   "source": [
    "# Deliminator\n",
    "delim = R('^[;:,\\./]$').hide()\n",
    "\n",
    "# Defining formats for spin-coating value and units\n",
    "spdunits = Optional(R(u'^r(\\.)?p(\\.)?m(\\.)?$') | R(u'^r(\\.)?c(\\.)?f(\\.)?$') | R(u'^([x×]?)(\\s?)?g$'))(u'spdunits').add_action(merge)\n",
    "spd = (Optional(W('(')).hide() + R(u'^\\d+(,\\d+)[0][0]$')(u'spd') + Optional(W(')')).hide())\n",
    "\n",
    "step = (spd + ZeroOrMore(spdunits))('step')\n",
    "steps = (step + ZeroOrMore(ZeroOrMore(delim | W('and')).hide() + step))('steps')\n",
    "\n",
    "spincoat = (steps + Optional(delim))"
   ]
  },
  {
   "cell_type": "code",
   "execution_count": null,
   "metadata": {},
   "outputs": [],
   "source": [
    "class SpinCoatParser(BaseParser):\n",
    "    root = spincoat\n",
    "\n",
    "    def interpret(self, result, start, end):\n",
    "        c = Compound()\n",
    "        s = SpinCoat(\n",
    "            solvent=first(result.xpath('./solvent/text()'))\n",
    "        )\n",
    "        spdunits = first(result.xpath('./spdunits/text()'))\n",
    "        for step in result.xpath('./steps/step'):\n",
    "            spin_step = SpinSpd(\n",
    "                spd=first(spd_result.xpath('./spd/text()')),\n",
    "                spdunits=spdunits\n",
    "            )\n",
    "            s.steps.append(spin_step)\n",
    "        c.spin_coat.append(s)\n",
    "        yield c"
   ]
  },
  {
   "cell_type": "markdown",
   "metadata": {},
   "source": [
    "### Parsers"
   ]
  },
  {
   "cell_type": "code",
   "execution_count": null,
   "metadata": {},
   "outputs": [],
   "source": [
    "Paragraph.parsers = [SpinCoatParser()]"
   ]
  },
  {
   "cell_type": "markdown",
   "metadata": {},
   "source": [
    "## Testing Outputs"
   ]
  },
  {
   "cell_type": "code",
   "execution_count": null,
   "metadata": {},
   "outputs": [],
   "source": [
    "d = Document(u'The resulting solution was coated onto the mp-TiO2/bl-TiO2/FTO substrate by a consecutive two-step spin-coating process at 1,000 and 5,000 r.p.m for 10 and 20 s, respectively.')\n",
    "\n",
    "d.records.serialize()"
   ]
  },
  {
   "cell_type": "code",
   "execution_count": null,
   "metadata": {},
   "outputs": [],
   "source": []
  },
  {
   "cell_type": "code",
   "execution_count": null,
   "metadata": {},
   "outputs": [],
   "source": []
  },
  {
   "cell_type": "code",
   "execution_count": null,
   "metadata": {},
   "outputs": [],
   "source": [
    "sp_nm = nlp(ptext)\n",
    "\n",
    "for token in sp_nm:\n",
    "    print(token.text, token.lemma_, token.pos_, token.tag_, token.dep_,\n",
    "          token.shape_, token.is_alpha, token.is_stop)"
   ]
  },
  {
   "cell_type": "markdown",
   "metadata": {},
   "source": [
    "## Importing test synthesis paragraph and sentence"
   ]
  },
  {
   "cell_type": "code",
   "execution_count": null,
   "metadata": {},
   "outputs": [],
   "source": [
    "# Nature Materials\n",
    "ptext = u\"A dense blocking layer of TiO2 (bl-TiO2, ∼70 nm in thickness) was deposited onto a F-doped SnO2 (FTO, Pilkington, TEC8) substrate by spray pyrolysis, using a 20 mM titanium diisopropoxide bis(acetylacetonate) solution (Aldrich) at 450 °C to prevent direct contact between the FTO and the hole-conducting layer. A 200–300-nm-thick mesoporous TiO2 (particle size: about 50 nm, crystalline phase: anatase) film was spin-coated onto the bl-TiO2/FTO substrate using home-made pastes14 and calcining at 500 °C for 1 h in air to remove organic components. CH3NH3I (MAI) and CH3NH3Br (MABr) were first synthesized by reacting 27.86 ml CH3NH2 (40% in methanol, Junsei Chemical) and 30 ml HI (57 wt% in water, Aldrich) or 44 ml HBr (48 wt% in water, Aldrich) in a 250 ml round-bottom flask at 0 °C for 4 h with stirring, respectively. The precipitate was recovered by evaporation at 55 °C for 1 h. MAI and MABr were dissolved in ethanol, recrystallized from diethyl ether, and dried at 60 °C in a vacuum oven for 24 h. The prepared MAI and MABr powders, PbI2 (Aldrich) and PbBr2 (Aldrich) for 0.8 M MAPb(I1 − xBrx)3 (x  =  0.1–0.15) solution were stirred in a mixture of GBL and DMSO (7:3 v/v) at 60 °C for 12 h. The resulting solution was coated onto the mp-TiO2/bl-TiO2/FTO substrate by a consecutive two-step spin-coating process at 1,000 and 5,000 r.p.m for 10 and 20 s, respectively. During the second spin-coating step, the substrate (around 1 cm × 1 cm) was treated with toluene drop-casting. A detailed time-rotation profile for the spin-coating is represented in Supplementary Fig. 1c. The substrate was dried on a hot plate at 100 °C for 10 min. A solution of poly(triarylamine) (15 mg, PTAA, EM Index, Mw  =  17,500 g mol−1) in toluene (1.5 ml) was mixed with 15 μl of a solution of lithium bistrifluoromethanesulphonimidate (170 mg) in acetonitrile (1 ml) and 7.5 μl 4-tert-butylpyridine and spin-coated on the MAPb(I1 − xBrx)3 (x  =  0.1–0.15)/mp-TiO2/bl-TiO2/FTO substrate at 3,000 r.p.m for 30 s. Finally, a Au counterelectrode was deposited by thermal evaporation. The active area of this electrode was fixed at 0.16 cm2.\""
   ]
  },
  {
   "cell_type": "code",
   "execution_count": null,
   "metadata": {},
   "outputs": [],
   "source": [
    "# Formatting the Nature Nanotech paragraph according to ChemDataExtractor\n",
    "p = Document(Heading(u'Solar cell fabrication'), Paragraph(ptext))"
   ]
  },
  {
   "cell_type": "code",
   "execution_count": null,
   "metadata": {
    "scrolled": true
   },
   "outputs": [],
   "source": [
    "# Sentence version\n",
    "s = Document(u'The resulting solution was coated onto the mp-TiO2/bl-TiO2/FTO substrate by a consecutive two-step spin-coating process at 1,000 and 5,000 r.p.m for 10 and 20 s, respectively.')"
   ]
  },
  {
   "cell_type": "code",
   "execution_count": null,
   "metadata": {
    "scrolled": true
   },
   "outputs": [],
   "source": [
    "p"
   ]
  },
  {
   "cell_type": "code",
   "execution_count": null,
   "metadata": {
    "scrolled": true
   },
   "outputs": [],
   "source": [
    "s"
   ]
  },
  {
   "cell_type": "code",
   "execution_count": null,
   "metadata": {},
   "outputs": [],
   "source": [
    "nlp = spacy.load('en_core_web_sm') # Load English dictionary from spaCy"
   ]
  }
 ],
 "metadata": {
  "kernelspec": {
   "display_name": "Python 3",
   "language": "python",
   "name": "python3"
  },
  "language_info": {
   "codemirror_mode": {
    "name": "ipython",
    "version": 3
   },
   "file_extension": ".py",
   "mimetype": "text/x-python",
   "name": "python",
   "nbconvert_exporter": "python",
   "pygments_lexer": "ipython3",
   "version": "3.6.8"
  }
 },
 "nbformat": 4,
 "nbformat_minor": 2
}

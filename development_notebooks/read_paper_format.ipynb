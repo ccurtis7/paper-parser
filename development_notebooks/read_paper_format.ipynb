{
 "cells": [
  {
   "cell_type": "code",
   "execution_count": 47,
   "metadata": {},
   "outputs": [],
   "source": [
    "import chemdataextractor\n",
    "from chemdataextractor import Document\n",
    "from chemdataextractor.reader import HtmlReader\n",
    "import numpy as np"
   ]
  },
  {
   "cell_type": "markdown",
   "metadata": {},
   "source": [
    "### Read and open paper in HTML format"
   ]
  },
  {
   "cell_type": "code",
   "execution_count": 48,
   "metadata": {},
   "outputs": [],
   "source": [
    "f = open('journal_articles/Paper5.html', 'rb')"
   ]
  },
  {
   "cell_type": "code",
   "execution_count": 49,
   "metadata": {},
   "outputs": [],
   "source": [
    "doc = Document.from_file(f, readers=[HtmlReader()])"
   ]
  },
  {
   "cell_type": "markdown",
   "metadata": {},
   "source": [
    "##### assume we know that doc.element 88 is the synthesis paragraph of interest"
   ]
  },
  {
   "cell_type": "code",
   "execution_count": 50,
   "metadata": {},
   "outputs": [
    {
     "data": {
      "text/html": [
       "<p class=\"cde-paragraph\">Solar cells were fabricated on precleaned ITO-coated glass substrates with a sheet resistance of 20 Ω sq−1. First, a thin ZnO nanoparticle layer was spin coated onto the substrate at 3,000 r.p.m. for 30 s. The procedure was repeated three times to obtain a continuous smooth film. A PbI2 solution (dissolved in N,N-dimethylformamide at a concentration of 460 mg ml−1) was then spin coated on top of the ZnO layer at 3,000 r.p.m. for 15 s. After drying for several minutes in air, the substrate was dipped into a solution of CH3NH3I in 2-propanol (10 mg ml−1) for 40 s, then dried under a flow of clean air. Subsequently, the spiro-OMeTAD-based hole-transfer layer (80 mg spiro-OMeTAD, 28.5 µl 4-tert-butylpyridine and 17.5 µl lithium-bis(trifluoromethanesulfonyl)imide (Li-TFSI) solution (520 mg Li-TFSI in 1 ml acetonitrile) all dissolved in 1 ml chlorobenzene) was deposited by spin coating at 4,000 r.p.m. for 30 s. Finally, a 150-nm-thick silver layer was deposited by thermal evaporation at a base pressure of 2 × 10−6 mbar. The completed devices were stored in a N2-purged glovebox (<0.1 ppm O2 and H2O). Prior to the evaporation of the Ag top contact, all device fabrication steps were carried out under ambient conditions.</p>"
      ],
      "text/plain": [
       "Paragraph(id='methods-content', references=[], text='Solar cells were fabricated on precleaned ITO-coated glass substrates with a sheet resistance of 20 Ω sq−1. First, a thin ZnO nanoparticle layer was spin coated onto the substrate at 3,000 r.p.m. for 30\\xa0s. The procedure was repeated three times to obtain a continuous smooth film. A PbI2 solution (dissolved in N,N-dimethylformamide at a concentration of 460\\xa0mg ml−1) was then spin coated on top of the ZnO layer at 3,000 r.p.m. for 15\\xa0s. After drying for several minutes in air, the substrate was dipped into a solution of CH3NH3I in 2-propanol (10\\xa0mg ml−1) for 40\\xa0s, then dried under a flow of clean air. Subsequently, the spiro-OMeTAD-based hole-transfer layer (80\\xa0mg spiro-OMeTAD, 28.5\\xa0µl 4-tert-butylpyridine and 17.5\\xa0µl lithium-bis(trifluoromethanesulfonyl)imide (Li-TFSI) solution (520\\xa0mg\\xa0Li-TFSI in 1\\xa0ml acetonitrile) all dissolved in 1\\xa0ml chlorobenzene) was deposited by spin coating at 4,000 r.p.m. for 30\\xa0s. Finally, a 150-nm-thick silver layer was deposited by thermal evaporation at a base pressure of 2\\xa0×\\xa010−6\\xa0mbar. The completed devices were stored in a N2-purged glovebox (<0.1\\xa0ppm O2 and H2O). Prior to the evaporation of the Ag top contact, all device fabrication steps were carried out under ambient conditions.')"
      ]
     },
     "execution_count": 50,
     "metadata": {},
     "output_type": "execute_result"
    }
   ],
   "source": [
    "para = doc.elements[88]\n",
    "para"
   ]
  },
  {
   "cell_type": "markdown",
   "metadata": {},
   "source": [
    "##### store in two separate lists: \n",
    "syn_yes_arr contains sentences related to synthesis\n",
    "syn_no_arr contains all other sentences in the html file that is not in the synthesis paragraph"
   ]
  },
  {
   "cell_type": "code",
   "execution_count": 51,
   "metadata": {},
   "outputs": [],
   "source": [
    "sen_yes_arr = list()\n",
    "sen_no_arr = list()\n",
    "\n",
    "elem_all = np.arange(0,len(doc))\n",
    "para_yes = [88]\n",
    "para_no = np.delete(elem_all, para_yes)\n",
    "\n",
    "for i in para_no:\n",
    "    if type(doc.elements[i]) == chemdataextractor.doc.text.Paragraph:\n",
    "        for sentence in doc.elements[i]:\n",
    "            sen_no_arr.append(sentence)\n",
    "\n",
    "for i in para_yes:\n",
    "    if type(doc.elements[i]) == chemdataextractor.doc.text.Paragraph:\n",
    "        for sentence in doc.elements[i]:\n",
    "            sen_yes_arr.append(sentence)"
   ]
  },
  {
   "cell_type": "code",
   "execution_count": 52,
   "metadata": {},
   "outputs": [
    {
     "data": {
      "text/plain": [
       "[Sentence('Solar cells were fabricated on precleaned ITO-coated glass substrates with a sheet resistance of 20 Ω sq−1.', 0, 107),\n",
       " Sentence('First, a thin ZnO nanoparticle layer was spin coated onto the substrate at 3,000 r.p.m. for 30\\xa0s.', 108, 205),\n",
       " Sentence('The procedure was repeated three times to obtain a continuous smooth film.', 206, 280),\n",
       " Sentence('A PbI2 solution (dissolved in N,N-dimethylformamide at a concentration of 460\\xa0mg ml−1) was then spin coated on top of the ZnO layer at 3,000 r.p.m. for 15\\xa0s.', 281, 438),\n",
       " Sentence('After drying for several minutes in air, the substrate was dipped into a solution of CH3NH3I in 2-propanol (10\\xa0mg ml−1) for 40\\xa0s, then dried under a flow of clean air.', 439, 606),\n",
       " Sentence('Subsequently, the spiro-OMeTAD-based hole-transfer layer (80\\xa0mg spiro-OMeTAD, 28.5\\xa0µl 4-tert-butylpyridine and 17.5\\xa0µl lithium-bis(trifluoromethanesulfonyl)imide (Li-TFSI) solution (520\\xa0mg\\xa0Li-TFSI in 1\\xa0ml acetonitrile) all dissolved in 1\\xa0ml chlorobenzene) was deposited by spin coating at 4,000 r.p.m. for 30\\xa0s.', 607, 918),\n",
       " Sentence('Finally, a 150-nm-thick silver layer was deposited by thermal evaporation at a base pressure of 2\\xa0×\\xa010−6\\xa0mbar.', 919, 1029),\n",
       " Sentence('The completed devices were stored in a N2-purged glovebox (<0.1\\xa0ppm O2 and H2O).', 1030, 1110),\n",
       " Sentence('Prior to the evaporation of the Ag top contact, all device fabrication steps were carried out under ambient conditions.', 1111, 1230)]"
      ]
     },
     "execution_count": 52,
     "metadata": {},
     "output_type": "execute_result"
    }
   ],
   "source": [
    "sen_yes_arr"
   ]
  },
  {
   "cell_type": "code",
   "execution_count": 53,
   "metadata": {},
   "outputs": [],
   "source": [
    "# sen_no_arr"
   ]
  },
  {
   "cell_type": "markdown",
   "metadata": {},
   "source": [
    "make this into a function"
   ]
  },
  {
   "cell_type": "code",
   "execution_count": 54,
   "metadata": {},
   "outputs": [],
   "source": [
    "def extract_sentences(paper_path, para_yes):\n",
    "    \"\"\"extracts sentences from a paper into two lists, given that para_yes contains\n",
    "    a list of document element numbers corresponding to paragraphs manually identified\n",
    "    as those containing synthesis information\"\"\"\n",
    "\n",
    "    f = open(paper_path, 'rb')\n",
    "    doc = Document.from_file(f, readers=[HtmlReader()])\n",
    "    \n",
    "    sen_yes_arr = list()\n",
    "    sen_no_arr = list()\n",
    "\n",
    "    elem_all = np.arange(0,len(doc))\n",
    "    para_no = np.delete(elem_all, para_yes)\n",
    "\n",
    "    for i in para_no:\n",
    "        if type(doc.elements[i]) == chemdataextractor.doc.text.Paragraph:\n",
    "            for sentence in doc.elements[i]:\n",
    "                sen_no_arr.append(sentence)\n",
    "\n",
    "    for i in para_yes:\n",
    "        if type(doc.elements[i]) == chemdataextractor.doc.text.Paragraph:\n",
    "            for sentence in doc.elements[i]:\n",
    "                sen_yes_arr.append(sentence)\n",
    "    \n",
    "\n",
    "    return sen_yes_arr, sen_no_arr"
   ]
  },
  {
   "cell_type": "markdown",
   "metadata": {},
   "source": [
    "### Repeat for all journal articles\n",
    "\n",
    "This is a pretty simplistic approach to testing/training data, since we don't want to have to manually tag sentences in many many papers, let's start with 5 papers with the same HTML structure."
   ]
  },
  {
   "cell_type": "code",
   "execution_count": 55,
   "metadata": {},
   "outputs": [],
   "source": [
    "#0: doc.elements[109]\n",
    "#1: doc.elements[117:120]\n",
    "#2: doc.elements[112]\n",
    "#3: doc.elements[117]\n",
    "#4: doc.elements[122] and doc.elements[125]\n",
    "#5: doc.elements[88]"
   ]
  },
  {
   "cell_type": "markdown",
   "metadata": {},
   "source": [
    "manually identified/tagged synthesis paragraphs"
   ]
  },
  {
   "cell_type": "code",
   "execution_count": 56,
   "metadata": {},
   "outputs": [],
   "source": [
    "test_p = [[109]]\n",
    "train_p = [[117, 118, 119], [112], [117], [122, 125], [88]]"
   ]
  },
  {
   "cell_type": "code",
   "execution_count": 57,
   "metadata": {},
   "outputs": [],
   "source": [
    "p = 1\n",
    "sen_yes_arr, sen_no_arr = extract_sentences('journal_articles/Paper' + str(p) + '.html', train_p[p-1])"
   ]
  },
  {
   "cell_type": "code",
   "execution_count": 58,
   "metadata": {},
   "outputs": [
    {
     "data": {
      "text/plain": [
       "[Sentence('We placed approximately 500\\u2009mg of CH3NH3I and 100\\u2009mg of PbCl2 into separate crucibles.', 0, 86),\n",
       " Sentence('The device substrates were placed in a substrate holder above the sources with the TiO2-coated FTO side facing down towards the sources.', 87, 223),\n",
       " Sentence('Once the pressure in the chamber was pumped down to below 10−5\\u2009mbar, the two sources were heated slightly above their desired deposition temperatures for approximately 5\\u2009min (that is, CH3NH3I was heated to about 120\\u2009°C and PbCl2 was heated to about 325\\u2009°C) to remove volatile impurities before depositing the materials onto the substrate.', 224, 562),\n",
       " Sentence('The substrate holder was rotated to ensure uniform coating throughout deposition, because the right-hand source predominantly coats the right-hand side of the substrate and similarly for the left.', 563, 759),\n",
       " Sentence('The substrate holder was water-cooled to approximately 21\\u2009°C, though precise measurement of the substrate temperature during deposition was not performed.', 760, 914),\n",
       " Sentence('Perovskite films were optimized for best device performance by varying the key deposition parameters such as the deposition rates and times for the two sources.', 915, 1075),\n",
       " Sentence('In particular, device performance was very sensitive to the relative composition of CH3NH3I to PbCl2 as well as to the overall deposited thickness.', 1076, 1223),\n",
       " Sentence('In our trials we performed the following steps.', 0, 47),\n",
       " Sentence('(1) We varied the as-deposited composition of CH3NH3I to PbCl2 from 1:1 to 7:1, at a fixed as-annealed film thickness of 125\\u2009nm.', 48, 176),\n",
       " Sentence('(2) We varied the film thickness—at the optimum ratio of CH3NH3I:PbCl2 = 3.5:1—from 125 to 500\\u2009nm and found the optimum performance at 330\\u2009nm.', 177, 319),\n",
       " Sentence('(3) We fine-tuned the CH3NH3I:PbCl2 ratio for films with about 330\\u2009nm thickness to obtain an optimum composition of 4:1 CH3NH3I:PbCl2.', 320, 454),\n",
       " Sentence('(4) We optimized the hole-transporter thickness (solution concentration) and Li-TFSI dopant concentration to maximize performance on the ∼330-nm-thick, 4:1 CH3NH3I:PbCl2 deposited perovskite films.', 455, 652),\n",
       " Sentence('The optimal deposition rate was 5.3\\u2009Å\\u2009s−1 for CH3NH3I (achieved with a crucible temperature of around 116\\u2009°C) and 1\\u2009Å\\u2009s−1 for PbCl2 (achieved with a crucible temperature of around 320\\u2009°C), maintained for approximately 128\\u2009min of evaporation as shown in Extended Data Table 2.', 653, 928),\n",
       " Sentence('The colour of the samples after deposition varied depending on the composition of the two sources.', 0, 98),\n",
       " Sentence('For the best-performing devices, a reddish-brown colour was observed and the film appears to be partially crystallized in the topological SEM image of the as-deposited film, as shown in Extended Data Fig. 1.', 99, 306),\n",
       " Sentence('Annealing the as-deposited films at 100\\u2009°C for 45\\u2009min in the N2-filled glove box before spin-coating the hole transporter enabled full crystallization of the perovskite, darkening the colour and resulting in an apparent growth of the crystal features visible in the SEM image, as shown in Extended Data Fig. 1.', 307, 617),\n",
       " Sentence('After annealing, the best-performing samples had an average thickness of approximately 330\\u2009nm.', 618, 712),\n",
       " Sentence('As would be expected from the non-stoichiometric as-deposited molar ratio, there is clearly significant mass loss and hence thickness loss during perovskite film formation.', 713, 885)]"
      ]
     },
     "execution_count": 58,
     "metadata": {},
     "output_type": "execute_result"
    }
   ],
   "source": [
    "sen_yes_arr"
   ]
  },
  {
   "cell_type": "code",
   "execution_count": 62,
   "metadata": {},
   "outputs": [],
   "source": [
    "# sen_no_arr"
   ]
  },
  {
   "cell_type": "code",
   "execution_count": 68,
   "metadata": {},
   "outputs": [
    {
     "data": {
      "text/plain": [
       "[Sentence('Patterned transparent conducting oxide substrates were coated with a TiO2 compact layer by aerosol spray pyrolysis.', 0, 115),\n",
       " Sentence('A 350-nm-thick mesoporous TiO2 layer composed of 20-nm-sized particles was then deposited by spin coating.', 116, 222),\n",
       " Sentence('The mesoporous TiO2 films were infiltrated with PbI2 by spin-coating a PbI2 solution in DMF (462\\u2009mg\\u2009ml−1) that was kept at 70\\u2009°C.', 223, 352),\n",
       " Sentence('After drying, the films were dipped in a solution of CH3NH3I in 2-propanol (10\\u2009mg\\u2009ml−1) for 20\\u2009s and rinsed with 2-propanol.', 353, 477),\n",
       " Sentence('After drying, the HTM was deposited by spin-coating a solution of spiro-MeOTAD, 4-tert-butylpyridine, lithium bis(trifluoromethylsulphonyl)imide and tris(2-(1H-pyrazol-1-yl)-4-tert-butylpyridine)cobalt(iii) bis(trifluoromethylsulphonyl)imide in chlorobenzene.', 478, 737),\n",
       " Sentence('Gold (80\\u2009nm) was thermally evaporated on top of the device to form the back contact.', 738, 822),\n",
       " Sentence('For the fabrication of the best-performing devices, slightly modified conditions were used.', 823, 914),\n",
       " Sentence('First, PbI2 was spin-cast for 5\\u2009s instead of 90\\u2009s and, second, the samples were subjected to a ‘pre-wetting’ by dipping in 2-propanol for 1–2\\u2009s before being dipped in the solution of CH3NH3I and 2-propanol.', 915, 1121),\n",
       " Sentence('For all measurements, devices were equipped with a 0.285-cm2 metal aperture to define the active area.', 1122, 1224)]"
      ]
     },
     "execution_count": 68,
     "metadata": {},
     "output_type": "execute_result"
    }
   ],
   "source": [
    "p = 3\n",
    "sen_yes_arr, sen_no_arr = extract_sentences('journal_articles/Paper' + str(p) + '.html', train_p[p-1])\n",
    "sen_yes_arr"
   ]
  },
  {
   "cell_type": "markdown",
   "metadata": {},
   "source": [
    "##### The is the \"test\" data, the original Nature paper we are all supposedly using"
   ]
  },
  {
   "cell_type": "code",
   "execution_count": 70,
   "metadata": {},
   "outputs": [
    {
     "data": {
      "text/plain": [
       "[Sentence('A dense blocking layer of TiO2 (bl-TiO2, ∼70 nm in thickness) was deposited onto a F-doped SnO2 (FTO, Pilkington, TEC8) substrate by spray pyrolysis, using a 20 mM titanium diisopropoxide bis(acetylacetonate) solution (Aldrich) at 450 °C to prevent direct contact between the FTO and the hole-conducting layer.', 0, 310),\n",
       " Sentence('A 200–300-nm-thick mesoporous TiO2 (particle size: about 50 nm, crystalline phase: anatase) film was spin-coated onto the bl-TiO2/FTO substrate using home-made pastes14 and calcining at 500 °C for 1 h in air to remove organic components.', 311, 548),\n",
       " Sentence('CH3NH3I (MAI) and CH3NH3Br (MABr) were first synthesized by reacting 27.86 ml CH3NH2 (40% in methanol, Junsei Chemical) and 30 ml HI (57 wt% in water, Aldrich) or 44 ml HBr (48 wt% in water, Aldrich) in a 250 ml round-bottom flask at 0 °C for 4 h with stirring, respectively.', 549, 824),\n",
       " Sentence('The precipitate was recovered by evaporation at 55 °C for 1 h. MAI and MABr were dissolved in ethanol, recrystallized from diethyl ether, and dried at 60 °C in a vacuum oven for 24 h.', 825, 1008),\n",
       " Sentence('The prepared MAI and MABr powders, PbI2 (Aldrich) and PbBr2 (Aldrich) for 0.8 M MAPb(I1\\xa0−\\xa0xBrx)3 (x\\xa0 = \\xa00.1–0.15) solution were stirred in a mixture of GBL and DMSO (7:3 v/v) at 60 °C for 12 h.', 1009, 1202),\n",
       " Sentence('The resulting solution was coated onto the mp-TiO2/bl-TiO2/FTO substrate by a consecutive two-step spin-coating process at 1,000 and 5,000 r.p.m for 10 and 20 s, respectively.', 1203, 1378),\n",
       " Sentence('During the second spin-coating step, the substrate (around 1 cm × 1 cm) was treated with toluene drop-casting.', 1379, 1489),\n",
       " Sentence('A detailed time-rotation profile for the spin-coating is represented in Supplementary Fig.\\xa01c.', 1490, 1584),\n",
       " Sentence('The substrate was dried on a hot plate at 100 °C for 10 min.', 1585, 1645),\n",
       " Sentence('A solution of poly(triarylamine) (15 mg, PTAA, EM Index, Mw\\xa0 = \\xa017,500 g mol−1) in toluene (1.5 ml) was mixed with 15 μl of a solution of lithium bistrifluoromethanesulphonimidate (170 mg) in acetonitrile (1 ml) and 7.5 μl 4-tert-butylpyridine and spin-coated on the MAPb(I1\\xa0−\\xa0xBrx)3 (x\\xa0 = \\xa00.1–0.15)/mp-TiO2/bl-TiO2/FTO substrate at 3,000 r.p.m for 30 s.', 1646, 2001),\n",
       " Sentence('Finally, a Au counterelectrode was deposited by thermal evaporation.', 2002, 2070),\n",
       " Sentence('The active area of this electrode was fixed at 0.16 cm2.', 2071, 2127)]"
      ]
     },
     "execution_count": 70,
     "metadata": {},
     "output_type": "execute_result"
    }
   ],
   "source": [
    "sen_yes_arr, sen_no_arr = extract_sentences('journal_articles/Paper' + str(0) + '.html', test_p[0])\n",
    "sen_yes_arr"
   ]
  },
  {
   "cell_type": "code",
   "execution_count": null,
   "metadata": {},
   "outputs": [],
   "source": []
  }
 ],
 "metadata": {
  "kernelspec": {
   "display_name": "Python 3",
   "language": "python",
   "name": "python3"
  },
  "language_info": {
   "codemirror_mode": {
    "name": "ipython",
    "version": 3
   },
   "file_extension": ".py",
   "mimetype": "text/x-python",
   "name": "python",
   "nbconvert_exporter": "python",
   "pygments_lexer": "ipython3",
   "version": "3.6.8"
  }
 },
 "nbformat": 4,
 "nbformat_minor": 2
}

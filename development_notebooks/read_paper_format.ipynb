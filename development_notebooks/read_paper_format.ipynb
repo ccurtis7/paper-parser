{
 "cells": [
  {
   "cell_type": "code",
   "execution_count": 200,
   "metadata": {},
   "outputs": [],
   "source": [
    "from chemdataextractor import Document\n",
    "from chemdataextractor.reader import HtmlReader"
   ]
  },
  {
   "cell_type": "code",
   "execution_count": 201,
   "metadata": {},
   "outputs": [],
   "source": [
    "f = open('journal_articles/Paper5.html', 'rb')"
   ]
  },
  {
   "cell_type": "code",
   "execution_count": 202,
   "metadata": {},
   "outputs": [],
   "source": [
    "doc = Document.from_file(f, readers=[HtmlReader()])"
   ]
  },
  {
   "cell_type": "code",
   "execution_count": 205,
   "metadata": {},
   "outputs": [
    {
     "data": {
      "text/html": [
       "<p class=\"cde-paragraph\">Solar cells were fabricated on precleaned ITO-coated glass substrates with a sheet resistance of 20 Ω sq−1. First, a thin ZnO nanoparticle layer was spin coated onto the substrate at 3,000 r.p.m. for 30 s. The procedure was repeated three times to obtain a continuous smooth film. A PbI2 solution (dissolved in N,N-dimethylformamide at a concentration of 460 mg ml−1) was then spin coated on top of the ZnO layer at 3,000 r.p.m. for 15 s. After drying for several minutes in air, the substrate was dipped into a solution of CH3NH3I in 2-propanol (10 mg ml−1) for 40 s, then dried under a flow of clean air. Subsequently, the spiro-OMeTAD-based hole-transfer layer (80 mg spiro-OMeTAD, 28.5 µl 4-tert-butylpyridine and 17.5 µl lithium-bis(trifluoromethanesulfonyl)imide (Li-TFSI) solution (520 mg Li-TFSI in 1 ml acetonitrile) all dissolved in 1 ml chlorobenzene) was deposited by spin coating at 4,000 r.p.m. for 30 s. Finally, a 150-nm-thick silver layer was deposited by thermal evaporation at a base pressure of 2 × 10−6 mbar. The completed devices were stored in a N2-purged glovebox (<0.1 ppm O2 and H2O). Prior to the evaporation of the Ag top contact, all device fabrication steps were carried out under ambient conditions.</p>"
      ],
      "text/plain": [
       "Paragraph(id='methods-content', references=[], text='Solar cells were fabricated on precleaned ITO-coated glass substrates with a sheet resistance of 20 Ω sq−1. First, a thin ZnO nanoparticle layer was spin coated onto the substrate at 3,000 r.p.m. for 30\\xa0s. The procedure was repeated three times to obtain a continuous smooth film. A PbI2 solution (dissolved in N,N-dimethylformamide at a concentration of 460\\xa0mg ml−1) was then spin coated on top of the ZnO layer at 3,000 r.p.m. for 15\\xa0s. After drying for several minutes in air, the substrate was dipped into a solution of CH3NH3I in 2-propanol (10\\xa0mg ml−1) for 40\\xa0s, then dried under a flow of clean air. Subsequently, the spiro-OMeTAD-based hole-transfer layer (80\\xa0mg spiro-OMeTAD, 28.5\\xa0µl 4-tert-butylpyridine and 17.5\\xa0µl lithium-bis(trifluoromethanesulfonyl)imide (Li-TFSI) solution (520\\xa0mg\\xa0Li-TFSI in 1\\xa0ml acetonitrile) all dissolved in 1\\xa0ml chlorobenzene) was deposited by spin coating at 4,000 r.p.m. for 30\\xa0s. Finally, a 150-nm-thick silver layer was deposited by thermal evaporation at a base pressure of 2\\xa0×\\xa010−6\\xa0mbar. The completed devices were stored in a N2-purged glovebox (<0.1\\xa0ppm O2 and H2O). Prior to the evaporation of the Ag top contact, all device fabrication steps were carried out under ambient conditions.')"
      ]
     },
     "execution_count": 205,
     "metadata": {},
     "output_type": "execute_result"
    }
   ],
   "source": [
    "para = doc.elements[88]\n",
    "para"
   ]
  },
  {
   "cell_type": "code",
   "execution_count": 206,
   "metadata": {},
   "outputs": [],
   "source": [
    "para_yes = [88]"
   ]
  },
  {
   "cell_type": "code",
   "execution_count": 226,
   "metadata": {},
   "outputs": [],
   "source": [
    "sen_yes_arr = list()\n",
    "sen_no_arr = list()\n",
    "\n",
    "for i in range(len(doc)):\n",
    "    if type(doc.elements[i]) == chemdataextractor.doc.text.Paragraph:\n",
    "        for j in para_yes:\n",
    "            if i == j:\n",
    "                get_sentences(doc.elements[i], sen_yes_arr)\n",
    "            else:\n",
    "                get_sentences(doc.elements[i], sen_no_arr)\n",
    "    else:\n",
    "        continue"
   ]
  },
  {
   "cell_type": "code",
   "execution_count": 227,
   "metadata": {},
   "outputs": [
    {
     "data": {
      "text/plain": [
       "[Sentence('Solar cells were fabricated on precleaned ITO-coated glass substrates with a sheet resistance of 20 Ω sq−1.', 0, 107),\n",
       " Sentence('First, a thin ZnO nanoparticle layer was spin coated onto the substrate at 3,000 r.p.m. for 30\\xa0s.', 108, 205),\n",
       " Sentence('The procedure was repeated three times to obtain a continuous smooth film.', 206, 280),\n",
       " Sentence('A PbI2 solution (dissolved in N,N-dimethylformamide at a concentration of 460\\xa0mg ml−1) was then spin coated on top of the ZnO layer at 3,000 r.p.m. for 15\\xa0s.', 281, 438),\n",
       " Sentence('After drying for several minutes in air, the substrate was dipped into a solution of CH3NH3I in 2-propanol (10\\xa0mg ml−1) for 40\\xa0s, then dried under a flow of clean air.', 439, 606),\n",
       " Sentence('Subsequently, the spiro-OMeTAD-based hole-transfer layer (80\\xa0mg spiro-OMeTAD, 28.5\\xa0µl 4-tert-butylpyridine and 17.5\\xa0µl lithium-bis(trifluoromethanesulfonyl)imide (Li-TFSI) solution (520\\xa0mg\\xa0Li-TFSI in 1\\xa0ml acetonitrile) all dissolved in 1\\xa0ml chlorobenzene) was deposited by spin coating at 4,000 r.p.m. for 30\\xa0s.', 607, 918),\n",
       " Sentence('Finally, a 150-nm-thick silver layer was deposited by thermal evaporation at a base pressure of 2\\xa0×\\xa010−6\\xa0mbar.', 919, 1029),\n",
       " Sentence('The completed devices were stored in a N2-purged glovebox (<0.1\\xa0ppm O2 and H2O).', 1030, 1110),\n",
       " Sentence('Prior to the evaporation of the Ag top contact, all device fabrication steps were carried out under ambient conditions.', 1111, 1230)]"
      ]
     },
     "execution_count": 227,
     "metadata": {},
     "output_type": "execute_result"
    }
   ],
   "source": [
    "sen_yes_arr"
   ]
  },
  {
   "cell_type": "code",
   "execution_count": 228,
   "metadata": {},
   "outputs": [],
   "source": [
    "# sen_no_arr"
   ]
  },
  {
   "cell_type": "code",
   "execution_count": null,
   "metadata": {},
   "outputs": [],
   "source": [
    "#0: doc.elements[109]\n",
    "#1: doc.elements[117:120]\n",
    "#2: doc.elements[112]\n",
    "#3: doc.elements[117]\n",
    "#4: doc.elements[122] and doc.elements[125]\n",
    "#5: doc.elements[88]"
   ]
  },
  {
   "cell_type": "code",
   "execution_count": 210,
   "metadata": {},
   "outputs": [],
   "source": [
    "def get_sentences(paragraph, sen_arr):\n",
    "    for sentence in paragraph:\n",
    "        sen_arr.append(sentence)\n",
    "        \n",
    "    return"
   ]
  }
 ],
 "metadata": {
  "kernelspec": {
   "display_name": "Python 3",
   "language": "python",
   "name": "python3"
  },
  "language_info": {
   "codemirror_mode": {
    "name": "ipython",
    "version": 3
   },
   "file_extension": ".py",
   "mimetype": "text/x-python",
   "name": "python",
   "nbconvert_exporter": "python",
   "pygments_lexer": "ipython3",
   "version": "3.6.8"
  }
 },
 "nbformat": 4,
 "nbformat_minor": 2
}

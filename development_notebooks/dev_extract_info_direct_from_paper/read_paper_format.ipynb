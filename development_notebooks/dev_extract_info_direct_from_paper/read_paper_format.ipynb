{
 "cells": [
  {
   "cell_type": "code",
   "execution_count": 1,
   "metadata": {},
   "outputs": [],
   "source": [
    "import chemdataextractor\n",
    "from chemdataextractor import Document\n",
    "from chemdataextractor.reader import HtmlReader\n",
    "import numpy as np"
   ]
  },
  {
   "cell_type": "markdown",
   "metadata": {},
   "source": [
    "### Read and open paper in HTML format"
   ]
  },
  {
   "cell_type": "code",
   "execution_count": 2,
   "metadata": {},
   "outputs": [],
   "source": [
    "f = open('../../examples/journal_articles/Paper5.html', 'rb')"
   ]
  },
  {
   "cell_type": "code",
   "execution_count": 3,
   "metadata": {},
   "outputs": [],
   "source": [
    "doc = Document.from_file(f, readers=[HtmlReader()])\n",
    "# doc"
   ]
  },
  {
   "cell_type": "code",
   "execution_count": 4,
   "metadata": {},
   "outputs": [
    {
     "name": "stdout",
     "output_type": "stream",
     "text": [
      "Perovskite solar cells with a planar heterojunction structure prepared using room-temperature solution processing techniques\n",
      "Search\n",
      "Quick links\n",
      "\n",
      "Nature Photonics menu\n",
      "\n",
      "Nature Research menu\n",
      "Our Journals\n",
      "Subjects\n",
      "More\n",
      "AbstractAbstract\n",
      "MainMain\n",
      "MethodsMethods\n",
      "Synthesis of ZnO nanoparticles\n",
      "Solar cell fabrication\n",
      "Device characterization\n",
      "ReferencesReferences\n",
      "AcknowledgementsAcknowledgements\n",
      "Author informationAuthor information\n",
      "Affiliations\n",
      "Department of Chemistry, University of Saskatchewan, 110 Science Place, Saskatoon, SK, S7N 5C9, Canada\n",
      "Authors\n",
      "Search for Dianyi Liu in:\n",
      "Search for Timothy L. Kelly in:\n",
      "Contributions\n",
      "Competing interests\n",
      "Corresponding author\n",
      "Supplementary informationSupplementary information\n",
      "PDF files\n",
      "Supplementary information\n",
      "Rights and permissionsRights and permissions\n",
      "About this articleAbout this article\n",
      "Publication history\n",
      "Received\n",
      "Accepted\n",
      "Published\n",
      "DOI\n",
      "Share this article\n",
      "Subjects\n",
      "\n",
      "Further reading\n",
      "\n",
      "Further reading\n",
      "\n",
      "\n",
      "\n",
      "A new carbon phase with direct bandgap and high carrier mobility as electron transport material for perovskite solar cells\n",
      "\n",
      "\n",
      "\n",
      "\n",
      "Energy autonomous electronic skin\n",
      "\n",
      "\n",
      "\n",
      "\n",
      "Natively textured surface of Ga-doped ZnO films electron transporting layer for perovskite solar cells: further performance analysis from device simulation\n",
      "\n",
      "\n",
      "\n",
      "\n",
      "Influence of Ag Nanoparticles with Different Sizes and Concentrations Embedded in a TiO2 Compact Layer on the Conversion Efficiency of Perovskite Solar Cells\n",
      "\n",
      "\n",
      "\n",
      "\n",
      "UV Treatment of Low-Temperature Processed SnO2 Electron Transport Layers for Planar Perovskite Solar Cells\n",
      "\n",
      "\n",
      "Article Tools\n",
      "\n",
      "\n",
      "Photovoltaics: Perovskite cells roll forward\n",
      "\n",
      "Nature Photonics\n",
      "nature.com sitemap\n",
      "Discover content\n",
      "Publish with us\n",
      "Researcher services\n",
      "Libraries & institutions\n",
      "Advertising & partnerships\n",
      "Career development\n",
      "Regional websites\n"
     ]
    }
   ],
   "source": [
    "for text in doc.headings:\n",
    "    print(text.text)"
   ]
  },
  {
   "cell_type": "markdown",
   "metadata": {},
   "source": [
    "##### assume we know that doc.element 88 is the synthesis paragraph of interest"
   ]
  },
  {
   "cell_type": "code",
   "execution_count": 5,
   "metadata": {},
   "outputs": [
    {
     "data": {
      "text/html": [
       "<p class=\"cde-paragraph\">Solar cells were fabricated on precleaned ITO-coated glass substrates with a sheet resistance of 20 Ω sq−1. First, a thin ZnO nanoparticle layer was spin coated onto the substrate at 3,000 r.p.m. for 30 s. The procedure was repeated three times to obtain a continuous smooth film. A PbI2 solution (dissolved in N,N-dimethylformamide at a concentration of 460 mg ml−1) was then spin coated on top of the ZnO layer at 3,000 r.p.m. for 15 s. After drying for several minutes in air, the substrate was dipped into a solution of CH3NH3I in 2-propanol (10 mg ml−1) for 40 s, then dried under a flow of clean air. Subsequently, the spiro-OMeTAD-based hole-transfer layer (80 mg spiro-OMeTAD, 28.5 µl 4-tert-butylpyridine and 17.5 µl lithium-bis(trifluoromethanesulfonyl)imide (Li-TFSI) solution (520 mg Li-TFSI in 1 ml acetonitrile) all dissolved in 1 ml chlorobenzene) was deposited by spin coating at 4,000 r.p.m. for 30 s. Finally, a 150-nm-thick silver layer was deposited by thermal evaporation at a base pressure of 2 × 10−6 mbar. The completed devices were stored in a N2-purged glovebox (<0.1 ppm O2 and H2O). Prior to the evaporation of the Ag top contact, all device fabrication steps were carried out under ambient conditions.</p>"
      ],
      "text/plain": [
       "Paragraph(id='methods-content', references=[], text='Solar cells were fabricated on precleaned ITO-coated glass substrates with a sheet resistance of 20 Ω sq−1. First, a thin ZnO nanoparticle layer was spin coated onto the substrate at 3,000 r.p.m. for 30\\xa0s. The procedure was repeated three times to obtain a continuous smooth film. A PbI2 solution (dissolved in N,N-dimethylformamide at a concentration of 460\\xa0mg ml−1) was then spin coated on top of the ZnO layer at 3,000 r.p.m. for 15\\xa0s. After drying for several minutes in air, the substrate was dipped into a solution of CH3NH3I in 2-propanol (10\\xa0mg ml−1) for 40\\xa0s, then dried under a flow of clean air. Subsequently, the spiro-OMeTAD-based hole-transfer layer (80\\xa0mg spiro-OMeTAD, 28.5\\xa0µl 4-tert-butylpyridine and 17.5\\xa0µl lithium-bis(trifluoromethanesulfonyl)imide (Li-TFSI) solution (520\\xa0mg\\xa0Li-TFSI in 1\\xa0ml acetonitrile) all dissolved in 1\\xa0ml chlorobenzene) was deposited by spin coating at 4,000 r.p.m. for 30\\xa0s. Finally, a 150-nm-thick silver layer was deposited by thermal evaporation at a base pressure of 2\\xa0×\\xa010−6\\xa0mbar. The completed devices were stored in a N2-purged glovebox (<0.1\\xa0ppm O2 and H2O). Prior to the evaporation of the Ag top contact, all device fabrication steps were carried out under ambient conditions.')"
      ]
     },
     "execution_count": 5,
     "metadata": {},
     "output_type": "execute_result"
    }
   ],
   "source": [
    "para = doc.elements[88]\n",
    "para"
   ]
  },
  {
   "cell_type": "markdown",
   "metadata": {},
   "source": [
    "##### store in two separate lists: \n",
    "syn_yes_arr contains sentences related to synthesis\n",
    "syn_no_arr contains all other sentences in the html file that is not in the synthesis paragraph"
   ]
  },
  {
   "cell_type": "code",
   "execution_count": 51,
   "metadata": {},
   "outputs": [],
   "source": [
    "sen_yes_arr = list()\n",
    "sen_no_arr = list()\n",
    "\n",
    "elem_all = np.arange(0,len(doc))\n",
    "para_yes = [88]\n",
    "para_no = np.delete(elem_all, para_yes)\n",
    "\n",
    "for i in para_no:\n",
    "    if type(doc.elements[i]) == chemdataextractor.doc.text.Paragraph:\n",
    "        for sentence in doc.elements[i]:\n",
    "            sen_no_arr.append(sentence)\n",
    "\n",
    "for i in para_yes:\n",
    "    if type(doc.elements[i]) == chemdataextractor.doc.text.Paragraph:\n",
    "        for sentence in doc.elements[i]:\n",
    "            sen_yes_arr.append(sentence)"
   ]
  },
  {
   "cell_type": "code",
   "execution_count": 52,
   "metadata": {},
   "outputs": [
    {
     "data": {
      "text/plain": [
       "[Sentence('Solar cells were fabricated on precleaned ITO-coated glass substrates with a sheet resistance of 20 Ω sq−1.', 0, 107),\n",
       " Sentence('First, a thin ZnO nanoparticle layer was spin coated onto the substrate at 3,000 r.p.m. for 30\\xa0s.', 108, 205),\n",
       " Sentence('The procedure was repeated three times to obtain a continuous smooth film.', 206, 280),\n",
       " Sentence('A PbI2 solution (dissolved in N,N-dimethylformamide at a concentration of 460\\xa0mg ml−1) was then spin coated on top of the ZnO layer at 3,000 r.p.m. for 15\\xa0s.', 281, 438),\n",
       " Sentence('After drying for several minutes in air, the substrate was dipped into a solution of CH3NH3I in 2-propanol (10\\xa0mg ml−1) for 40\\xa0s, then dried under a flow of clean air.', 439, 606),\n",
       " Sentence('Subsequently, the spiro-OMeTAD-based hole-transfer layer (80\\xa0mg spiro-OMeTAD, 28.5\\xa0µl 4-tert-butylpyridine and 17.5\\xa0µl lithium-bis(trifluoromethanesulfonyl)imide (Li-TFSI) solution (520\\xa0mg\\xa0Li-TFSI in 1\\xa0ml acetonitrile) all dissolved in 1\\xa0ml chlorobenzene) was deposited by spin coating at 4,000 r.p.m. for 30\\xa0s.', 607, 918),\n",
       " Sentence('Finally, a 150-nm-thick silver layer was deposited by thermal evaporation at a base pressure of 2\\xa0×\\xa010−6\\xa0mbar.', 919, 1029),\n",
       " Sentence('The completed devices were stored in a N2-purged glovebox (<0.1\\xa0ppm O2 and H2O).', 1030, 1110),\n",
       " Sentence('Prior to the evaporation of the Ag top contact, all device fabrication steps were carried out under ambient conditions.', 1111, 1230)]"
      ]
     },
     "execution_count": 52,
     "metadata": {},
     "output_type": "execute_result"
    }
   ],
   "source": [
    "sen_yes_arr"
   ]
  },
  {
   "cell_type": "code",
   "execution_count": 53,
   "metadata": {},
   "outputs": [],
   "source": [
    "# sen_no_arr"
   ]
  },
  {
   "cell_type": "markdown",
   "metadata": {},
   "source": [
    "make this into a function"
   ]
  },
  {
   "cell_type": "code",
   "execution_count": 9,
   "metadata": {},
   "outputs": [],
   "source": [
    "def extract_sentences(paper_path, para_yes):\n",
    "    \"\"\"extracts sentences from a paper into two lists, given that para_yes contains\n",
    "    a list of document element numbers corresponding to paragraphs manually identified\n",
    "    as those containing synthesis information\"\"\"\n",
    "\n",
    "    f = open(paper_path, 'rb')\n",
    "    doc = Document.from_file(f, readers=[HtmlReader()])\n",
    "    \n",
    "    sen_yes_arr = list()\n",
    "    sen_no_arr = list()\n",
    "\n",
    "    elem_all = np.arange(0,len(doc))\n",
    "    para_no = np.delete(elem_all, para_yes)\n",
    "\n",
    "    for i in para_no:\n",
    "        if type(doc.elements[i]) == chemdataextractor.doc.text.Paragraph:\n",
    "            for sentence in doc.elements[i]:\n",
    "                sen_no_arr.append(sentence)\n",
    "\n",
    "    for i in para_yes:\n",
    "        if type(doc.elements[i]) == chemdataextractor.doc.text.Paragraph:\n",
    "            for sentence in doc.elements[i]:\n",
    "                sen_yes_arr.append(sentence)\n",
    "    \n",
    "\n",
    "    return sen_yes_arr, sen_no_arr"
   ]
  },
  {
   "cell_type": "markdown",
   "metadata": {},
   "source": [
    "### Repeat for all journal articles\n",
    "\n",
    "This is a pretty simplistic approach to testing/training data, since we don't want to have to manually tag sentences in many many papers, let's start with 5 papers with the same HTML structure."
   ]
  },
  {
   "cell_type": "code",
   "execution_count": 10,
   "metadata": {},
   "outputs": [],
   "source": [
    "#0: doc.elements[109]\n",
    "#1: doc.elements[117:120]\n",
    "#2: doc.elements[112]\n",
    "#3: doc.elements[117]\n",
    "#4: doc.elements[122] and doc.elements[125]\n",
    "#5: doc.elements[88]"
   ]
  },
  {
   "cell_type": "markdown",
   "metadata": {},
   "source": [
    "manually identified/tagged synthesis paragraphs"
   ]
  },
  {
   "cell_type": "code",
   "execution_count": 11,
   "metadata": {},
   "outputs": [],
   "source": [
    "test_p = [[109]]\n",
    "train_p = [[117, 118, 119], [112], [117], [122, 125], [88]]"
   ]
  },
  {
   "cell_type": "code",
   "execution_count": 41,
   "metadata": {},
   "outputs": [
    {
     "data": {
      "text/html": [
       "We placed approximately 500 mg of CH3NH3I and 100 mg of PbCl2 into separate crucibles."
      ],
      "text/plain": [
       "Sentence('We placed approximately 500\\u2009mg of CH3NH3I and 100\\u2009mg of PbCl2 into separate crucibles.', 0, 86)"
      ]
     },
     "execution_count": 41,
     "metadata": {},
     "output_type": "execute_result"
    }
   ],
   "source": [
    "p = 1\n",
    "sen_yes_arr, sen_no_arr = extract_sentences('journal_articles/Paper' + str(p) + '.html', train_p[p-1])\n",
    "sen_yes_arr[0]"
   ]
  },
  {
   "cell_type": "code",
   "execution_count": 42,
   "metadata": {},
   "outputs": [],
   "source": [
    "p=[1,2,3,4,5]\n",
    "syn_yes=[]\n",
    "syn_no=[]\n",
    "for i in range(len(p)):\n",
    "    sen_yes_arr, sen_no_arr = extract_sentences('../../examples/journal_articles/Paper' + str(p[i]) + '.html', train_p[p[i]-1])\n",
    "    for j in range(len(sen_yes_arr)):\n",
    "        syn_yes.append(sen_yes_arr[j])\n",
    "    for k in range(len(sen_no_arr)):\n",
    "        syn_no.append(sen_no_arr[k])"
   ]
  },
  {
   "cell_type": "code",
   "execution_count": 43,
   "metadata": {},
   "outputs": [
    {
     "data": {
      "text/plain": [
       "55"
      ]
     },
     "execution_count": 43,
     "metadata": {},
     "output_type": "execute_result"
    }
   ],
   "source": [
    "len(syn_yes)"
   ]
  },
  {
   "cell_type": "code",
   "execution_count": 48,
   "metadata": {},
   "outputs": [
    {
     "data": {
      "text/html": [
       "<div>\n",
       "<style scoped>\n",
       "    .dataframe tbody tr th:only-of-type {\n",
       "        vertical-align: middle;\n",
       "    }\n",
       "\n",
       "    .dataframe tbody tr th {\n",
       "        vertical-align: top;\n",
       "    }\n",
       "\n",
       "    .dataframe thead th {\n",
       "        text-align: right;\n",
       "    }\n",
       "</style>\n",
       "<table border=\"1\" class=\"dataframe\">\n",
       "  <thead>\n",
       "    <tr style=\"text-align: right;\">\n",
       "      <th></th>\n",
       "      <th>x</th>\n",
       "      <th>y</th>\n",
       "    </tr>\n",
       "  </thead>\n",
       "  <tbody>\n",
       "    <tr>\n",
       "      <th>0</th>\n",
       "      <td>We placed approximately 500 mg of CH3NH3I and ...</td>\n",
       "      <td>1.0</td>\n",
       "    </tr>\n",
       "    <tr>\n",
       "      <th>1</th>\n",
       "      <td>The device substrates were placed in a substra...</td>\n",
       "      <td>1.0</td>\n",
       "    </tr>\n",
       "    <tr>\n",
       "      <th>2</th>\n",
       "      <td>Once the pressure in the chamber was pumped do...</td>\n",
       "      <td>1.0</td>\n",
       "    </tr>\n",
       "    <tr>\n",
       "      <th>3</th>\n",
       "      <td>The substrate holder was rotated to ensure uni...</td>\n",
       "      <td>1.0</td>\n",
       "    </tr>\n",
       "    <tr>\n",
       "      <th>4</th>\n",
       "      <td>The substrate holder was water-cooled to appro...</td>\n",
       "      <td>1.0</td>\n",
       "    </tr>\n",
       "    <tr>\n",
       "      <th>5</th>\n",
       "      <td>Perovskite films were optimized for best devic...</td>\n",
       "      <td>1.0</td>\n",
       "    </tr>\n",
       "    <tr>\n",
       "      <th>6</th>\n",
       "      <td>In particular, device performance was very sen...</td>\n",
       "      <td>1.0</td>\n",
       "    </tr>\n",
       "    <tr>\n",
       "      <th>7</th>\n",
       "      <td>In our trials we performed the following steps.</td>\n",
       "      <td>1.0</td>\n",
       "    </tr>\n",
       "    <tr>\n",
       "      <th>8</th>\n",
       "      <td>(1) We varied the as-deposited composition of ...</td>\n",
       "      <td>1.0</td>\n",
       "    </tr>\n",
       "    <tr>\n",
       "      <th>9</th>\n",
       "      <td>(2) We varied the film thickness—at the optimu...</td>\n",
       "      <td>1.0</td>\n",
       "    </tr>\n",
       "    <tr>\n",
       "      <th>10</th>\n",
       "      <td>(3) We fine-tuned the CH3NH3I:PbCl2 ratio for ...</td>\n",
       "      <td>1.0</td>\n",
       "    </tr>\n",
       "    <tr>\n",
       "      <th>11</th>\n",
       "      <td>(4) We optimized the hole-transporter thicknes...</td>\n",
       "      <td>1.0</td>\n",
       "    </tr>\n",
       "    <tr>\n",
       "      <th>12</th>\n",
       "      <td>The optimal deposition rate was 5.3 Å s−1 for ...</td>\n",
       "      <td>1.0</td>\n",
       "    </tr>\n",
       "    <tr>\n",
       "      <th>13</th>\n",
       "      <td>The colour of the samples after deposition var...</td>\n",
       "      <td>1.0</td>\n",
       "    </tr>\n",
       "    <tr>\n",
       "      <th>14</th>\n",
       "      <td>For the best-performing devices, a reddish-bro...</td>\n",
       "      <td>1.0</td>\n",
       "    </tr>\n",
       "    <tr>\n",
       "      <th>15</th>\n",
       "      <td>Annealing the as-deposited films at 100 °C for...</td>\n",
       "      <td>1.0</td>\n",
       "    </tr>\n",
       "    <tr>\n",
       "      <th>16</th>\n",
       "      <td>After annealing, the best-performing samples h...</td>\n",
       "      <td>1.0</td>\n",
       "    </tr>\n",
       "    <tr>\n",
       "      <th>17</th>\n",
       "      <td>As would be expected from the non-stoichiometr...</td>\n",
       "      <td>1.0</td>\n",
       "    </tr>\n",
       "    <tr>\n",
       "      <th>18</th>\n",
       "      <td>CH3NH3SnI3−xBrx was dissolved in N,N-dimethylf...</td>\n",
       "      <td>1.0</td>\n",
       "    </tr>\n",
       "    <tr>\n",
       "      <th>19</th>\n",
       "      <td>The solution was kept at 70 °C during the whol...</td>\n",
       "      <td>1.0</td>\n",
       "    </tr>\n",
       "    <tr>\n",
       "      <th>20</th>\n",
       "      <td>The mesoporous TiO2 films were then infiltrate...</td>\n",
       "      <td>1.0</td>\n",
       "    </tr>\n",
       "    <tr>\n",
       "      <th>21</th>\n",
       "      <td>The HTM was then deposited by spin coating at ...</td>\n",
       "      <td>1.0</td>\n",
       "    </tr>\n",
       "    <tr>\n",
       "      <th>22</th>\n",
       "      <td>The spin-coating formulation was prepared by d...</td>\n",
       "      <td>1.0</td>\n",
       "    </tr>\n",
       "    <tr>\n",
       "      <th>23</th>\n",
       "      <td>Finally, 100 nm of gold was thermally evaporat...</td>\n",
       "      <td>1.0</td>\n",
       "    </tr>\n",
       "    <tr>\n",
       "      <th>24</th>\n",
       "      <td>The devices were sealed in nitrogen using a 30...</td>\n",
       "      <td>1.0</td>\n",
       "    </tr>\n",
       "    <tr>\n",
       "      <th>25</th>\n",
       "      <td>Patterned transparent conducting oxide substra...</td>\n",
       "      <td>1.0</td>\n",
       "    </tr>\n",
       "    <tr>\n",
       "      <th>26</th>\n",
       "      <td>A 350-nm-thick mesoporous TiO2 layer composed ...</td>\n",
       "      <td>1.0</td>\n",
       "    </tr>\n",
       "    <tr>\n",
       "      <th>27</th>\n",
       "      <td>The mesoporous TiO2 films were infiltrated wit...</td>\n",
       "      <td>1.0</td>\n",
       "    </tr>\n",
       "    <tr>\n",
       "      <th>28</th>\n",
       "      <td>After drying, the films were dipped in a solut...</td>\n",
       "      <td>1.0</td>\n",
       "    </tr>\n",
       "    <tr>\n",
       "      <th>29</th>\n",
       "      <td>After drying, the HTM was deposited by spin-co...</td>\n",
       "      <td>1.0</td>\n",
       "    </tr>\n",
       "    <tr>\n",
       "      <th>...</th>\n",
       "      <td>...</td>\n",
       "      <td>...</td>\n",
       "    </tr>\n",
       "    <tr>\n",
       "      <th>4586</th>\n",
       "      <td>Editorial policies</td>\n",
       "      <td>0.0</td>\n",
       "    </tr>\n",
       "    <tr>\n",
       "      <th>4587</th>\n",
       "      <td>Open access</td>\n",
       "      <td>0.0</td>\n",
       "    </tr>\n",
       "    <tr>\n",
       "      <th>4588</th>\n",
       "      <td>Reprints &amp; permissions</td>\n",
       "      <td>0.0</td>\n",
       "    </tr>\n",
       "    <tr>\n",
       "      <th>4589</th>\n",
       "      <td>Research data</td>\n",
       "      <td>0.0</td>\n",
       "    </tr>\n",
       "    <tr>\n",
       "      <th>4590</th>\n",
       "      <td>Language editing</td>\n",
       "      <td>0.0</td>\n",
       "    </tr>\n",
       "    <tr>\n",
       "      <th>4591</th>\n",
       "      <td>Scientific editing</td>\n",
       "      <td>0.0</td>\n",
       "    </tr>\n",
       "    <tr>\n",
       "      <th>4592</th>\n",
       "      <td>Nature Masterclasses</td>\n",
       "      <td>0.0</td>\n",
       "    </tr>\n",
       "    <tr>\n",
       "      <th>4593</th>\n",
       "      <td>Nature Research Academies</td>\n",
       "      <td>0.0</td>\n",
       "    </tr>\n",
       "    <tr>\n",
       "      <th>4594</th>\n",
       "      <td>Librarian service &amp; tools</td>\n",
       "      <td>0.0</td>\n",
       "    </tr>\n",
       "    <tr>\n",
       "      <th>4595</th>\n",
       "      <td>Librarian portal</td>\n",
       "      <td>0.0</td>\n",
       "    </tr>\n",
       "    <tr>\n",
       "      <th>4596</th>\n",
       "      <td>Open research</td>\n",
       "      <td>0.0</td>\n",
       "    </tr>\n",
       "    <tr>\n",
       "      <th>4597</th>\n",
       "      <td>Advertising</td>\n",
       "      <td>0.0</td>\n",
       "    </tr>\n",
       "    <tr>\n",
       "      <th>4598</th>\n",
       "      <td>Partnerships &amp; Services</td>\n",
       "      <td>0.0</td>\n",
       "    </tr>\n",
       "    <tr>\n",
       "      <th>4599</th>\n",
       "      <td>Media kits</td>\n",
       "      <td>0.0</td>\n",
       "    </tr>\n",
       "    <tr>\n",
       "      <th>4600</th>\n",
       "      <td>Branded content</td>\n",
       "      <td>0.0</td>\n",
       "    </tr>\n",
       "    <tr>\n",
       "      <th>4601</th>\n",
       "      <td>Nature Careers</td>\n",
       "      <td>0.0</td>\n",
       "    </tr>\n",
       "    <tr>\n",
       "      <th>4602</th>\n",
       "      <td>Nature  Conferences</td>\n",
       "      <td>0.0</td>\n",
       "    </tr>\n",
       "    <tr>\n",
       "      <th>4603</th>\n",
       "      <td>Nature  events</td>\n",
       "      <td>0.0</td>\n",
       "    </tr>\n",
       "    <tr>\n",
       "      <th>4604</th>\n",
       "      <td>Nature China</td>\n",
       "      <td>0.0</td>\n",
       "    </tr>\n",
       "    <tr>\n",
       "      <th>4605</th>\n",
       "      <td>Nature India</td>\n",
       "      <td>0.0</td>\n",
       "    </tr>\n",
       "    <tr>\n",
       "      <th>4606</th>\n",
       "      <td>Nature Japan</td>\n",
       "      <td>0.0</td>\n",
       "    </tr>\n",
       "    <tr>\n",
       "      <th>4607</th>\n",
       "      <td>Nature Korea</td>\n",
       "      <td>0.0</td>\n",
       "    </tr>\n",
       "    <tr>\n",
       "      <th>4608</th>\n",
       "      <td>Nature Middle East</td>\n",
       "      <td>0.0</td>\n",
       "    </tr>\n",
       "    <tr>\n",
       "      <th>4609</th>\n",
       "      <td>© 2019 Springer Nature Publishing AG</td>\n",
       "      <td>0.0</td>\n",
       "    </tr>\n",
       "    <tr>\n",
       "      <th>4610</th>\n",
       "      <td>Privacy Policy</td>\n",
       "      <td>0.0</td>\n",
       "    </tr>\n",
       "    <tr>\n",
       "      <th>4611</th>\n",
       "      <td>Use of cookies</td>\n",
       "      <td>0.0</td>\n",
       "    </tr>\n",
       "    <tr>\n",
       "      <th>4612</th>\n",
       "      <td>Manage cookies</td>\n",
       "      <td>0.0</td>\n",
       "    </tr>\n",
       "    <tr>\n",
       "      <th>4613</th>\n",
       "      <td>Legal notice</td>\n",
       "      <td>0.0</td>\n",
       "    </tr>\n",
       "    <tr>\n",
       "      <th>4614</th>\n",
       "      <td>Accessibility statement</td>\n",
       "      <td>0.0</td>\n",
       "    </tr>\n",
       "    <tr>\n",
       "      <th>4615</th>\n",
       "      <td>Terms &amp; Conditions</td>\n",
       "      <td>0.0</td>\n",
       "    </tr>\n",
       "  </tbody>\n",
       "</table>\n",
       "<p>4671 rows × 2 columns</p>\n",
       "</div>"
      ],
      "text/plain": [
       "                                                      x    y\n",
       "0     We placed approximately 500 mg of CH3NH3I and ...  1.0\n",
       "1     The device substrates were placed in a substra...  1.0\n",
       "2     Once the pressure in the chamber was pumped do...  1.0\n",
       "3     The substrate holder was rotated to ensure uni...  1.0\n",
       "4     The substrate holder was water-cooled to appro...  1.0\n",
       "5     Perovskite films were optimized for best devic...  1.0\n",
       "6     In particular, device performance was very sen...  1.0\n",
       "7       In our trials we performed the following steps.  1.0\n",
       "8     (1) We varied the as-deposited composition of ...  1.0\n",
       "9     (2) We varied the film thickness—at the optimu...  1.0\n",
       "10    (3) We fine-tuned the CH3NH3I:PbCl2 ratio for ...  1.0\n",
       "11    (4) We optimized the hole-transporter thicknes...  1.0\n",
       "12    The optimal deposition rate was 5.3 Å s−1 for ...  1.0\n",
       "13    The colour of the samples after deposition var...  1.0\n",
       "14    For the best-performing devices, a reddish-bro...  1.0\n",
       "15    Annealing the as-deposited films at 100 °C for...  1.0\n",
       "16    After annealing, the best-performing samples h...  1.0\n",
       "17    As would be expected from the non-stoichiometr...  1.0\n",
       "18    CH3NH3SnI3−xBrx was dissolved in N,N-dimethylf...  1.0\n",
       "19    The solution was kept at 70 °C during the whol...  1.0\n",
       "20    The mesoporous TiO2 films were then infiltrate...  1.0\n",
       "21    The HTM was then deposited by spin coating at ...  1.0\n",
       "22    The spin-coating formulation was prepared by d...  1.0\n",
       "23    Finally, 100 nm of gold was thermally evaporat...  1.0\n",
       "24    The devices were sealed in nitrogen using a 30...  1.0\n",
       "25    Patterned transparent conducting oxide substra...  1.0\n",
       "26    A 350-nm-thick mesoporous TiO2 layer composed ...  1.0\n",
       "27    The mesoporous TiO2 films were infiltrated wit...  1.0\n",
       "28    After drying, the films were dipped in a solut...  1.0\n",
       "29    After drying, the HTM was deposited by spin-co...  1.0\n",
       "...                                                 ...  ...\n",
       "4586                                 Editorial policies  0.0\n",
       "4587                                        Open access  0.0\n",
       "4588                             Reprints & permissions  0.0\n",
       "4589                                      Research data  0.0\n",
       "4590                                   Language editing  0.0\n",
       "4591                                 Scientific editing  0.0\n",
       "4592                               Nature Masterclasses  0.0\n",
       "4593                          Nature Research Academies  0.0\n",
       "4594                          Librarian service & tools  0.0\n",
       "4595                                   Librarian portal  0.0\n",
       "4596                                      Open research  0.0\n",
       "4597                                        Advertising  0.0\n",
       "4598                            Partnerships & Services  0.0\n",
       "4599                                         Media kits  0.0\n",
       "4600                                    Branded content  0.0\n",
       "4601                                     Nature Careers  0.0\n",
       "4602                                Nature  Conferences  0.0\n",
       "4603                                     Nature  events  0.0\n",
       "4604                                       Nature China  0.0\n",
       "4605                                       Nature India  0.0\n",
       "4606                                       Nature Japan  0.0\n",
       "4607                                       Nature Korea  0.0\n",
       "4608                                 Nature Middle East  0.0\n",
       "4609               © 2019 Springer Nature Publishing AG  0.0\n",
       "4610                                     Privacy Policy  0.0\n",
       "4611                                     Use of cookies  0.0\n",
       "4612                                     Manage cookies  0.0\n",
       "4613                                       Legal notice  0.0\n",
       "4614                            Accessibility statement  0.0\n",
       "4615                                 Terms & Conditions  0.0\n",
       "\n",
       "[4671 rows x 2 columns]"
      ]
     },
     "execution_count": 48,
     "metadata": {},
     "output_type": "execute_result"
    }
   ],
   "source": [
    "import pandas as pd\n",
    "Syn_sen=pd.DataFrame({'x':syn_yes, 'y':np.ones(len(syn_yes))})\n",
    "Syn_not_sen=pd.DataFrame({'x':syn_no, 'y':np.zeros(len(syn_no))})\n",
    "Test=[Syn_sen,Syn_not_sen]\n",
    "test_data=pd.concat(Test)\n",
    "test_data"
   ]
  },
  {
   "cell_type": "code",
   "execution_count": 24,
   "metadata": {},
   "outputs": [
    {
     "data": {
      "text/plain": [
       "int"
      ]
     },
     "execution_count": 24,
     "metadata": {},
     "output_type": "execute_result"
    }
   ],
   "source": [
    "type(df.shape[0])"
   ]
  },
  {
   "cell_type": "code",
   "execution_count": 62,
   "metadata": {},
   "outputs": [],
   "source": [
    "# sen_no_arr"
   ]
  },
  {
   "cell_type": "code",
   "execution_count": 68,
   "metadata": {},
   "outputs": [
    {
     "data": {
      "text/plain": [
       "[Sentence('Patterned transparent conducting oxide substrates were coated with a TiO2 compact layer by aerosol spray pyrolysis.', 0, 115),\n",
       " Sentence('A 350-nm-thick mesoporous TiO2 layer composed of 20-nm-sized particles was then deposited by spin coating.', 116, 222),\n",
       " Sentence('The mesoporous TiO2 films were infiltrated with PbI2 by spin-coating a PbI2 solution in DMF (462\\u2009mg\\u2009ml−1) that was kept at 70\\u2009°C.', 223, 352),\n",
       " Sentence('After drying, the films were dipped in a solution of CH3NH3I in 2-propanol (10\\u2009mg\\u2009ml−1) for 20\\u2009s and rinsed with 2-propanol.', 353, 477),\n",
       " Sentence('After drying, the HTM was deposited by spin-coating a solution of spiro-MeOTAD, 4-tert-butylpyridine, lithium bis(trifluoromethylsulphonyl)imide and tris(2-(1H-pyrazol-1-yl)-4-tert-butylpyridine)cobalt(iii) bis(trifluoromethylsulphonyl)imide in chlorobenzene.', 478, 737),\n",
       " Sentence('Gold (80\\u2009nm) was thermally evaporated on top of the device to form the back contact.', 738, 822),\n",
       " Sentence('For the fabrication of the best-performing devices, slightly modified conditions were used.', 823, 914),\n",
       " Sentence('First, PbI2 was spin-cast for 5\\u2009s instead of 90\\u2009s and, second, the samples were subjected to a ‘pre-wetting’ by dipping in 2-propanol for 1–2\\u2009s before being dipped in the solution of CH3NH3I and 2-propanol.', 915, 1121),\n",
       " Sentence('For all measurements, devices were equipped with a 0.285-cm2 metal aperture to define the active area.', 1122, 1224)]"
      ]
     },
     "execution_count": 68,
     "metadata": {},
     "output_type": "execute_result"
    }
   ],
   "source": [
    "p = 3\n",
    "sen_yes_arr, sen_no_arr = extract_sentences('../../examples/journal_articles/Paper' + str(p) + '.html', train_p[p-1])\n",
    "sen_yes_arr"
   ]
  },
  {
   "cell_type": "markdown",
   "metadata": {},
   "source": [
    "##### The is the \"test\" data, the original Nature paper we are all supposedly using"
   ]
  },
  {
   "cell_type": "code",
   "execution_count": 70,
   "metadata": {},
   "outputs": [
    {
     "data": {
      "text/plain": [
       "[Sentence('A dense blocking layer of TiO2 (bl-TiO2, ∼70 nm in thickness) was deposited onto a F-doped SnO2 (FTO, Pilkington, TEC8) substrate by spray pyrolysis, using a 20 mM titanium diisopropoxide bis(acetylacetonate) solution (Aldrich) at 450 °C to prevent direct contact between the FTO and the hole-conducting layer.', 0, 310),\n",
       " Sentence('A 200–300-nm-thick mesoporous TiO2 (particle size: about 50 nm, crystalline phase: anatase) film was spin-coated onto the bl-TiO2/FTO substrate using home-made pastes14 and calcining at 500 °C for 1 h in air to remove organic components.', 311, 548),\n",
       " Sentence('CH3NH3I (MAI) and CH3NH3Br (MABr) were first synthesized by reacting 27.86 ml CH3NH2 (40% in methanol, Junsei Chemical) and 30 ml HI (57 wt% in water, Aldrich) or 44 ml HBr (48 wt% in water, Aldrich) in a 250 ml round-bottom flask at 0 °C for 4 h with stirring, respectively.', 549, 824),\n",
       " Sentence('The precipitate was recovered by evaporation at 55 °C for 1 h. MAI and MABr were dissolved in ethanol, recrystallized from diethyl ether, and dried at 60 °C in a vacuum oven for 24 h.', 825, 1008),\n",
       " Sentence('The prepared MAI and MABr powders, PbI2 (Aldrich) and PbBr2 (Aldrich) for 0.8 M MAPb(I1\\xa0−\\xa0xBrx)3 (x\\xa0 = \\xa00.1–0.15) solution were stirred in a mixture of GBL and DMSO (7:3 v/v) at 60 °C for 12 h.', 1009, 1202),\n",
       " Sentence('The resulting solution was coated onto the mp-TiO2/bl-TiO2/FTO substrate by a consecutive two-step spin-coating process at 1,000 and 5,000 r.p.m for 10 and 20 s, respectively.', 1203, 1378),\n",
       " Sentence('During the second spin-coating step, the substrate (around 1 cm × 1 cm) was treated with toluene drop-casting.', 1379, 1489),\n",
       " Sentence('A detailed time-rotation profile for the spin-coating is represented in Supplementary Fig.\\xa01c.', 1490, 1584),\n",
       " Sentence('The substrate was dried on a hot plate at 100 °C for 10 min.', 1585, 1645),\n",
       " Sentence('A solution of poly(triarylamine) (15 mg, PTAA, EM Index, Mw\\xa0 = \\xa017,500 g mol−1) in toluene (1.5 ml) was mixed with 15 μl of a solution of lithium bistrifluoromethanesulphonimidate (170 mg) in acetonitrile (1 ml) and 7.5 μl 4-tert-butylpyridine and spin-coated on the MAPb(I1\\xa0−\\xa0xBrx)3 (x\\xa0 = \\xa00.1–0.15)/mp-TiO2/bl-TiO2/FTO substrate at 3,000 r.p.m for 30 s.', 1646, 2001),\n",
       " Sentence('Finally, a Au counterelectrode was deposited by thermal evaporation.', 2002, 2070),\n",
       " Sentence('The active area of this electrode was fixed at 0.16 cm2.', 2071, 2127)]"
      ]
     },
     "execution_count": 70,
     "metadata": {},
     "output_type": "execute_result"
    }
   ],
   "source": [
    "sen_yes_arr, sen_no_arr = extract_sentences('../../examples/journal_articles/Paper' + str(0) + '.html', test_p[0])\n",
    "sen_yes_arr"
   ]
  },
  {
   "cell_type": "code",
   "execution_count": null,
   "metadata": {},
   "outputs": [],
   "source": []
  }
 ],
 "metadata": {
  "kernelspec": {
   "display_name": "Python 3",
   "language": "python",
   "name": "python3"
  },
  "language_info": {
   "codemirror_mode": {
    "name": "ipython",
    "version": 3
   },
   "file_extension": ".py",
   "mimetype": "text/x-python",
   "name": "python",
   "nbconvert_exporter": "python",
   "pygments_lexer": "ipython3",
   "version": "3.6.8"
  }
 },
 "nbformat": 4,
 "nbformat_minor": 2
}

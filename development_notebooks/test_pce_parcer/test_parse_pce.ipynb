{
 "cells": [
  {
   "cell_type": "code",
   "execution_count": 19,
   "metadata": {
    "collapsed": true
   },
   "outputs": [],
   "source": [
    "from chemdataextractor import Document\n",
    "import chemdataextractor as cde"
   ]
  },
  {
   "cell_type": "markdown",
   "metadata": {},
   "source": [
    "### Read in text from end of paper containing PCE info: \n",
    "Solar cells containing 1 display PCEs up to 4.73 %. Though devices containing 2 have exceeded PCEs of 15 %,2a–2c their moisture sensitivity remains a concern for large‐scale device fabrication or their long‐term use. The layered structure of 1 aids the formation of high‐quality films that show greater moisture resistance compared to 2. The larger bandgap of 1 also affords a higher VOC value of 1.18 V compared to devices with 2. Further improvements in material structure and device engineering, including making appropriate electronic contact with the anisotropic inorganic sheets, should increase the PCEs of these devices. In particular, higher values of n as single‐phase materials or as mixtures may allow for lower bandgaps and higher carrier mobility in the inorganic layers while the organic layers provide additional tunability. For example, hydrophobic fluorocarbons could increase moisture stability, conjugated organic layers could facilitate charge transport, and organic photosensitizers could improve the absorption properties of the material. We are focused on manipulating this extraordinarily versatile platform through synthetic design."
   ]
  },
  {
   "cell_type": "code",
   "execution_count": 3,
   "metadata": {
    "collapsed": false
   },
   "outputs": [],
   "source": [
    "f = open('test_paper.html', 'rb')\n",
    "doc = Document('Solar cells containing 1 display PCEs up to 4.73 %. Though devices containing 2 have exceeded PCEs of 15 %,2a–2c their moisture sensitivity remains a concern for large‐scale device fabrication or their long‐term use. The layered structure of 1 aids the formation of high‐quality films that show greater moisture resistance compared to 2. The larger bandgap of 1 also affords a higher VOC value of 1.18 V compared to devices with 2. Further improvements in material structure and device engineering, including making appropriate electronic contact with the anisotropic inorganic sheets, should increase the PCEs of these devices. In particular, higher values of n as single‐phase materials or as mixtures may allow for lower bandgaps and higher carrier mobility in the inorganic layers while the organic layers provide additional tunability. For example, hydrophobic fluorocarbons could increase moisture stability, conjugated organic layers could facilitate charge transport, and organic photosensitizers could improve the absorption properties of the material. We are focused on manipulating this extraordinarily versatile platform through synthetic design.')"
   ]
  },
  {
   "cell_type": "code",
   "execution_count": 4,
   "metadata": {
    "collapsed": false
   },
   "outputs": [
    {
     "data": {
      "text/plain": [
       "[Span(u'fluorocarbons', 866, 879)]"
      ]
     },
     "execution_count": 4,
     "metadata": {},
     "output_type": "execute_result"
    }
   ],
   "source": [
    "doc.cems\n"
   ]
  },
  {
   "cell_type": "code",
   "execution_count": 5,
   "metadata": {
    "collapsed": false,
    "scrolled": false
   },
   "outputs": [
    {
     "data": {
      "text/plain": [
       "[<Compound>]"
      ]
     },
     "execution_count": 5,
     "metadata": {},
     "output_type": "execute_result"
    }
   ],
   "source": [
    "doc.records"
   ]
  },
  {
   "cell_type": "code",
   "execution_count": 7,
   "metadata": {
    "collapsed": false
   },
   "outputs": [
    {
     "data": {
      "text/plain": [
       "chemdataextractor.model.Compound"
      ]
     },
     "execution_count": 7,
     "metadata": {},
     "output_type": "execute_result"
    }
   ],
   "source": [
    "type(doc.records[0])"
   ]
  },
  {
   "cell_type": "code",
   "execution_count": 9,
   "metadata": {
    "collapsed": false
   },
   "outputs": [
    {
     "data": {
      "text/plain": [
       "{u'names': [u'fluorocarbons']}"
      ]
     },
     "execution_count": 9,
     "metadata": {},
     "output_type": "execute_result"
    }
   ],
   "source": [
    "doc.records[0].serialize()"
   ]
  },
  {
   "cell_type": "code",
   "execution_count": 22,
   "metadata": {
    "collapsed": false
   },
   "outputs": [
    {
     "data": {
      "text/plain": [
       "chemdataextractor.doc.text.Paragraph"
      ]
     },
     "execution_count": 22,
     "metadata": {},
     "output_type": "execute_result"
    }
   ],
   "source": [
    "type(doc.elements[0])"
   ]
  },
  {
   "cell_type": "code",
   "execution_count": 12,
   "metadata": {
    "collapsed": false,
    "scrolled": false
   },
   "outputs": [
    {
     "data": {
      "text/plain": [
       "[[Token(u'Solar', 0, 5),\n",
       "  Token(u'cells', 6, 11),\n",
       "  Token(u'containing', 12, 22),\n",
       "  Token(u'1', 23, 24),\n",
       "  Token(u'display', 25, 32),\n",
       "  Token(u'PCEs', 33, 37),\n",
       "  Token(u'up', 38, 40),\n",
       "  Token(u'to', 41, 43),\n",
       "  Token(u'4.73', 44, 48),\n",
       "  Token(u'%', 49, 50),\n",
       "  Token(u'.', 50, 51)],\n",
       " [Token(u'Though', 52, 58),\n",
       "  Token(u'devices', 59, 66),\n",
       "  Token(u'containing', 67, 77),\n",
       "  Token(u'2', 78, 79),\n",
       "  Token(u'have', 80, 84),\n",
       "  Token(u'exceeded', 85, 93),\n",
       "  Token(u'PCEs', 94, 98),\n",
       "  Token(u'of', 99, 101),\n",
       "  Token(u'15', 102, 104),\n",
       "  Token(u'%', 105, 106),\n",
       "  Token(u',2a', 106, 109),\n",
       "  Token(u'\\u2013', 109, 110),\n",
       "  Token(u'2c', 110, 112),\n",
       "  Token(u'their', 113, 118),\n",
       "  Token(u'moisture', 119, 127),\n",
       "  Token(u'sensitivity', 128, 139),\n",
       "  Token(u'remains', 140, 147),\n",
       "  Token(u'a', 148, 149),\n",
       "  Token(u'concern', 150, 157),\n",
       "  Token(u'for', 158, 161),\n",
       "  Token(u'large\\u2010scale', 162, 173),\n",
       "  Token(u'device', 174, 180),\n",
       "  Token(u'fabrication', 181, 192),\n",
       "  Token(u'or', 193, 195),\n",
       "  Token(u'their', 196, 201),\n",
       "  Token(u'long\\u2010term', 202, 211),\n",
       "  Token(u'use', 212, 215),\n",
       "  Token(u'.', 215, 216)],\n",
       " [Token(u'The', 217, 220),\n",
       "  Token(u'layered', 221, 228),\n",
       "  Token(u'structure', 229, 238),\n",
       "  Token(u'of', 239, 241),\n",
       "  Token(u'1', 242, 243),\n",
       "  Token(u'aids', 244, 248),\n",
       "  Token(u'the', 249, 252),\n",
       "  Token(u'formation', 253, 262),\n",
       "  Token(u'of', 263, 265),\n",
       "  Token(u'high\\u2010quality', 266, 278),\n",
       "  Token(u'films', 279, 284),\n",
       "  Token(u'that', 285, 289),\n",
       "  Token(u'show', 290, 294),\n",
       "  Token(u'greater', 295, 302),\n",
       "  Token(u'moisture', 303, 311),\n",
       "  Token(u'resistance', 312, 322),\n",
       "  Token(u'compared', 323, 331),\n",
       "  Token(u'to', 332, 334),\n",
       "  Token(u'2', 335, 336),\n",
       "  Token(u'.', 336, 337)],\n",
       " [Token(u'The', 338, 341),\n",
       "  Token(u'larger', 342, 348),\n",
       "  Token(u'bandgap', 349, 356),\n",
       "  Token(u'of', 357, 359),\n",
       "  Token(u'1', 360, 361),\n",
       "  Token(u'also', 362, 366),\n",
       "  Token(u'affords', 367, 374),\n",
       "  Token(u'a', 375, 376),\n",
       "  Token(u'higher', 377, 383),\n",
       "  Token(u'VOC', 384, 387),\n",
       "  Token(u'value', 388, 393),\n",
       "  Token(u'of', 394, 396),\n",
       "  Token(u'1.18', 397, 401),\n",
       "  Token(u'V', 402, 403),\n",
       "  Token(u'compared', 404, 412),\n",
       "  Token(u'to', 413, 415),\n",
       "  Token(u'devices', 416, 423),\n",
       "  Token(u'with', 424, 428),\n",
       "  Token(u'2', 429, 430),\n",
       "  Token(u'.', 430, 431)],\n",
       " [Token(u'Further', 432, 439),\n",
       "  Token(u'improvements', 440, 452),\n",
       "  Token(u'in', 453, 455),\n",
       "  Token(u'material', 456, 464),\n",
       "  Token(u'structure', 465, 474),\n",
       "  Token(u'and', 475, 478),\n",
       "  Token(u'device', 479, 485),\n",
       "  Token(u'engineering', 486, 497),\n",
       "  Token(u',', 497, 498),\n",
       "  Token(u'including', 499, 508),\n",
       "  Token(u'making', 509, 515),\n",
       "  Token(u'appropriate', 516, 527),\n",
       "  Token(u'electronic', 528, 538),\n",
       "  Token(u'contact', 539, 546),\n",
       "  Token(u'with', 547, 551),\n",
       "  Token(u'the', 552, 555),\n",
       "  Token(u'anisotropic', 556, 567),\n",
       "  Token(u'inorganic', 568, 577),\n",
       "  Token(u'sheets', 578, 584),\n",
       "  Token(u',', 584, 585),\n",
       "  Token(u'should', 586, 592),\n",
       "  Token(u'increase', 593, 601),\n",
       "  Token(u'the', 602, 605),\n",
       "  Token(u'PCEs', 606, 610),\n",
       "  Token(u'of', 611, 613),\n",
       "  Token(u'these', 614, 619),\n",
       "  Token(u'devices', 620, 627),\n",
       "  Token(u'.', 627, 628)],\n",
       " [Token(u'In', 629, 631),\n",
       "  Token(u'particular', 632, 642),\n",
       "  Token(u',', 642, 643),\n",
       "  Token(u'higher', 644, 650),\n",
       "  Token(u'values', 651, 657),\n",
       "  Token(u'of', 658, 660),\n",
       "  Token(u'n', 661, 662),\n",
       "  Token(u'as', 663, 665),\n",
       "  Token(u'single\\u2010phase', 666, 678),\n",
       "  Token(u'materials', 679, 688),\n",
       "  Token(u'or', 689, 691),\n",
       "  Token(u'as', 692, 694),\n",
       "  Token(u'mixtures', 695, 703),\n",
       "  Token(u'may', 704, 707),\n",
       "  Token(u'allow', 708, 713),\n",
       "  Token(u'for', 714, 717),\n",
       "  Token(u'lower', 718, 723),\n",
       "  Token(u'bandgaps', 724, 732),\n",
       "  Token(u'and', 733, 736),\n",
       "  Token(u'higher', 737, 743),\n",
       "  Token(u'carrier', 744, 751),\n",
       "  Token(u'mobility', 752, 760),\n",
       "  Token(u'in', 761, 763),\n",
       "  Token(u'the', 764, 767),\n",
       "  Token(u'inorganic', 768, 777),\n",
       "  Token(u'layers', 778, 784),\n",
       "  Token(u'while', 785, 790),\n",
       "  Token(u'the', 791, 794),\n",
       "  Token(u'organic', 795, 802),\n",
       "  Token(u'layers', 803, 809),\n",
       "  Token(u'provide', 810, 817),\n",
       "  Token(u'additional', 818, 828),\n",
       "  Token(u'tunability', 829, 839),\n",
       "  Token(u'.', 839, 840)],\n",
       " [Token(u'For', 841, 844),\n",
       "  Token(u'example', 845, 852),\n",
       "  Token(u',', 852, 853),\n",
       "  Token(u'hydrophobic', 854, 865),\n",
       "  Token(u'fluorocarbons', 866, 879),\n",
       "  Token(u'could', 880, 885),\n",
       "  Token(u'increase', 886, 894),\n",
       "  Token(u'moisture', 895, 903),\n",
       "  Token(u'stability', 904, 913),\n",
       "  Token(u',', 913, 914),\n",
       "  Token(u'conjugated', 915, 925),\n",
       "  Token(u'organic', 926, 933),\n",
       "  Token(u'layers', 934, 940),\n",
       "  Token(u'could', 941, 946),\n",
       "  Token(u'facilitate', 947, 957),\n",
       "  Token(u'charge', 958, 964),\n",
       "  Token(u'transport', 965, 974),\n",
       "  Token(u',', 974, 975),\n",
       "  Token(u'and', 976, 979),\n",
       "  Token(u'organic', 980, 987),\n",
       "  Token(u'photosensitizers', 988, 1004),\n",
       "  Token(u'could', 1005, 1010),\n",
       "  Token(u'improve', 1011, 1018),\n",
       "  Token(u'the', 1019, 1022),\n",
       "  Token(u'absorption', 1023, 1033),\n",
       "  Token(u'properties', 1034, 1044),\n",
       "  Token(u'of', 1045, 1047),\n",
       "  Token(u'the', 1048, 1051),\n",
       "  Token(u'material', 1052, 1060),\n",
       "  Token(u'.', 1060, 1061)],\n",
       " [Token(u'We', 1062, 1064),\n",
       "  Token(u'are', 1065, 1068),\n",
       "  Token(u'focused', 1069, 1076),\n",
       "  Token(u'on', 1077, 1079),\n",
       "  Token(u'manipulating', 1080, 1092),\n",
       "  Token(u'this', 1093, 1097),\n",
       "  Token(u'extraordinarily', 1098, 1113),\n",
       "  Token(u'versatile', 1114, 1123),\n",
       "  Token(u'platform', 1124, 1132),\n",
       "  Token(u'through', 1133, 1140),\n",
       "  Token(u'synthetic', 1141, 1150),\n",
       "  Token(u'design', 1151, 1157),\n",
       "  Token(u'.', 1157, 1158)]]"
      ]
     },
     "execution_count": 12,
     "metadata": {},
     "output_type": "execute_result"
    }
   ],
   "source": [
    "para = doc.elements[0]\n",
    "para.tokens"
   ]
  },
  {
   "cell_type": "code",
   "execution_count": 13,
   "metadata": {
    "collapsed": false
   },
   "outputs": [
    {
     "data": {
      "text/plain": [
       "[Token(u'Solar', 0, 5),\n",
       " Token(u'cells', 6, 11),\n",
       " Token(u'containing', 12, 22),\n",
       " Token(u'1', 23, 24),\n",
       " Token(u'display', 25, 32),\n",
       " Token(u'PCEs', 33, 37),\n",
       " Token(u'up', 38, 40),\n",
       " Token(u'to', 41, 43),\n",
       " Token(u'4.73', 44, 48),\n",
       " Token(u'%', 49, 50),\n",
       " Token(u'.', 50, 51)]"
      ]
     },
     "execution_count": 13,
     "metadata": {},
     "output_type": "execute_result"
    }
   ],
   "source": [
    "para.tokens[0]"
   ]
  },
  {
   "cell_type": "markdown",
   "metadata": {},
   "source": [
    "The '1' appearing in the first sentence of 'para' is defined in the caption to Fig 4. \n",
    "\n",
    "\"PXRD patterns of films of (PEA)2(MA)2[Pb3I10] (1), (MA)[PbI3] formed from PbI2 (2 a), and (MA)[PbI3] formed from PbCl2 (2 b), which were exposed to 52 % relative humidity. Annealing of films of 2 a (15 minutes) and 2 b (80 minutes) was conducted at 100 °C prior to humidity exposure. Asterisks denote the major reflections from PbI2.\""
   ]
  },
  {
   "cell_type": "markdown",
   "metadata": {},
   "source": [
    "try procession the caption"
   ]
  },
  {
   "cell_type": "code",
   "execution_count": 14,
   "metadata": {
    "collapsed": true
   },
   "outputs": [],
   "source": [
    "caption = Document(\"PXRD patterns of films of (PEA)2(MA)2[Pb3I10] (1), (MA)[PbI3] formed from PbI2 (2 a), and (MA)[PbI3] formed from PbCl2 (2 b), which were exposed to 52 % relative humidity. Annealing of films of 2 a (15 minutes) and 2 b (80 minutes) was conducted at 100 °C prior to humidity exposure. Asterisks denote the major reflections from PbI2.\")"
   ]
  },
  {
   "cell_type": "code",
   "execution_count": 16,
   "metadata": {
    "collapsed": false
   },
   "outputs": [
    {
     "data": {
      "text/html": [
       "<div class=\"cde-document\">\n",
       "<p class=\"cde-paragraph\">PXRD patterns of films of (PEA)2(MA)2[Pb3I10] (1), (MA)[PbI3] formed from PbI2 (2 a), and (MA)[PbI3] formed from PbCl2 (2 b), which were exposed to 52 % relative humidity. Annealing of films of 2 a (15 minutes) and 2 b (80 minutes) was conducted at 100 °C prior to humidity exposure. Asterisks denote the major reflections from PbI2.</p>\n",
       "</div>"
      ],
      "text/plain": [
       "<Document: 1 elements>"
      ]
     },
     "execution_count": 16,
     "metadata": {},
     "output_type": "execute_result"
    }
   ],
   "source": [
    "caption"
   ]
  },
  {
   "cell_type": "code",
   "execution_count": 18,
   "metadata": {
    "collapsed": false
   },
   "outputs": [
    {
     "data": {
      "text/plain": [
       "[{u'labels': [u'1'], u'names': [u'(PEA)2(MA)2[Pb3I10]']},\n",
       " {u'names': [u'(MA)[PbI3]']},\n",
       " {u'names': [u'PbI2']},\n",
       " {u'names': [u'PbCl2']},\n",
       " {u'names': [u'PbI2']}]"
      ]
     },
     "execution_count": 18,
     "metadata": {},
     "output_type": "execute_result"
    }
   ],
   "source": [
    "caption[0].records.serialize()"
   ]
  },
  {
   "cell_type": "markdown",
   "metadata": {},
   "source": [
    "Will try combining caption and paragraph into one Document manually. "
   ]
  },
  {
   "cell_type": "code",
   "execution_count": 28,
   "metadata": {
    "collapsed": false
   },
   "outputs": [],
   "source": [
    "doc_w_cap = Document(cde.doc.text.Paragraph(u'Solar cells containing 1 display PCEs up to 4.73 %. Though devices containing 2 have exceeded PCEs of 15 %,2a–2c their moisture sensitivity remains a concern for large‐scale device fabrication or their long‐term use. The layered structure of 1 aids the formation of high‐quality films that show greater moisture resistance compared to 2. The larger bandgap of 1 also affords a higher VOC value of 1.18 V compared to devices with 2. Further improvements in material structure and device engineering, including making appropriate electronic contact with the anisotropic inorganic sheets, should increase the PCEs of these devices. In particular, higher values of n as single‐phase materials or as mixtures may allow for lower bandgaps and higher carrier mobility in the inorganic layers while the organic layers provide additional tunability. For example, hydrophobic fluorocarbons could increase moisture stability, conjugated organic layers could facilitate charge transport, and organic photosensitizers could improve the absorption properties of the material. We are focused on manipulating this extraordinarily versatile platform through synthetic design.'),\n",
    "                      cde.doc.text.Caption(u'PXRD patterns of films of (PEA)2(MA)2[Pb3I10] (1), (MA)[PbI3] formed from PbI2 (2 a), and (MA)[PbI3] formed from PbCl2 (2 b), which were exposed to 52 % relative humidity. Annealing of films of 2 a (15 minutes) and 2 b (80 minutes) was conducted at 100 °C prior to humidity exposure. Asterisks denote the major reflections from PbI2.'))"
   ]
  },
  {
   "cell_type": "code",
   "execution_count": 29,
   "metadata": {
    "collapsed": false
   },
   "outputs": [
    {
     "data": {
      "text/html": [
       "<div class=\"cde-document\">\n",
       "<p class=\"cde-paragraph\">Solar cells containing 1 display PCEs up to 4.73 %. Though devices containing 2 have exceeded PCEs of 15 %,2a–2c their moisture sensitivity remains a concern for large‐scale device fabrication or their long‐term use. The layered structure of 1 aids the formation of high‐quality films that show greater moisture resistance compared to 2. The larger bandgap of 1 also affords a higher VOC value of 1.18 V compared to devices with 2. Further improvements in material structure and device engineering, including making appropriate electronic contact with the anisotropic inorganic sheets, should increase the PCEs of these devices. In particular, higher values of n as single‐phase materials or as mixtures may allow for lower bandgaps and higher carrier mobility in the inorganic layers while the organic layers provide additional tunability. For example, hydrophobic fluorocarbons could increase moisture stability, conjugated organic layers could facilitate charge transport, and organic photosensitizers could improve the absorption properties of the material. We are focused on manipulating this extraordinarily versatile platform through synthetic design.</p>\n",
       "<caption class=\"cde-caption\">PXRD patterns of films of (PEA)2(MA)2[Pb3I10] (1), (MA)[PbI3] formed from PbI2 (2 a), and (MA)[PbI3] formed from PbCl2 (2 b), which were exposed to 52 % relative humidity. Annealing of films of 2 a (15 minutes) and 2 b (80 minutes) was conducted at 100 °C prior to humidity exposure. Asterisks denote the major reflections from PbI2.</caption>\n",
       "</div>"
      ],
      "text/plain": [
       "<Document: 2 elements>"
      ]
     },
     "execution_count": 29,
     "metadata": {},
     "output_type": "execute_result"
    }
   ],
   "source": [
    "doc_w_cap"
   ]
  },
  {
   "cell_type": "code",
   "execution_count": 30,
   "metadata": {
    "collapsed": false
   },
   "outputs": [
    {
     "data": {
      "text/plain": [
       "[{u'names': [u'fluorocarbons']},\n",
       " {u'names': [u'(MA)[PbI3]']},\n",
       " {u'names': [u'PbCl2']},\n",
       " {u'labels': [u'1'], u'names': [u'(PEA)2(MA)2[Pb3I10]']},\n",
       " {u'names': [u'PbI2']}]"
      ]
     },
     "execution_count": 30,
     "metadata": {},
     "output_type": "execute_result"
    }
   ],
   "source": [
    "doc_w_cap.records.serialize()"
   ]
  },
  {
   "cell_type": "markdown",
   "metadata": {},
   "source": [
    "## Try and build custom model for PCE extraction\n",
    "Following example is ChemDataExtractor git repo `extracting_a_custom_property.ipynb`"
   ]
  },
  {
   "cell_type": "code",
   "execution_count": 32,
   "metadata": {
    "collapsed": false
   },
   "outputs": [],
   "source": [
    "from chemdataextractor.model import Compound\n",
    "from chemdataextractor.doc import Paragraph, Heading\n",
    "from chemdataextractor.model import BaseModel, StringType, ListType, ModelType\n",
    "\n",
    "class PCE(BaseModel):\n",
    "    value = StringType()\n",
    "    units = StringType()\n",
    "    \n",
    "Compound.pce = ListType(ModelType(PCE))"
   ]
  },
  {
   "cell_type": "code",
   "execution_count": 64,
   "metadata": {
    "collapsed": true
   },
   "outputs": [],
   "source": [
    "import re\n",
    "from chemdataextractor.parse import R, I, W, Optional, merge\n",
    "\n",
    "\n",
    "prefix = (I(u'PCEs') | I(u'pce') | I(u'power') + I(u'conversion') + I(u'efficiency')).hide()\n",
    "units = (W(u'%') | I(u'percent'))(u'units')\n",
    "# value = R(u'^\\d+(\\.\\d+)?$')(u'value')\n",
    "value = R(u'\\d+(\\.\\d+)?')(u'value')\n",
    "pce = (prefix + value + units)(u'pce')"
   ]
  },
  {
   "cell_type": "code",
   "execution_count": 65,
   "metadata": {
    "collapsed": false
   },
   "outputs": [],
   "source": [
    "from chemdataextractor.parse.base import BaseParser\n",
    "from chemdataextractor.utils import first\n",
    "\n",
    "class PCEParser(BaseParser):\n",
    "    root = pce\n",
    "\n",
    "    def interpret(self, result, start, end):\n",
    "        compound = Compound(\n",
    "            pce=[\n",
    "                PCE(\n",
    "                    value=first(result.xpath('./value/text()')),\n",
    "                    units=first(result.xpath('./units/text()'))\n",
    "                )\n",
    "            ]\n",
    "        )\n",
    "        yield compound\n"
   ]
  },
  {
   "cell_type": "code",
   "execution_count": 66,
   "metadata": {
    "collapsed": false
   },
   "outputs": [],
   "source": [
    "Paragraph.parsers = [PCEParser()]\n",
    "\n"
   ]
  },
  {
   "cell_type": "code",
   "execution_count": 67,
   "metadata": {
    "collapsed": false
   },
   "outputs": [
    {
     "data": {
      "text/plain": [
       "[{u'names': [u'(MA)[PbI3]']},\n",
       " {u'names': [u'PbCl2']},\n",
       " {u'labels': [u'1'], u'names': [u'(PEA)2(MA)2[Pb3I10]']},\n",
       " {u'names': [u'PbI2']}]"
      ]
     },
     "execution_count": 67,
     "metadata": {},
     "output_type": "execute_result"
    }
   ],
   "source": [
    "doc_w_cap = Document(cde.doc.text.Paragraph(u'Solar cells containing 1 display PCEs up to 4.73 %. Though devices containing 2 have exceeded PCEs of 15 %,2a–2c their moisture sensitivity remains a concern for large‐scale device fabrication or their long‐term use. The layered structure of 1 aids the formation of high‐quality films that show greater moisture resistance compared to 2. The larger bandgap of 1 also affords a higher VOC value of 1.18 V compared to devices with 2. Further improvements in material structure and device engineering, including making appropriate electronic contact with the anisotropic inorganic sheets, should increase the PCEs of these devices. In particular, higher values of n as single‐phase materials or as mixtures may allow for lower bandgaps and higher carrier mobility in the inorganic layers while the organic layers provide additional tunability. For example, hydrophobic fluorocarbons could increase moisture stability, conjugated organic layers could facilitate charge transport, and organic photosensitizers could improve the absorption properties of the material. We are focused on manipulating this extraordinarily versatile platform through synthetic design.'),\n",
    "                      cde.doc.text.Caption(u'PXRD patterns of films of (PEA)2(MA)2[Pb3I10] (1), (MA)[PbI3] formed from PbI2 (2 a), and (MA)[PbI3] formed from PbCl2 (2 b), which were exposed to 52 % relative humidity. Annealing of films of 2 a (15 minutes) and 2 b (80 minutes) was conducted at 100 °C prior to humidity exposure. Asterisks denote the major reflections from PbI2.'))\n",
    "doc_w_cap.records.serialize()"
   ]
  },
  {
   "cell_type": "code",
   "execution_count": 68,
   "metadata": {
    "collapsed": false
   },
   "outputs": [
    {
     "data": {
      "text/plain": [
       "[{u'names': [u'(MA)[PbI3]']},\n",
       " {u'names': [u'PbCl2']},\n",
       " {u'pce': [{u'units': u'percent', u'value': u'3'}]},\n",
       " {u'pce': [{u'units': u'percent', u'value': u'4'}]},\n",
       " {u'pce': [{u'units': u'percent', u'value': u'4'}]},\n",
       " {u'labels': [u'1'], u'names': [u'(PEA)2(MA)2[Pb3I10]']},\n",
       " {u'names': [u'PbI2']}]"
      ]
     },
     "execution_count": 68,
     "metadata": {},
     "output_type": "execute_result"
    }
   ],
   "source": [
    "doc_w_cap = Document(cde.doc.text.Paragraph(u'Solar cells containing 1 display PCEs up to 4.73 %. Though devices containing 2 have exceeded PCEs of 15 %,2a–2c their moisture sensitivity remains a concern for large‐scale device fabrication or their long‐term use. The layered structure of 1 aids the formation of high‐quality films that show greater moisture resistance compared to 2. The larger bandgap of 1 also affords a higher VOC value of 1.18 V compared to devices with 2. Further improvements in material structure and device engineering, including making appropriate electronic contact with the anisotropic inorganic sheets, should increase the PCEs of these devices. In particular, higher values of n as single‐phase materials or as mixtures may allow for lower bandgaps and higher carrier mobility in the inorganic layers while the organic layers provide additional tunability. For example, hydrophobic fluorocarbons could increase moisture stability, conjugated organic layers could facilitate charge transport, and organic photosensitizers could improve the absorption properties of the material. We are focused on manipulating this extraordinarily versatile platform through synthetic design.'),\n",
    "                      cde.doc.text.Caption(u'PXRD patterns of films of (PEA)2(MA)2[Pb3I10] (1), (MA)[PbI3] formed from PbI2 (2 a), and (MA)[PbI3] formed from PbCl2 (2 b), which were exposed to 52 % relative humidity. Annealing of films of 2 a (15 minutes) and 2 b (80 minutes) was conducted at 100 °C prior to humidity exposure. Asterisks denote the major reflections from PbI2.'),\n",
    "                    cde.doc.text.Paragraph(u'The compund (PEA)2(MA)2[Pb3I10] has a pce 3 percent'),\n",
    "                    cde.doc.text.Paragraph(u'The compund PbCl2 has a pce 4 percent'),\n",
    "                    cde.doc.text.Paragraph(u'The compund PbCl2 (pce 4 percent)'),\n",
    "                    )\n",
    "doc_w_cap.records.serialize()"
   ]
  },
  {
   "cell_type": "markdown",
   "metadata": {},
   "source": [
    "Can't get the pce's to associate with the chemical entities"
   ]
  },
  {
   "cell_type": "code",
   "execution_count": null,
   "metadata": {
    "collapsed": true
   },
   "outputs": [],
   "source": []
  }
 ],
 "metadata": {
  "anaconda-cloud": {},
  "kernelspec": {
   "display_name": "Python [conda env:paperparser]",
   "language": "python",
   "name": "conda-env-paperparser-py"
  },
  "language_info": {
   "codemirror_mode": {
    "name": "ipython",
    "version": 2
   },
   "file_extension": ".py",
   "mimetype": "text/x-python",
   "name": "python",
   "nbconvert_exporter": "python",
   "pygments_lexer": "ipython2",
   "version": "2.7.15"
  }
 },
 "nbformat": 4,
 "nbformat_minor": 1
}

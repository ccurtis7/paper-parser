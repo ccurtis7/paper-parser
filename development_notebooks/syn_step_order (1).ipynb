{
 "cells": [
  {
   "cell_type": "markdown",
   "metadata": {},
   "source": [
    "### From [Nature Materials paper](https://www.nature.com/articles/nmat4014.pdf) methods section\n",
    "\n",
    "Solar cell fabrication. A dense blocking layer of TiO2 (bl-TiO2 , ∼70 nm in thickness) was deposited onto a F-doped SnO2 (FTO, Pilkington, TEC8) substrate by spray pyrolysis, using a 20 mM titanium diisopropoxide bis(acetylacetonate) solution (Aldrich) at 450 ◦C to prevent direct contact between the FTO and the hole-conducting layer. A 200–300-nm-thick mesoporous TiO2 (particle size: about 50 nm, crystalline phase: anatase) film was spin-coated onto the bl-TiO2/FTO substrate using home-made pastes14 and calcining at 500 ◦C for 1 h in air to remove organic components. CH3NH3I (MAI) and CH3NH3Br (MABr) were first synthesized by reacting 27.86 ml CH3NH2 (40% in methanol, Junsei Chemical) and 30 ml HI (57 wt% in water, Aldrich) or 44 ml HBr (48 wt% in water, Aldrich) in a 250 ml round-bottom flask at 0 ◦C for 4 h with stirring, respectively. The precipitate was recovered by evaporation at 55 ◦C for 1 h. MAI and MABr were dissolved in ethanol, recrystallized from diethyl ether, and dried at 60 ◦C in a vacuum oven for 24 h. The prepared MAI and MABr powders, PbI2 (Aldrich) and PbBr2 (Aldrich) for 0.8 M MAPb(I1−xBrx )3 (x =0.1–0.15) solution were stirred in a mixture of GBL and DMSO (7:3 v/v) at 60 ◦C for 12 h. The resulting solution was coated onto the mp-TiO2/bl-TiO2/FTO substrate by a consecutive two-step spin-coating process at 1,000 and 5,000 r.p.m for 10 and 20 s, respectively. During the second spin-coating step, the substrate (around 1 cm × 1 cm) was treated with toluene drop-casting. A detailed time-rotation profile for the spin-coating is represented in Supplementary Fig. 1c. The substrate was dried on a hot plate at 100 ◦C for 10 min. A solution of poly(triarylamine) (15 mg, PTAA, EM Index, Mw =17,500 g mol−1 ) in toluene (1.5 ml) was mixed with 15 µl of a solution of lithium bistrifluoromethanesulphonimidate (170 mg) in acetonitrile (1 ml) and 7.5 µl 4-tert-butylpyridine and spin-coated on the MAPb(I1−xBrx )3 (x =0.1–0.15)/mp-TiO2/bl-TiO2/FTO substrate at 3,000 r.p.m for 30 s. Finally, a Au counterelectrode was deposited by thermal evaporation. The active area of this electrode was fixed at 0.16 cm2"
   ]
  },
  {
   "cell_type": "code",
   "execution_count": 3,
   "metadata": {},
   "outputs": [],
   "source": [
    "from chemdataextractor.doc import Paragraph"
   ]
  },
  {
   "cell_type": "code",
   "execution_count": 4,
   "metadata": {},
   "outputs": [],
   "source": [
    "para = Paragraph('Solar cell fabrication. A dense blocking layer of TiO2 (bl-TiO2 , ∼70 nm in thickness) was deposited onto a F-doped SnO2 (FTO, Pilkington, TEC8) substrate by spray pyrolysis, using a 20 mM titanium diisopropoxide bis(acetylacetonate) solution (Aldrich) at 450 ◦C to prevent direct contact between the FTO and the hole-conducting layer. A 200–300-nm-thick mesoporous TiO2 (particle size: about 50 nm, crystalline phase: anatase) film was spin-coated onto the bl-TiO2/FTO substrate using home-made pastes14 and calcining at 500 ◦C for 1 h in air to remove organic components. CH3NH3I (MAI) and CH3NH3Br (MABr) were first synthesized by reacting 27.86 ml CH3NH2 (40% in methanol, Junsei Chemical) and 30 ml HI (57 wt% in water, Aldrich) or 44 ml HBr (48 wt% in water, Aldrich) in a 250 ml round-bottom flask at 0 ◦C for 4 h with stirring, respectively. The precipitate was recovered by evaporation at 55 ◦C for 1 h. MAI and MABr were dissolved in ethanol, recrystallized from diethyl ether, and dried at 60 ◦C in a vacuum oven for 24 h. The prepared MAI and MABr powders, PbI2 (Aldrich) and PbBr2 (Aldrich) for 0.8 M MAPb(I1−xBrx )3 (x =0.1–0.15) solution were stirred in a mixture of GBL and DMSO (7:3 v/v) at 60 ◦C for 12 h. The resulting solution was coated onto the mp-TiO2/bl-TiO2/FTO substrate by a consecutive two-step spin-coating process at 1,000 and 5,000 r.p.m for 10 and 20 s, respectively. During the second spin-coating step, the substrate (around 1 cm × 1 cm) was treated with toluene drop-casting. A detailed time-rotation profile for the spin-coating is represented in Supplementary Fig. 1c. The substrate was dried on a hot plate at 100 ◦C for 10 min. A solution of poly(triarylamine) (15 mg, PTAA, EM Index, Mw =17,500 g mol−1 ) in toluene (1.5 ml) was mixed with 15 µl of a solution of lithium bistrifluoromethanesulphonimidate (170 mg) in acetonitrile (1 ml) and 7.5 µl 4-tert-butylpyridine and spin-coated on the MAPb(I1−xBrx )3 (x =0.1–0.15)/mp-TiO2/bl-TiO2/FTO substrate at 3,000 r.p.m for 30 s. Finally, a Au counterelectrode was deposited by thermal evaporation. The active area of this electrode was fixed at 0.16 cm2')"
   ]
  },
  {
   "cell_type": "code",
   "execution_count": 3,
   "metadata": {},
   "outputs": [
    {
     "data": {
      "text/plain": [
       "[Sentence('Solar cell fabrication.', 0, 23),\n",
       " Sentence('A dense blocking layer of TiO2 (bl-TiO2 , ∼70 nm in thickness) was deposited onto a F-doped SnO2 (FTO, Pilkington, TEC8) substrate by spray pyrolysis, using a 20 mM titanium diisopropoxide bis(acetylacetonate) solution (Aldrich) at 450 ◦C to prevent direct contact between the FTO and the hole-conducting layer.', 24, 335),\n",
       " Sentence('A 200–300-nm-thick mesoporous TiO2 (particle size: about 50 nm, crystalline phase: anatase) film was spin-coated onto the bl-TiO2/FTO substrate using home-made pastes14 and calcining at 500 ◦C for 1 h in air to remove organic components.', 336, 573),\n",
       " Sentence('CH3NH3I (MAI) and CH3NH3Br (MABr) were first synthesized by reacting 27.86 ml CH3NH2 (40% in methanol, Junsei Chemical) and 30 ml HI (57 wt% in water, Aldrich) or 44 ml HBr (48 wt% in water, Aldrich) in a 250 ml round-bottom flask at 0 ◦C for 4 h with stirring, respectively.', 574, 849),\n",
       " Sentence('The precipitate was recovered by evaporation at 55 ◦C for 1 h. MAI and MABr were dissolved in ethanol, recrystallized from diethyl ether, and dried at 60 ◦C in a vacuum oven for 24 h.', 850, 1033),\n",
       " Sentence('The prepared MAI and MABr powders, PbI2 (Aldrich) and PbBr2 (Aldrich) for 0.8 M MAPb(I1−xBrx )3 (x =0.1–0.15) solution were stirred in a mixture of GBL and DMSO (7:3 v/v) at 60 ◦C for 12 h.', 1034, 1223),\n",
       " Sentence('The resulting solution was coated onto the mp-TiO2/bl-TiO2/FTO substrate by a consecutive two-step spin-coating process at 1,000 and 5,000 r.p.m for 10 and 20 s, respectively.', 1224, 1399),\n",
       " Sentence('During the second spin-coating step, the substrate (around 1 cm × 1 cm) was treated with toluene drop-casting.', 1400, 1510),\n",
       " Sentence('A detailed time-rotation profile for the spin-coating is represented in Supplementary Fig. 1c.', 1511, 1605),\n",
       " Sentence('The substrate was dried on a hot plate at 100 ◦C for 10 min.', 1606, 1666),\n",
       " Sentence('A solution of poly(triarylamine) (15 mg, PTAA, EM Index, Mw =17,500 g mol−1 ) in toluene (1.5 ml) was mixed with 15 µl of a solution of lithium bistrifluoromethanesulphonimidate (170 mg) in acetonitrile (1 ml) and 7.5 µl 4-tert-butylpyridine and spin-coated on the MAPb(I1−xBrx )3 (x =0.1–0.15)/mp-TiO2/bl-TiO2/FTO substrate at 3,000 r.p.m for 30 s.', 1667, 2016),\n",
       " Sentence('Finally, a Au counterelectrode was deposited by thermal evaporation.', 2017, 2085),\n",
       " Sentence('The active area of this electrode was fixed at 0.16 cm2', 2086, 2141)]"
      ]
     },
     "execution_count": 3,
     "metadata": {},
     "output_type": "execute_result"
    }
   ],
   "source": [
    "para.sentences"
   ]
  },
  {
   "cell_type": "code",
   "execution_count": 4,
   "metadata": {},
   "outputs": [
    {
     "data": {
      "text/plain": [
       "[('A', 'DT'),\n",
       " ('200', 'CD'),\n",
       " ('–', 'HYPH'),\n",
       " ('300-nm-thick', 'JJ'),\n",
       " ('mesoporous', 'JJ'),\n",
       " ('TiO2', 'NN'),\n",
       " ('(', '-LRB-'),\n",
       " ('particle', 'NN'),\n",
       " ('size', 'NN'),\n",
       " (':', ':'),\n",
       " ('about', 'RB'),\n",
       " ('50', 'CD'),\n",
       " ('nm', 'NN'),\n",
       " (',', ','),\n",
       " ('crystalline', 'JJ'),\n",
       " ('phase', 'NN'),\n",
       " (':', ':'),\n",
       " ('anatase', 'NN'),\n",
       " (')', '-RRB-'),\n",
       " ('film', 'NN'),\n",
       " ('was', 'VBD'),\n",
       " ('spin', 'NN'),\n",
       " ('-', 'HYPH'),\n",
       " ('coated', 'VBN'),\n",
       " ('onto', 'IN'),\n",
       " ('the', 'DT'),\n",
       " ('bl', 'NN'),\n",
       " ('-', 'HYPH'),\n",
       " ('TiO2', 'NN'),\n",
       " ('/', 'SYM'),\n",
       " ('FTO', 'NNP'),\n",
       " ('substrate', 'NN'),\n",
       " ('using', 'VBG'),\n",
       " ('home', 'NN'),\n",
       " ('-', 'HYPH'),\n",
       " ('made', 'VBN'),\n",
       " ('pastes14', 'NN'),\n",
       " ('and', 'CC'),\n",
       " ('calcining', 'VBG'),\n",
       " ('at', 'IN'),\n",
       " ('500', 'CD'),\n",
       " ('◦C', 'NN'),\n",
       " ('for', 'IN'),\n",
       " ('1', 'CD'),\n",
       " ('h', 'NN'),\n",
       " ('in', 'IN'),\n",
       " ('air', 'NN'),\n",
       " ('to', 'TO'),\n",
       " ('remove', 'VB'),\n",
       " ('organic', 'JJ'),\n",
       " ('components', 'NNS'),\n",
       " ('.', '.')]"
      ]
     },
     "execution_count": 4,
     "metadata": {},
     "output_type": "execute_result"
    }
   ],
   "source": [
    "para[2].pos_tagged_tokens"
   ]
  },
  {
   "cell_type": "markdown",
   "metadata": {},
   "source": [
    "#### Using CDE's inbuilt POS tagging to find verbs"
   ]
  },
  {
   "cell_type": "code",
   "execution_count": 7,
   "metadata": {},
   "outputs": [],
   "source": [
    "vb_dict = {}\n",
    "for num_s in range(len(para.sentences)):\n",
    "    vb_arr = list()\n",
    "    for i in range(len(para[num_s].tokens)):\n",
    "        if para[num_s].pos_tagged_tokens[i][1] =='VBN': ## or para[num_s].pos_tagged_tokens[i][1] == 'VBG':\n",
    "            vb_arr.append(para[num_s].pos_tagged_tokens[i])\n",
    "        else:\n",
    "            continue\n",
    "    vb_dict[num_s] = vb_arr"
   ]
  },
  {
   "cell_type": "code",
   "execution_count": 8,
   "metadata": {},
   "outputs": [
    {
     "data": {
      "text/plain": [
       "{0: [],\n",
       " 1: [('deposited', 'VBN'), ('doped', 'VBN')],\n",
       " 2: [('coated', 'VBN'), ('made', 'VBN')],\n",
       " 3: [('synthesized', 'VBN')],\n",
       " 4: [('recovered', 'VBN'), ('dissolved', 'VBN'), ('recrystallized', 'VBN')],\n",
       " 5: [('stirred', 'VBN')],\n",
       " 6: [('coated', 'VBN')],\n",
       " 7: [('treated', 'VBN')],\n",
       " 8: [('represented', 'VBN')],\n",
       " 9: [('dried', 'VBN')],\n",
       " 10: [('mixed', 'VBN'), ('coated', 'VBN')],\n",
       " 11: [('deposited', 'VBN')],\n",
       " 12: [('fixed', 'VBN')]}"
      ]
     },
     "execution_count": 8,
     "metadata": {},
     "output_type": "execute_result"
    }
   ],
   "source": [
    "vb_dict"
   ]
  },
  {
   "cell_type": "markdown",
   "metadata": {},
   "source": [
    "#### Using a database of synthesis steps instead"
   ]
  },
  {
   "cell_type": "code",
   "execution_count": 1,
   "metadata": {},
   "outputs": [],
   "source": [
    "syn_db = ['deposit', 'pyrolysis', 'spin-coat', 'calcine', 'synthesize', 'react', 'stir', 'evaporate', 'dissolve', 'prepare',\n",
    "         'coat', 'treat', 'drop-cast', 'dry', 'mix', 'anneal']"
   ]
  },
  {
   "cell_type": "markdown",
   "metadata": {},
   "source": [
    "##### use NLTK to parse"
   ]
  },
  {
   "cell_type": "code",
   "execution_count": 10,
   "metadata": {},
   "outputs": [],
   "source": [
    "import nltk\n",
    "# nltk.download()\n",
    "from nltk.stem.wordnet import WordNetLemmatizer"
   ]
  },
  {
   "cell_type": "code",
   "execution_count": 11,
   "metadata": {},
   "outputs": [],
   "source": [
    "vb_dict = {}\n",
    "for num_s in range(len(para.sentences)):\n",
    "    vb_arr = list()\n",
    "    tk = nltk.word_tokenize(str(para[num_s]))\n",
    "    for word in tk:\n",
    "        for action in syn_db:\n",
    "            if WordNetLemmatizer().lemmatize(word, 'v') == action:\n",
    "                vb_arr.append(action)\n",
    "            else:\n",
    "                continue\n",
    "    vb_dict[num_s] = vb_arr"
   ]
  },
  {
   "cell_type": "code",
   "execution_count": 12,
   "metadata": {},
   "outputs": [
    {
     "data": {
      "text/plain": [
       "{0: [],\n",
       " 1: ['deposit', 'pyrolysis'],\n",
       " 2: ['calcine'],\n",
       " 3: ['synthesize', 'react', 'stir'],\n",
       " 4: ['dissolve', 'dry'],\n",
       " 5: ['prepare', 'stir'],\n",
       " 6: ['coat'],\n",
       " 7: ['treat'],\n",
       " 8: [],\n",
       " 9: ['dry'],\n",
       " 10: ['mix'],\n",
       " 11: ['deposit'],\n",
       " 12: []}"
      ]
     },
     "execution_count": 12,
     "metadata": {},
     "output_type": "execute_result"
    }
   ],
   "source": [
    "vb_dict"
   ]
  },
  {
   "cell_type": "markdown",
   "metadata": {},
   "source": [
    "#### Using NLTK to tokenize only, parsing using some simple logic\n",
    "\n",
    "to account for past tense and present continuous tense of verb"
   ]
  },
  {
   "cell_type": "code",
   "execution_count": 13,
   "metadata": {},
   "outputs": [],
   "source": [
    "vb_dict = {}\n",
    "for num_s in range(len(para.sentences)):\n",
    "    vb_arr = list()\n",
    "    tk = nltk.word_tokenize(str(para[num_s]))\n",
    "    for word in tk:\n",
    "        for action in syn_db:\n",
    "            if (action[-1] == 'e' or action[-1] == 'y') and (action[:-1] == word[:len(action)-1]):\n",
    "                vb_arr.append(action)\n",
    "            elif action == word[:len(action)]:\n",
    "                vb_arr.append(action)\n",
    "            else:\n",
    "                continue\n",
    "    vb_dict[num_s] = vb_arr"
   ]
  },
  {
   "cell_type": "code",
   "execution_count": 14,
   "metadata": {},
   "outputs": [
    {
     "data": {
      "text/plain": [
       "{0: [],\n",
       " 1: ['deposit', 'pyrolysis'],\n",
       " 2: ['spin-coat', 'calcine'],\n",
       " 3: ['synthesize', 'react', 'stir'],\n",
       " 4: ['evaporate', 'dissolve', 'dry'],\n",
       " 5: ['prepare', 'stir', 'mix'],\n",
       " 6: ['coat', 'spin-coat'],\n",
       " 7: ['spin-coat', 'treat', 'drop-cast', 'dry'],\n",
       " 8: ['spin-coat'],\n",
       " 9: ['dry'],\n",
       " 10: ['mix', 'spin-coat'],\n",
       " 11: ['deposit', 'evaporate'],\n",
       " 12: []}"
      ]
     },
     "execution_count": 14,
     "metadata": {},
     "output_type": "execute_result"
    }
   ],
   "source": [
    "vb_dict"
   ]
  },
  {
   "cell_type": "code",
   "execution_count": null,
   "metadata": {},
   "outputs": [],
   "source": []
  },
  {
   "cell_type": "markdown",
   "metadata": {},
   "source": [
    "##### Write function"
   ]
  },
  {
   "cell_type": "code",
   "execution_count": 6,
   "metadata": {},
   "outputs": [
    {
     "name": "stderr",
     "output_type": "stream",
     "text": [
      "[nltk_data] Downloading package punkt to\n",
      "[nltk_data]     C:\\Users\\linne\\AppData\\Roaming\\nltk_data...\n",
      "[nltk_data]   Unzipping tokenizers\\punkt.zip.\n"
     ]
    }
   ],
   "source": [
    "from chemdataextractor.doc import Paragraph\n",
    "import nltk\n",
    "nltk.download('punkt')\n",
    "\n",
    "def syn_order(para):\n",
    "    '''Finds relevant perovskite synthesis steps (using known database) in \n",
    "    input paragraph, and returns them in order.\n",
    "    vb_order is an ordered list of tuples, ordered according to appearance \n",
    "    in the paragraph input, with each tuple containing a synthesis step and \n",
    "    the sentence number/index it is in. \n",
    "    vb_dict is a dict with the keys being sentence number, and values being\n",
    "    synthesis steps found in that sentence.'''\n",
    "    \n",
    "    # Database of relevant perovskite synthesis action words \n",
    "#     syn_db = ['deposit', 'pyrolysis', 'spin-coat', 'calcine', 'synthesize',\n",
    "#               'react', 'stir', 'evaporate', 'dissolve', 'prepare', 'coat',\n",
    "#               'treat', 'drop-cast', 'dry', 'mix', 'anneal']\n",
    "    \n",
    "    syn_db = ['spin-coat', 'coat', 'anneal', 'dry']\n",
    "    \n",
    "    vb_order = list()\n",
    "    vb_dict = {}\n",
    "    \n",
    "    for num_s in range(len(para.sentences)):\n",
    "        vb_arr = list()\n",
    "        \n",
    "        # Use NLTK to split sentences into lowercase tokens\n",
    "        tk = nltk.word_tokenize(str(para[num_s]))\n",
    "        tk = [w.lower() for w in tk]\n",
    "        \n",
    "        # Compares each word in the paragraph to a given database, accounts\n",
    "        # for verb tenses (past and continuous tense) exceptions\n",
    "        for word in tk:\n",
    "            for action in syn_db:\n",
    "                if ((action[-1] == 'e' or action[-1] == 'y') \n",
    "                    and (action[:-1] == word[:len(action)-1])):\n",
    "                    vb_order.append((action,num_s))\n",
    "                    vb_arr.append((action))\n",
    "                elif action == word[:len(action)]:\n",
    "                    vb_order.append((action,num_s))\n",
    "                    vb_arr.append((action))\n",
    "                else:\n",
    "                    continue\n",
    "        vb_dict[num_s] = vb_arr\n",
    "            \n",
    "    return vb_order, vb_dict"
   ]
  },
  {
   "cell_type": "code",
   "execution_count": 7,
   "metadata": {},
   "outputs": [],
   "source": [
    "vb_order, vb_dict = syn_order(para)"
   ]
  },
  {
   "cell_type": "code",
   "execution_count": 8,
   "metadata": {},
   "outputs": [
    {
     "data": {
      "text/plain": [
       "[('spin-coat', 2),\n",
       " ('dry', 4),\n",
       " ('coat', 6),\n",
       " ('spin-coat', 6),\n",
       " ('spin-coat', 7),\n",
       " ('dry', 7),\n",
       " ('spin-coat', 8),\n",
       " ('dry', 9),\n",
       " ('spin-coat', 10)]"
      ]
     },
     "execution_count": 8,
     "metadata": {},
     "output_type": "execute_result"
    }
   ],
   "source": [
    "vb_order"
   ]
  },
  {
   "cell_type": "code",
   "execution_count": 9,
   "metadata": {},
   "outputs": [
    {
     "data": {
      "text/plain": [
       "{0: [],\n",
       " 1: [],\n",
       " 2: ['spin-coat'],\n",
       " 3: [],\n",
       " 4: ['dry'],\n",
       " 5: [],\n",
       " 6: ['coat', 'spin-coat'],\n",
       " 7: ['spin-coat', 'dry'],\n",
       " 8: ['spin-coat'],\n",
       " 9: ['dry'],\n",
       " 10: ['spin-coat'],\n",
       " 11: [],\n",
       " 12: []}"
      ]
     },
     "execution_count": 9,
     "metadata": {},
     "output_type": "execute_result"
    }
   ],
   "source": [
    "vb_dict"
   ]
  },
  {
   "cell_type": "code",
   "execution_count": 1,
   "metadata": {},
   "outputs": [],
   "source": [
    "from chemdataextractor.doc import Paragraph\n",
    "import sys\n",
    "sys.path.insert(0, '../paperparser/parse')\n",
    "import order\n",
    "\n",
    "def test_syn_order():\n",
    "    '''Tests if function syn_order works'''\n",
    "    \n",
    "    paragraph = Paragraph(\n",
    "        'After drying, the HTM was deposited by spin-coating a solution of spiro-MeOTAD, 4-tert-butylpyridine, \\\n",
    "        lithium bis(trifluoromethylsulphonyl)imide and tris(2-(1H-pyrazol-1-yl)-4-tert-butylpyridine)cobalt(iii) \\\n",
    "        bis(trifluoromethylsulphonyl)imide in chlorobenzene.\\\n",
    "        Annealing the as-deposited films at 100\\u2009°C for 45\\u2009min in the N2-filled glove box \\\n",
    "        before spin-coating the hole transporter enabled full crystallization of the perovskite, darkening \\\n",
    "        the colour and resulting in an apparent growth of the crystal features visible in the SEM image, \\\n",
    "        as shown in Extended Data Fig. 1.')\n",
    "    vb_order, vb_dict = order.syn_order(paragraph)\n",
    "    \n",
    "    assert vb_order[0][0] == 'dry', 'First action identified is incorrect'\n",
    "    assert vb_order[0][1] == 0, 'Sentence number where first action is identified is incorrect'\n",
    "    assert vb_order[3][0] == 'anneal', 'Fails to identify capitalized word'\n",
    "    assert ['anneal', 'spin-coat'] in vb_dict.values(), \\\n",
    "    'Fails to store all steps found in vb_dict output'"
   ]
  },
  {
   "cell_type": "code",
   "execution_count": 97,
   "metadata": {},
   "outputs": [],
   "source": [
    "paragraph = Paragraph(\n",
    "        'After drying, the HTM was deposited by spin-coating a solution of spiro-MeOTAD, 4-tert-butylpyridine, \\\n",
    "        lithium bis(trifluoromethylsulphonyl)imide and tris(2-(1H-pyrazol-1-yl)-4-tert-butylpyridine)cobalt(iii) \\\n",
    "        bis(trifluoromethylsulphonyl)imide in chlorobenzene.\\\n",
    "        Annealing the as-deposited films at 100\\u2009°C for 45\\u2009min in the N2-filled glove box \\\n",
    "        before spin-coating the hole transporter enabled full crystallization of the perovskite, darkening \\\n",
    "        the colour and resulting in an apparent growth of the crystal features visible in the SEM image, \\\n",
    "        as shown in Extended Data Fig. 1.')"
   ]
  },
  {
   "cell_type": "code",
   "execution_count": 98,
   "metadata": {},
   "outputs": [],
   "source": [
    " vb_order, vb_dict = syn_order(paragraph)"
   ]
  },
  {
   "cell_type": "code",
   "execution_count": 2,
   "metadata": {},
   "outputs": [],
   "source": [
    "test_syn_order()"
   ]
  },
  {
   "cell_type": "code",
   "execution_count": 100,
   "metadata": {},
   "outputs": [
    {
     "data": {
      "text/plain": [
       "True"
      ]
     },
     "execution_count": 100,
     "metadata": {},
     "output_type": "execute_result"
    }
   ],
   "source": [
    "['anneal', 'spin-coat'] in vb_dict.values()"
   ]
  },
  {
   "cell_type": "code",
   "execution_count": 101,
   "metadata": {},
   "outputs": [
    {
     "data": {
      "text/plain": [
       "dict_values([['dry', 'deposit', 'spin-coat'], ['anneal', 'spin-coat']])"
      ]
     },
     "execution_count": 101,
     "metadata": {},
     "output_type": "execute_result"
    }
   ],
   "source": [
    "vb_dict.values()"
   ]
  },
  {
   "cell_type": "code",
   "execution_count": null,
   "metadata": {},
   "outputs": [],
   "source": []
  },
  {
   "cell_type": "code",
   "execution_count": null,
   "metadata": {},
   "outputs": [],
   "source": []
  }
 ],
 "metadata": {
  "kernelspec": {
   "display_name": "Python 3",
   "language": "python",
   "name": "python3"
  },
  "language_info": {
   "codemirror_mode": {
    "name": "ipython",
    "version": 3
   },
   "file_extension": ".py",
   "mimetype": "text/x-python",
   "name": "python",
   "nbconvert_exporter": "python",
   "pygments_lexer": "ipython3",
   "version": "3.6.8"
  }
 },
 "nbformat": 4,
 "nbformat_minor": 2
}

{
 "cells": [
  {
   "cell_type": "code",
   "execution_count": 16,
   "metadata": {},
   "outputs": [],
   "source": [
    "import sys\n",
    "sys.path.insert(0, '../paperparser/read_paper')\n",
    "import extract_sentences\n",
    "import sentence_classifier\n",
    "\n",
    "sys.path.insert(0, '../paperparser/parse')\n",
    "import spincoat\n",
    "\n",
    "import pandas as pd\n",
    "from sklearn.externals import joblib"
   ]
  },
  {
   "cell_type": "code",
   "execution_count": 8,
   "metadata": {},
   "outputs": [],
   "source": [
    "syn_sen_model = joblib.load('syn_sen_model.pkl')"
   ]
  },
  {
   "cell_type": "code",
   "execution_count": 6,
   "metadata": {},
   "outputs": [],
   "source": [
    "paper = extract_sentences.read_html_paper('journal_articles/Paper0.html')\n",
    "X_sentences, sentences_record = extract_sentences.extract_all_sentences(paper)"
   ]
  },
  {
   "cell_type": "code",
   "execution_count": 9,
   "metadata": {},
   "outputs": [
    {
     "data": {
      "text/plain": [
       "['The spin-coated layer formed with the solvent mixture followed by the toluene drip is extremely uniform and transparent, and covers the full surface with low surface roughness.',\n",
       " 'We see that the formation of the perovskite phase is accompanied by the complete transformation of the MAI–PbI2–DMSO at 130 °C, whereas both MAI–PbI2–DMSO and perovskite phases coexist at 100 °C.',\n",
       " 'Accordingly, the formation of the intermediate phase is a critical factor for smoothing the surface via dropwise toluene application, which finally results in compact and uniform thin layers.',\n",
       " 'Generally, the average value of the efficiency, determined from the forward and reverse scans should be widely accepted when the scanning delay time is longer than 40 ms (ref.\\xa023), because an excessively long time to complete the measurement is impractical.',\n",
       " 'For a deeper understanding of the dependence of the I–V parameters on both scan directions, we investigated the difference between the forward and reverse scans for a 40 ms scan time as a function of the thickness of the mp-TiO2 layer.',\n",
       " 'CH3NH3I (MAI) and CH3NH3Br (MABr) were first synthesized by reacting 27.86 ml CH3NH2 (40% in methanol, Junsei Chemical) and 30 ml HI (57 wt% in water, Aldrich) or 44 ml HBr (48 wt% in water, Aldrich) in a 250 ml round-bottom flask at 0 °C for 4 h with stirring, respectively.',\n",
       " 'The precipitate was recovered by evaporation at 55 °C for 1 h. MAI and MABr were dissolved in ethanol, recrystallized from diethyl ether, and dried at 60 °C in a vacuum oven for 24 h.',\n",
       " 'The resulting solution was coated onto the mp-TiO2/bl-TiO2/FTO substrate by a consecutive two-step spin-coating process at 1,000 and 5,000 r.p.m for 10 and 20 s, respectively.',\n",
       " 'During the second spin-coating step, the substrate (around 1 cm × 1 cm) was treated with toluene drop-casting.',\n",
       " 'The substrate was dried on a hot plate at 100 °C for 10 min.',\n",
       " 'A solution of poly(triarylamine) (15 mg, PTAA, EM Index, Mw\\xa0 = \\xa017,500 g mol−1) in toluene (1.5 ml) was mixed with 15 μl of a solution of lithium bistrifluoromethanesulphonimidate (170 mg) in acetonitrile (1 ml) and 7.5 μl 4-tert-butylpyridine and spin-coated on the MAPb(I1\\xa0−\\xa0xBrx)3 (x\\xa0 = \\xa00.1–0.15)/mp-TiO2/bl-TiO2/FTO substrate at 3,000 r.p.m for 30 s.',\n",
       " 'Finally, a Au counterelectrode was deposited by thermal evaporation.']"
      ]
     },
     "execution_count": 9,
     "metadata": {},
     "output_type": "execute_result"
    }
   ],
   "source": [
    "pred_data, synthesis_sentences, not_synthesis_sentences = sentence_classifier.classify_sentences(syn_sen_model, X_sentences)\n",
    "synthesis_sentences"
   ]
  },
  {
   "cell_type": "code",
   "execution_count": 14,
   "metadata": {},
   "outputs": [],
   "source": [
    "df_sentences = pd.DataFrame({'Sentences':X_sentences, 'Element # in doc':[rec[0] for rec in sentences_record],\n",
    "                             'Sentence_index_in_para':[rec[1] for rec in sentences_record], 'Tag':pred_data})"
   ]
  },
  {
   "cell_type": "code",
   "execution_count": 15,
   "metadata": {},
   "outputs": [
    {
     "data": {
      "text/html": [
       "<div>\n",
       "<style scoped>\n",
       "    .dataframe tbody tr th:only-of-type {\n",
       "        vertical-align: middle;\n",
       "    }\n",
       "\n",
       "    .dataframe tbody tr th {\n",
       "        vertical-align: top;\n",
       "    }\n",
       "\n",
       "    .dataframe thead th {\n",
       "        text-align: right;\n",
       "    }\n",
       "</style>\n",
       "<table border=\"1\" class=\"dataframe\">\n",
       "  <thead>\n",
       "    <tr style=\"text-align: right;\">\n",
       "      <th></th>\n",
       "      <th>Sentences</th>\n",
       "      <th>Element # in doc</th>\n",
       "      <th>Sentence_index_in_para</th>\n",
       "      <th>Tag</th>\n",
       "    </tr>\n",
       "  </thead>\n",
       "  <tbody>\n",
       "    <tr>\n",
       "      <th>124</th>\n",
       "      <td>The spin-coated layer formed with the solvent ...</td>\n",
       "      <td>92</td>\n",
       "      <td>15</td>\n",
       "      <td>1.0</td>\n",
       "    </tr>\n",
       "    <tr>\n",
       "      <th>152</th>\n",
       "      <td>We see that the formation of the perovskite ph...</td>\n",
       "      <td>96</td>\n",
       "      <td>2</td>\n",
       "      <td>1.0</td>\n",
       "    </tr>\n",
       "    <tr>\n",
       "      <th>160</th>\n",
       "      <td>Accordingly, the formation of the intermediate...</td>\n",
       "      <td>99</td>\n",
       "      <td>0</td>\n",
       "      <td>1.0</td>\n",
       "    </tr>\n",
       "    <tr>\n",
       "      <th>187</th>\n",
       "      <td>Generally, the average value of the efficiency...</td>\n",
       "      <td>100</td>\n",
       "      <td>21</td>\n",
       "      <td>1.0</td>\n",
       "    </tr>\n",
       "    <tr>\n",
       "      <th>188</th>\n",
       "      <td>For a deeper understanding of the dependence o...</td>\n",
       "      <td>103</td>\n",
       "      <td>0</td>\n",
       "      <td>1.0</td>\n",
       "    </tr>\n",
       "    <tr>\n",
       "      <th>217</th>\n",
       "      <td>CH3NH3I (MAI) and CH3NH3Br (MABr) were first s...</td>\n",
       "      <td>109</td>\n",
       "      <td>2</td>\n",
       "      <td>1.0</td>\n",
       "    </tr>\n",
       "    <tr>\n",
       "      <th>218</th>\n",
       "      <td>The precipitate was recovered by evaporation a...</td>\n",
       "      <td>109</td>\n",
       "      <td>3</td>\n",
       "      <td>1.0</td>\n",
       "    </tr>\n",
       "    <tr>\n",
       "      <th>220</th>\n",
       "      <td>The resulting solution was coated onto the mp-...</td>\n",
       "      <td>109</td>\n",
       "      <td>5</td>\n",
       "      <td>1.0</td>\n",
       "    </tr>\n",
       "    <tr>\n",
       "      <th>221</th>\n",
       "      <td>During the second spin-coating step, the subst...</td>\n",
       "      <td>109</td>\n",
       "      <td>6</td>\n",
       "      <td>1.0</td>\n",
       "    </tr>\n",
       "    <tr>\n",
       "      <th>223</th>\n",
       "      <td>The substrate was dried on a hot plate at 100 ...</td>\n",
       "      <td>109</td>\n",
       "      <td>8</td>\n",
       "      <td>1.0</td>\n",
       "    </tr>\n",
       "    <tr>\n",
       "      <th>224</th>\n",
       "      <td>A solution of poly(triarylamine) (15 mg, PTAA,...</td>\n",
       "      <td>109</td>\n",
       "      <td>9</td>\n",
       "      <td>1.0</td>\n",
       "    </tr>\n",
       "    <tr>\n",
       "      <th>225</th>\n",
       "      <td>Finally, a Au counterelectrode was deposited b...</td>\n",
       "      <td>109</td>\n",
       "      <td>10</td>\n",
       "      <td>1.0</td>\n",
       "    </tr>\n",
       "  </tbody>\n",
       "</table>\n",
       "</div>"
      ],
      "text/plain": [
       "                                             Sentences  Element # in doc  \\\n",
       "124  The spin-coated layer formed with the solvent ...                92   \n",
       "152  We see that the formation of the perovskite ph...                96   \n",
       "160  Accordingly, the formation of the intermediate...                99   \n",
       "187  Generally, the average value of the efficiency...               100   \n",
       "188  For a deeper understanding of the dependence o...               103   \n",
       "217  CH3NH3I (MAI) and CH3NH3Br (MABr) were first s...               109   \n",
       "218  The precipitate was recovered by evaporation a...               109   \n",
       "220  The resulting solution was coated onto the mp-...               109   \n",
       "221  During the second spin-coating step, the subst...               109   \n",
       "223  The substrate was dried on a hot plate at 100 ...               109   \n",
       "224  A solution of poly(triarylamine) (15 mg, PTAA,...               109   \n",
       "225  Finally, a Au counterelectrode was deposited b...               109   \n",
       "\n",
       "     Sentence_index_in_para  Tag  \n",
       "124                      15  1.0  \n",
       "152                       2  1.0  \n",
       "160                       0  1.0  \n",
       "187                      21  1.0  \n",
       "188                       0  1.0  \n",
       "217                       2  1.0  \n",
       "218                       3  1.0  \n",
       "220                       5  1.0  \n",
       "221                       6  1.0  \n",
       "223                       8  1.0  \n",
       "224                       9  1.0  \n",
       "225                      10  1.0  "
      ]
     },
     "execution_count": 15,
     "metadata": {},
     "output_type": "execute_result"
    }
   ],
   "source": [
    "df_sentences.loc[df_sentences['Tag'] == 1.0]"
   ]
  },
  {
   "cell_type": "code",
   "execution_count": 18,
   "metadata": {},
   "outputs": [
    {
     "data": {
      "text/plain": [
       "[]"
      ]
     },
     "execution_count": 18,
     "metadata": {},
     "output_type": "execute_result"
    }
   ],
   "source": [
    "\n",
    "spincoat.parse_spincoat(synthesis_sentences[0])"
   ]
  },
  {
   "cell_type": "code",
   "execution_count": null,
   "metadata": {},
   "outputs": [],
   "source": []
  }
 ],
 "metadata": {
  "kernelspec": {
   "display_name": "Python 3",
   "language": "python",
   "name": "python3"
  },
  "language_info": {
   "codemirror_mode": {
    "name": "ipython",
    "version": 3
   },
   "file_extension": ".py",
   "mimetype": "text/x-python",
   "name": "python",
   "nbconvert_exporter": "python",
   "pygments_lexer": "ipython3",
   "version": "3.6.8"
  }
 },
 "nbformat": 4,
 "nbformat_minor": 2
}

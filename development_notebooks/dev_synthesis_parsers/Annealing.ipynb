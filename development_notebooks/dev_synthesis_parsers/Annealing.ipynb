{
 "cells": [
  {
   "cell_type": "markdown",
   "metadata": {},
   "source": [
    "## Initialization"
   ]
  },
  {
   "cell_type": "code",
   "execution_count": 2,
   "metadata": {},
   "outputs": [],
   "source": [
    "from __future__ import absolute_import\n",
    "from __future__ import division\n",
    "from __future__ import print_function\n",
    "from __future__ import unicode_literals\n",
    "\n",
    "import logging\n",
    "import re\n",
    "\n",
    "from chemdataextractor import Document\n",
    "from chemdataextractor.model import Compound, BaseModel, \\\n",
    "                                    StringType, ListType, ModelType\n",
    "from chemdataextractor.doc import Paragraph, Sentence\n",
    "from chemdataextractor.parse.actions import join\n",
    "from chemdataextractor.parse import R, I, W, Optional, merge, ZeroOrMore\n",
    "from chemdataextractor.parse.base import BaseParser\n",
    "from chemdataextractor.utils import first"
   ]
  },
  {
   "cell_type": "markdown",
   "metadata": {},
   "source": [
    "### Glossary for Regular Expression Parsing"
   ]
  },
  {
   "cell_type": "markdown",
   "metadata": {},
   "source": [
    "`.parse`:\n",
    "\n",
    "* `R(pattern)`: match token text with regular expression\n",
    "* `I(match)`: case-insensitive match token text\n",
    "* `W(match)`: match token text exactly\n",
    "* `T(match)`: match tag exactly\n",
    "* `Optional(expr)`: abstract class for combining and post-processing parsed tokens\n",
    "* `merge(tokens, start, result)`: join tokens into a single string with no spaces\n",
    "* `ZeroOrMore(expr)`: optional repetition of zero or more of the given expression\n",
    "* `OneOrMore(expr)`: repetition of one or more of the given expression\n",
    "* `Not(expr):` check ahead to disallow a match with the given parse expression\n",
    "\n",
    "`.parse.actions`:\n",
    "\n",
    "* `strip_stop`: removes trailing full stop from tokens\n",
    "* `join`: join tokens into a single string with spaces between"
   ]
  },
  {
   "cell_type": "markdown",
   "metadata": {},
   "source": [
    "### Outlining Annealing Parameter Extraction\n",
    "\n",
    "    {'Synthesis' : {\n",
    "                'spincoat' : {\n",
    "                    'time' : {\n",
    "                        'value' : (number),\n",
    "                        'units' : 's',\n",
    "                        },\n",
    "                    },\n",
    "                'anneal' : {\n",
    "                    'time' : {\n",
    "                        'value' : (number),\n",
    "                        'units' : 's',\n",
    "                        },\n",
    "                    'temperature' : {\n",
    "                        'value' : (number),\n",
    "                        'units' : 'K',\n",
    "                        },\n",
    "                etc...\n",
    "    }\n",
    "\n",
    "Structuring my code to fit the format:\n",
    "\n",
    "    create 'anneal' class to parse annealing conditions\n",
    "        create 'time' subclass in the anneal class\n",
    "        time: (value) (units)\n",
    "        create 'temperature' subclass in the anneal class\n",
    "        temperature: (value) (units)"
   ]
  },
  {
   "cell_type": "code",
   "execution_count": 3,
   "metadata": {},
   "outputs": [],
   "source": [
    "# Creating Anneal class with various subclasses: AnnealTemp and AnnealTime (for parsing temperature and time, respectively).\n",
    "class AnnealTemp(BaseModel):\n",
    "    \"\"\"\n",
    "    Class for each spin-coating speed in a spin-coating process.\n",
    "    \"\"\"\n",
    "    tempvalue = StringType()\n",
    "    tempunits = StringType(contextual=True)\n",
    "    \n",
    "class AnnealTime(BaseModel):\n",
    "    \"\"\"\n",
    "    Class for each spin-coating time in a spin-coating process.\n",
    "    \"\"\"\n",
    "    timevalue = StringType()\n",
    "    timeunits = StringType(contextual=True)\n",
    "\n",
    "class Anneal(BaseModel):\n",
    "    \"\"\"\n",
    "    Class for full list of spin-coating step parameters for full process.\n",
    "    \"\"\"\n",
    "    temps = ListType(ModelType(AnnealTemp))\n",
    "    times = ListType(ModelType(AnnealTime))"
   ]
  },
  {
   "cell_type": "markdown",
   "metadata": {},
   "source": [
    "### Associating Parameters with a Chemical"
   ]
  },
  {
   "cell_type": "code",
   "execution_count": 4,
   "metadata": {},
   "outputs": [],
   "source": [
    "Compound.anneal = ListType(ModelType(Anneal))"
   ]
  },
  {
   "cell_type": "markdown",
   "metadata": {},
   "source": [
    "### Defining Parameters for the Parser"
   ]
  },
  {
   "cell_type": "code",
   "execution_count": 24,
   "metadata": {
    "scrolled": true
   },
   "outputs": [],
   "source": [
    "# Deliminator\n",
    "delim = R('^[;:,\\./]$').hide()\n",
    "\n",
    "# Defining formats for annealing temperature and units\n",
    "tempprefix = (I('at') | I('or')).hide()\n",
    "tempunits = (W('°') + R('^[CFK]\\.?$'))('tempunits').add_action(merge)\n",
    "tempvalue = R('^\\d{2,4}?$')('tempvalue').add_action(merge) + Optional(delim)\n",
    "\n",
    "# Defining formats for spin-coating time and time units\n",
    "timeprefix = I('for').hide()\n",
    "timeunits = (R('^s?(ec|econds)?$') | R('^m?(in|inute)?(s)?$') | R('^h?(ou)?(r)?(s)?$'))('timeunits').add_action(join) + Optional(delim)\n",
    "timevalue = R('^\\d{,2}$')('timevalue') + Optional(delim)\n",
    "\n",
    "# Putting everything together\n",
    "temp = (tempvalue)('temp')\n",
    "temps = (temp + ZeroOrMore(ZeroOrMore(tempprefix | tempunits | delim | W('and')).hide() + temp))('temps')\n",
    "time = (timevalue)('time')\n",
    "times = (time + ZeroOrMore(ZeroOrMore(timeunits | delim | W('and')).hide() + time))('times')\n",
    "\n",
    "annealing = (tempprefix + temps + Optional(delim) + tempunits + Optional(delim) + timeprefix + Optional(delim) + times + Optional(delim) + timeunits + Optional(delim))('annealing')"
   ]
  },
  {
   "cell_type": "code",
   "execution_count": 25,
   "metadata": {},
   "outputs": [],
   "source": [
    "class AnnealParser(BaseParser):\n",
    "    root = annealing\n",
    "\n",
    "    def interpret(self, result, start, end):\n",
    "        c = Compound()\n",
    "        s = Anneal()\n",
    "        tempunits = first(result.xpath('./tempunits/text()'))\n",
    "        timeunits = first(result.xpath('./timeunits/text()'))\n",
    "        for temp in result.xpath('./temps/temp'):\n",
    "            anneal_temp = AnnealTemp(\n",
    "                tempvalue=first(temp.xpath('./tempvalue/text()')),\n",
    "                tempunits=tempunits\n",
    "            )\n",
    "            s.temps.append(anneal_temp)\n",
    "        for time in result.xpath('./times/time'):\n",
    "            anneal_time = AnnealTime(\n",
    "                timevalue=first(time.xpath('./timevalue/text()')),\n",
    "                timeunits=timeunits\n",
    "            )\n",
    "            s.times.append(anneal_time)\n",
    "        c.anneal.append(s)\n",
    "        yield c"
   ]
  },
  {
   "cell_type": "markdown",
   "metadata": {},
   "source": [
    "### Parsers"
   ]
  },
  {
   "cell_type": "code",
   "execution_count": 26,
   "metadata": {},
   "outputs": [],
   "source": [
    "Paragraph.parsers = [AnnealParser()]"
   ]
  },
  {
   "cell_type": "markdown",
   "metadata": {},
   "source": [
    "## Testing Outputs"
   ]
  },
  {
   "cell_type": "code",
   "execution_count": 27,
   "metadata": {
    "scrolled": true
   },
   "outputs": [
    {
     "data": {
      "text/plain": [
       "[{'anneal': [{'temps': [{'tempvalue': '100', 'tempunits': '°C'}],\n",
       "    'times': [{'timevalue': '10', 'timeunits': 'min'}]}]}]"
      ]
     },
     "execution_count": 27,
     "metadata": {},
     "output_type": "execute_result"
    }
   ],
   "source": [
    "sp = 'The substrate was dried on a hot plate at 100 °C for 10 min.'\n",
    "s = Document(sp)\n",
    "\n",
    "s.records.serialize()"
   ]
  },
  {
   "cell_type": "code",
   "execution_count": 28,
   "metadata": {},
   "outputs": [],
   "source": [
    "def parse_anneal(anneal_str):\n",
    "    \"\"\"\n",
    "    Given a string as input, converts the string into a ChemDrawExtractor Paragraph and returns a list of annealing parameters (speeds and times) found via parsing the string.\n",
    "    \"\"\"\n",
    "    p = Paragraph(anneal_str)\n",
    "    return p.records.serialize()"
   ]
  },
  {
   "cell_type": "code",
   "execution_count": 29,
   "metadata": {},
   "outputs": [
    {
     "data": {
      "text/plain": [
       "[{'anneal': [{'temps': [{'tempvalue': '100', 'tempunits': '°C'}],\n",
       "    'times': [{'timevalue': '10', 'timeunits': 'min'}]}]}]"
      ]
     },
     "execution_count": 29,
     "metadata": {},
     "output_type": "execute_result"
    }
   ],
   "source": [
    "parse_anneal(sp)"
   ]
  },
  {
   "cell_type": "code",
   "execution_count": 30,
   "metadata": {
    "scrolled": true
   },
   "outputs": [
    {
     "data": {
      "text/plain": [
       "[{'anneal': [{'temps': [{'tempvalue': '125', 'tempunits': '°C'}],\n",
       "    'times': [{'timevalue': '30', 'timeunits': 'min'}]}]}]"
      ]
     },
     "execution_count": 30,
     "metadata": {},
     "output_type": "execute_result"
    }
   ],
   "source": [
    "sp2 = \"The mesoporous TiO2 films were then infiltrated with CH3NH3SnI3−xBrx by spin coating at 4,000 r.p.m. for 45 s and dried at 125 °C for 30 min to remove the solvent.\"\n",
    "parse_anneal(sp2)"
   ]
  },
  {
   "cell_type": "code",
   "execution_count": 31,
   "metadata": {
    "scrolled": true
   },
   "outputs": [
    {
     "data": {
      "text/plain": [
       "[{'anneal': [{'temps': [{'tempvalue': '70', 'tempunits': '°C'}],\n",
       "    'times': [{'timevalue': '30', 'timeunits': 'min'}]}]}]"
      ]
     },
     "execution_count": 31,
     "metadata": {},
     "output_type": "execute_result"
    }
   ],
   "source": [
    "sp3 = \"The mesoporous TiO2 films were then infiltrated with PbI2 by spin coating at 6,500 r.p.m. for 90 s and dried at 70 °C for 30 min.\"\n",
    "parse_anneal(sp3)"
   ]
  },
  {
   "cell_type": "code",
   "execution_count": 32,
   "metadata": {
    "scrolled": true
   },
   "outputs": [
    {
     "data": {
      "text/plain": [
       "[{'anneal': [{'temps': [{'tempvalue': '100', 'tempunits': '°C'},\n",
       "     {'tempvalue': '150', 'tempunits': '°C'}],\n",
       "    'times': [{'timevalue': '10', 'timeunits': 'min'}]}]}]"
      ]
     },
     "execution_count": 32,
     "metadata": {},
     "output_type": "execute_result"
    }
   ],
   "source": [
    "sp4 = \"The substrate was then dried on a hot plate at 100 °C or 150 °C for 10 min.\"\n",
    "parse_anneal(sp4)"
   ]
  },
  {
   "cell_type": "markdown",
   "metadata": {},
   "source": [
    "**In summary:**  Totally works on all of the test papers downloaded by Linnette! (Note that paper 5 does not have an annealing step.)"
   ]
  },
  {
   "cell_type": "markdown",
   "metadata": {},
   "source": [
    "## Importing test synthesis paragraph and sentence"
   ]
  },
  {
   "cell_type": "code",
   "execution_count": 20,
   "metadata": {},
   "outputs": [
    {
     "data": {
      "text/html": [
       "<div class=\"cde-document\">\n",
       "<h2 class=\"cde-title\">Solar cell fabrication</h2>\n",
       "<p class=\"cde-paragraph\">A dense blocking layer of TiO2 (bl-TiO2, ∼70 nm in thickness) was deposited onto a F-doped SnO2 (FTO, Pilkington, TEC8) substrate by spray pyrolysis, using a 20 mM titanium diisopropoxide bis(acetylacetonate) solution (Aldrich) at 450 °C to prevent direct contact between the FTO and the hole-conducting layer. A 200–300-nm-thick mesoporous TiO2 (particle size: about 50 nm, crystalline phase: anatase) film was spin-coated onto the bl-TiO2/FTO substrate using home-made pastes14 and calcining at 500 °C for 1 h in air to remove organic components. CH3NH3I (MAI) and CH3NH3Br (MABr) were first synthesized by reacting 27.86 ml CH3NH2 (40% in methanol, Junsei Chemical) and 30 ml HI (57 wt% in water, Aldrich) or 44 ml HBr (48 wt% in water, Aldrich) in a 250 ml round-bottom flask at 0 °C for 4 h with stirring, respectively. The precipitate was recovered by evaporation at 55 °C for 1 h. MAI and MABr were dissolved in ethanol, recrystallized from diethyl ether, and dried at 60 °C in a vacuum oven for 24 h. The prepared MAI and MABr powders, PbI2 (Aldrich) and PbBr2 (Aldrich) for 0.8 M MAPb(I1 − xBrx)3 (x  =  0.1–0.15) solution were stirred in a mixture of GBL and DMSO (7:3 v/v) at 60 °C for 12 h. The resulting solution was coated onto the mp-TiO2/bl-TiO2/FTO substrate by a consecutive two-step spin-coating process at 1,000 and 5,000 r.p.m for 10 and 20 s, respectively. During the second spin-coating step, the substrate (around 1 cm × 1 cm) was treated with toluene drop-casting. A detailed time-rotation profile for the spin-coating is represented in Supplementary Fig. 1c. The substrate was dried on a hot plate at 100 °C for 10 min. A solution of poly(triarylamine) (15 mg, PTAA, EM Index, Mw  =  17,500 g mol−1) in toluene (1.5 ml) was mixed with 15 μl of a solution of lithium bistrifluoromethanesulphonimidate (170 mg) in acetonitrile (1 ml) and 7.5 μl 4-tert-butylpyridine and spin-coated on the MAPb(I1 − xBrx)3 (x  =  0.1–0.15)/mp-TiO2/bl-TiO2/FTO substrate at 3,000 r.p.m for 30 s. Finally, a Au counterelectrode was deposited by thermal evaporation. The active area of this electrode was fixed at 0.16 cm2.</p>\n",
       "</div>"
      ],
      "text/plain": [
       "<Document: 2 elements>"
      ]
     },
     "execution_count": 20,
     "metadata": {},
     "output_type": "execute_result"
    }
   ],
   "source": [
    "# Formatting the Nature Nanotech paragraph according to ChemDataExtractor\n",
    "p = Document(Heading(u'Solar cell fabrication'), Paragraph(ptext))\n",
    "p"
   ]
  },
  {
   "cell_type": "code",
   "execution_count": 10,
   "metadata": {
    "scrolled": true
   },
   "outputs": [],
   "source": [
    "# Sentence version\n",
    "sp = 'The substrate was dried on a hot plate at 100 °C for 10 min.'\n",
    "s = Document(sp)"
   ]
  },
  {
   "cell_type": "code",
   "execution_count": null,
   "metadata": {
    "scrolled": true
   },
   "outputs": [],
   "source": [
    "p"
   ]
  },
  {
   "cell_type": "code",
   "execution_count": 4,
   "metadata": {
    "scrolled": true
   },
   "outputs": [
    {
     "data": {
      "text/html": [
       "<div class=\"cde-document\">\n",
       "<p class=\"cde-paragraph\">The substrate was dried on a hot plate at 100 °C for 10 min.</p>\n",
       "</div>"
      ],
      "text/plain": [
       "<Document: 1 elements>"
      ]
     },
     "execution_count": 4,
     "metadata": {},
     "output_type": "execute_result"
    }
   ],
   "source": [
    "s"
   ]
  },
  {
   "cell_type": "code",
   "execution_count": null,
   "metadata": {},
   "outputs": [],
   "source": []
  }
 ],
 "metadata": {
  "kernelspec": {
   "display_name": "Python 3",
   "language": "python",
   "name": "python3"
  },
  "language_info": {
   "codemirror_mode": {
    "name": "ipython",
    "version": 3
   },
   "file_extension": ".py",
   "mimetype": "text/x-python",
   "name": "python",
   "nbconvert_exporter": "python",
   "pygments_lexer": "ipython3",
   "version": "3.6.8"
  }
 },
 "nbformat": 4,
 "nbformat_minor": 2
}

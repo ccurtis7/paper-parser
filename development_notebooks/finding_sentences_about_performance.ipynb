{
 "cells": [
  {
   "cell_type": "markdown",
   "metadata": {},
   "source": [
    "# This notebook is for development of a tool to extract sentences describing numeric values of performance metrics"
   ]
  },
  {
   "cell_type": "code",
   "execution_count": 4,
   "metadata": {
    "collapsed": true
   },
   "outputs": [],
   "source": [
    "import sys\n",
    "sys.path.insert(0, '../paperparser/read_paper')\n",
    "import extract_sentences\n",
    "\n",
    "sys.path.insert(0, '../paperparser/parse')\n",
    "\n",
    "import pandas as pd\n",
    "from sklearn.externals import joblib\n",
    "\n",
    "import re"
   ]
  },
  {
   "cell_type": "code",
   "execution_count": 5,
   "metadata": {
    "collapsed": true
   },
   "outputs": [],
   "source": [
    "paper = extract_sentences.read_html_paper('journal_articles/Paper0.html')\n",
    "X_sentences, sentences_record = extract_sentences.extract_all_sentences(paper)"
   ]
  },
  {
   "cell_type": "code",
   "execution_count": 7,
   "metadata": {
    "collapsed": false
   },
   "outputs": [
    {
     "data": {
      "text/plain": [
       "851"
      ]
     },
     "execution_count": 7,
     "metadata": {},
     "output_type": "execute_result"
    }
   ],
   "source": [
    "len(X_sentences)"
   ]
  },
  {
   "cell_type": "code",
   "execution_count": 13,
   "metadata": {
    "collapsed": false
   },
   "outputs": [
    {
     "data": {
      "text/plain": [
       "['For example, when MAPbI3 was loaded on a mesoporous (mp)-TiO2 electrode by the sequential deposition of PbI2 and methylammonium iodide (MAI), a 15.0% power-conversion efficiency (PCE) was achieved under 1 sun illumination11.',\n",
       " 'The Jsc, Voc and FF values obtained from the I–V curve of the reverse scan were 19.2 mA cm−2, 1.09 V and 0.69, respectively, yielding a PCE of 14.4% under standard AM 1.5 conditions.',\n",
       " 'The average values from the J–V curves from the reverse and forward scans (Fig.\\xa05a) exhibited a Jsc of 19.58 mA cm−2, Voc of 1.105 V, and FF of 76.2%, corresponding to a PCE of 16.5% under standard AM 1.5 G conditions.',\n",
       " 'The best device also showed a very broad IPCE plateau of over 80% between 420 and 700 nm, as shown in Fig.\\xa05b.',\n",
       " 'One of these devices was certified by the standardized method in a photovoltaics calibration laboratory, confirming a PCE of 16.2% under AM 1.5 G full sun (Supplementary Fig.\\xa06).',\n",
       " 'In summary, we developed a solvent-engineering technology for the deposition of extremely uniform perovskite layers, and demonstrated a solution-processed perovskite solar cell with 16.5% PCE under standard conditions (AM 1.5 G radiation, 100 mW cm−2).']"
      ]
     },
     "execution_count": 13,
     "metadata": {},
     "output_type": "execute_result"
    }
   ],
   "source": [
    "pce_sents = []\n",
    "pce_patterns = ['PCE']\n",
    "pce_units_patterns = ['%', 'percent']\n",
    "for sent in X_sentences:\n",
    "    for pce_pattern in pce_patterns:\n",
    "        # Check for pce_pattern \n",
    "        pce_found = re.search(pce_pattern, sent, re.IGNORECASE)\n",
    "        if pce_found: # check for percent and stop iterating if found\n",
    "            # Check for units\n",
    "            for pce_units_pattern in pce_units_patterns: \n",
    "                units_found = re.search(pce_units_pattern, sent)\n",
    "                if units_found: break # stop looking for units\n",
    "                # if this loop exits with out finding units, throw away the sentence\n",
    "            if units_found:\n",
    "                pce_sents.append(sent)\n",
    "                break\n",
    "pce_sents"
   ]
  },
  {
   "cell_type": "markdown",
   "metadata": {},
   "source": [
    "Add check for numbers"
   ]
  },
  {
   "cell_type": "code",
   "execution_count": 14,
   "metadata": {
    "collapsed": false
   },
   "outputs": [
    {
     "data": {
      "text/plain": [
       "['For example, when MAPbI3 was loaded on a mesoporous (mp)-TiO2 electrode by the sequential deposition of PbI2 and methylammonium iodide (MAI), a 15.0% power-conversion efficiency (PCE) was achieved under 1 sun illumination11.',\n",
       " 'The Jsc, Voc and FF values obtained from the I–V curve of the reverse scan were 19.2 mA cm−2, 1.09 V and 0.69, respectively, yielding a PCE of 14.4% under standard AM 1.5 conditions.',\n",
       " 'The average values from the J–V curves from the reverse and forward scans (Fig.\\xa05a) exhibited a Jsc of 19.58 mA cm−2, Voc of 1.105 V, and FF of 76.2%, corresponding to a PCE of 16.5% under standard AM 1.5 G conditions.',\n",
       " 'The best device also showed a very broad IPCE plateau of over 80% between 420 and 700 nm, as shown in Fig.\\xa05b.',\n",
       " 'One of these devices was certified by the standardized method in a photovoltaics calibration laboratory, confirming a PCE of 16.2% under AM 1.5 G full sun (Supplementary Fig.\\xa06).',\n",
       " 'In summary, we developed a solvent-engineering technology for the deposition of extremely uniform perovskite layers, and demonstrated a solution-processed perovskite solar cell with 16.5% PCE under standard conditions (AM 1.5 G radiation, 100 mW cm−2).']"
      ]
     },
     "execution_count": 14,
     "metadata": {},
     "output_type": "execute_result"
    }
   ],
   "source": [
    "pce_sents = []\n",
    "pce_patterns = ['PCE']\n",
    "pce_units_patterns = ['%', 'percent']\n",
    "for sent in X_sentences:\n",
    "    for pce_pattern in pce_patterns:\n",
    "        # Check for pce_pattern \n",
    "        pce_found = re.search(pce_pattern, sent, re.IGNORECASE)\n",
    "        if pce_found: # check for percent and stop iterating if found\n",
    "            # Check for numbers\n",
    "            numbers_found = re.search('\\d+', sent)\n",
    "            if not numbers_found:\n",
    "                # Stop looking at sentence\n",
    "                break\n",
    "            # Check for units\n",
    "            for pce_units_pattern in pce_units_patterns: \n",
    "                units_found = re.search(pce_units_pattern, sent)\n",
    "                if units_found: break # stop looking for units\n",
    "                # if this loop exits with out finding units, throw away the sentence\n",
    "            if units_found:\n",
    "                pce_sents.append(sent)\n",
    "                break\n",
    "pce_sents"
   ]
  },
  {
   "cell_type": "markdown",
   "metadata": {},
   "source": [
    "building a simple test to make sure I have it right"
   ]
  },
  {
   "cell_type": "code",
   "execution_count": 21,
   "metadata": {
    "collapsed": true
   },
   "outputs": [],
   "source": [
    "test_sentences = [\n",
    "    'This sentece should be found: I declare that the PCE has a value of 5% indeed yes sir.', # yes\n",
    "    'This sentece should be found: I declare that the PCE has a value of 5 percent indeed yes sir.', # yes\n",
    "    'This sentece should be found I think?: I declare that the PCE has a value of 5 percentage indeed yes sir.', # yes\n",
    "    'This sentece should NOT be found: The PCE has a very high percent, yes it does', # no\n",
    "    'This sentece should NOT be found: The PCE has a very high %, yes it does',\n",
    "    'This sentece should NOT be found: The PCE has a very high percent, yes it does',\n",
    "]"
   ]
  },
  {
   "cell_type": "markdown",
   "metadata": {},
   "source": [
    "But first I have to functionalize the code block"
   ]
  },
  {
   "cell_type": "code",
   "execution_count": 26,
   "metadata": {
    "collapsed": false
   },
   "outputs": [],
   "source": [
    "def pce_sentence_search(sentence_list):\n",
    "    \"\"\" Finds sentences in list that contain quantitative information about PCE (power conversion efficiency)\"\"\"\n",
    "    pce_sents = []\n",
    "    pce_patterns = ['PCE']\n",
    "    pce_units_patterns = ['%', 'percent']\n",
    "    for sent in sentence_list:\n",
    "        for pce_pattern in pce_patterns:\n",
    "            # Check for pce_pattern \n",
    "            pce_found = re.search(pce_pattern, sent, re.IGNORECASE)\n",
    "            if pce_found: # check for percent and stop iterating if found\n",
    "                # Check for numbers\n",
    "                numbers_found = re.search('\\d+', sent)\n",
    "                if not numbers_found:\n",
    "                    # Stop looking at sentence\n",
    "                    break\n",
    "                # Check for units\n",
    "                for pce_units_pattern in pce_units_patterns: \n",
    "                    units_found = re.search(pce_units_pattern, sent)\n",
    "                    if units_found: break # stop looking for units\n",
    "                    # if this loop exits with out finding units, throw away the sentence\n",
    "                if units_found:\n",
    "                    pce_sents.append(sent)\n",
    "                    break\n",
    "    return pce_sents"
   ]
  },
  {
   "cell_type": "markdown",
   "metadata": {},
   "source": [
    "Let's try it on the test sentences"
   ]
  },
  {
   "cell_type": "code",
   "execution_count": 27,
   "metadata": {
    "collapsed": false,
    "scrolled": true
   },
   "outputs": [
    {
     "data": {
      "text/plain": [
       "['This sentece should be found: I declare that the PCE has a value of 5% indeed yes sir.',\n",
       " 'This sentece should be found: I declare that the PCE has a value of 5 percent indeed yes sir.',\n",
       " 'This sentece should be found I think?: I declare that the PCE has a value of 5 percentage indeed yes sir.']"
      ]
     },
     "execution_count": 27,
     "metadata": {},
     "output_type": "execute_result"
    }
   ],
   "source": [
    "pce_sentence_search(test_sentences)"
   ]
  },
  {
   "cell_type": "markdown",
   "metadata": {},
   "source": [
    "It works!"
   ]
  },
  {
   "cell_type": "markdown",
   "metadata": {},
   "source": [
    "## Generalizing to work with other performance metrics"
   ]
  },
  {
   "cell_type": "markdown",
   "metadata": {},
   "source": [
    "I'd like for this to be able to work for VOC and JSC as well. "
   ]
  },
  {
   "cell_type": "code",
   "execution_count": 29,
   "metadata": {
    "collapsed": false
   },
   "outputs": [],
   "source": [
    "def quantified_performance_sentence_search(sentence_list, metric='PCE'):\n",
    "    \"\"\" Finds sentences in list that contain quantitative information about PCE (power conversion efficiency)\"\"\"\n",
    "    return_sents = []\n",
    "    \n",
    "    if metric == 'PCE':\n",
    "        metric_patterns = ['PCE']\n",
    "        units_patterns = ['%', 'percent']\n",
    "    elif metric == \"VOC\":\n",
    "        metric_patterns = ['VOC']\n",
    "        units_patterns = ['V\\w', 'volts']\n",
    "    elif metric == \"JSC\":\n",
    "        metric_patterns = ['JSC']\n",
    "        units_patterns = ['A\\w', 'amps']\n",
    "    else:\n",
    "        raise ValueError('{} is not a valid performance metric'.format(metric))\n",
    "    for sent in sentence_list:\n",
    "        for pce_pattern in metric_patterns:\n",
    "            # Check for pce_pattern \n",
    "            pce_found = re.search(pce_pattern, sent, re.IGNORECASE)\n",
    "            if pce_found: # check for percent and stop iterating if found\n",
    "                # Check for numbers\n",
    "                numbers_found = re.search('\\d+', sent)\n",
    "                if not numbers_found:\n",
    "                    # Stop looking at sentence\n",
    "                    break\n",
    "                # Check for units\n",
    "                for pce_units_pattern in units_patterns: \n",
    "                    units_found = re.search(pce_units_pattern, sent)\n",
    "                    if units_found: break # stop looking for units\n",
    "                    # if this loop exits with out finding units, throw away the sentence\n",
    "                if units_found:\n",
    "                    return_sents.append(sent)\n",
    "                    break\n",
    "    return return_sents"
   ]
  },
  {
   "cell_type": "code",
   "execution_count": 30,
   "metadata": {
    "collapsed": false
   },
   "outputs": [
    {
     "data": {
      "text/plain": [
       "['This sentece should be found: I declare that the PCE has a value of 5% indeed yes sir.',\n",
       " 'This sentece should be found: I declare that the PCE has a value of 5 percent indeed yes sir.',\n",
       " 'This sentece should be found I think?: I declare that the PCE has a value of 5 percentage indeed yes sir.']"
      ]
     },
     "execution_count": 30,
     "metadata": {},
     "output_type": "execute_result"
    }
   ],
   "source": [
    "quantified_performance_sentence_search(test_sentences)"
   ]
  },
  {
   "cell_type": "code",
   "execution_count": null,
   "metadata": {
    "collapsed": true
   },
   "outputs": [],
   "source": []
  }
 ],
 "metadata": {
  "anaconda-cloud": {},
  "kernelspec": {
   "display_name": "Python [conda env:direct]",
   "language": "python",
   "name": "conda-env-direct-py"
  },
  "language_info": {
   "codemirror_mode": {
    "name": "ipython",
    "version": 3
   },
   "file_extension": ".py",
   "mimetype": "text/x-python",
   "name": "python",
   "nbconvert_exporter": "python",
   "pygments_lexer": "ipython3",
   "version": "3.6.8"
  }
 },
 "nbformat": 4,
 "nbformat_minor": 1
}

{
 "cells": [
  {
   "cell_type": "code",
   "execution_count": 59,
   "metadata": {},
   "outputs": [],
   "source": [
    "import sys\n",
    "sys.path.insert(0, '../../paperparser/read_paper')\n",
    "import sentence_classifier\n",
    "import sklearn\n",
    "from sklearn.pipeline import Pipeline\n",
    "from sklearn.externals import joblib\n",
    "import numpy"
   ]
  },
  {
   "cell_type": "code",
   "execution_count": 64,
   "metadata": {},
   "outputs": [],
   "source": [
    "syn_sen_model = joblib.load('../../examples/syn_sen_model.pkl')"
   ]
  },
  {
   "cell_type": "code",
   "execution_count": 53,
   "metadata": {},
   "outputs": [],
   "source": [
    "def test_spacy_tokenizer():\n",
    "    \"\"\" Test function for tokenizing a sentence\"\"\"\n",
    "    sentences = [\n",
    "        'The quick brown fox jumps over the lazy dog .',\n",
    "        'By Jove , my quick study of lexicography won a prize .',\n",
    "        'This is a short sentence .'] #sentences has to be str and list is passed so will raise a type error\n",
    "    try:\n",
    "        tokenized_sentences = sentence_classifier.spacy_tokenizer(sentences)\n",
    "    except (AssertionError):\n",
    "        pass\n",
    "    else:\n",
    "        raise Exception (\"Exception not handled by Asserts\")\n",
    "    tokenized_sentences_1 = sentence_classifier.spacy_tokenizer(sentences[0])\n",
    "    assert type(tokenized_sentences_1) == list,\\\n",
    "    \"\"\"output is ['quick', 'brown', 'fox', 'jump', 'lazy', 'dog'] is to check whether stop words and punctuation is working\"\"\"\n",
    "    assert len(tokenized_sentences_1) == 6 \n",
    "    return"
   ]
  },
  {
   "cell_type": "code",
   "execution_count": 54,
   "metadata": {},
   "outputs": [],
   "source": [
    "def test_train_predictor():\n",
    "    \"\"\"Test function for training the model\"\"\"\n",
    "    X_train = ['We placed approximately 500\\u2009mg of CH3NH3I and 100\\u2009mg of PbCl2 into separate crucibles.',\n",
    "               'The device substrates were placed in a substrate holder above the sources with the TiO2-coated FTO side facing down towards the sources.','1','2']\n",
    "    Y_train= [1,0,0,1,1]\n",
    "    try:\n",
    "        a = sentence_classifier.train_predictor(X_train,Y_train)\n",
    "    except (AssertionError):\n",
    "        pass\n",
    "    else:\n",
    "        raise Exception (\"Exception not handled by Asserts\")\n",
    "    \n",
    "    X_train1= ['We placed approximately 500\\u2009mg of CH3NH3I and 100\\u2009mg of PbCl2 into separate crucibles.',\n",
    "               'The device substrates were placed in a substrate holder above the sources with the TiO2-coated FTO side facing down towards the sources.',\n",
    "               'Once the pressure in the chamber was pumped down to below 10−5\\u2009mbar, the two sources were heated slightly above their desired deposition temperatures for approximately 5\\u2009min (that is, CH3NH3I was heated to about 120\\u2009°C and PbCl2 was heated to about 325\\u2009°C) to remove volatile impurities before depositing the materials onto the substrate.',\n",
    "               'The substrate holder was rotated to ensure uniform coating throughout deposition, because the right-hand source predominantly coats the right-hand side of the substrate and similarly for the left.',\n",
    "               'The substrate holder was water-cooled to approximately 21\\u2009°C, though precise measurement of the substrate temperature during deposition was not performed.']\n",
    "    Y_train1=['1.0','1.0','1.0','0.0','1.0']\n",
    "    \n",
    "    a1= sentence_classifier.train_predictor(X_train1,Y_train1)\n",
    "    assert type(a1)==sklearn.pipeline.Pipeline\n",
    "    return"
   ]
  },
  {
   "cell_type": "code",
   "execution_count": 65,
   "metadata": {},
   "outputs": [],
   "source": [
    "def test_classify_sentences():\n",
    "    \"\"\"Test function for classifying sentences\"\"\"\n",
    "    \n",
    "    X_test=(\n",
    "        'A dense blocking layer of TiO2 (bl-TiO2, ∼70 nm in thickness) was deposited onto a F-doped SnO2 (FTO, Pilkington, TEC8) substrate by spray pyrolysis, using a 20 mM titanium diisopropoxide bis(acetylacetonate) solution (Aldrich) at 450 °C to prevent direct contact between the FTO and the hole-conducting layer.',\n",
    "        'A 200–300-nm-thick mesoporous TiO2 (particle size: about 50 nm, crystalline phase: anatase) film was spin-coated onto the bl-TiO2/FTO substrate using home-made pastes14 and calcining at 500 °C for 1 h in air to remove organic components.',\n",
    "         'CH3NH3I (MAI) and CH3NH3Br (MABr) were first synthesized by reacting 27.86 ml CH3NH2 (40% in methanol, Junsei Chemical) and 30 ml HI (57 wt% in water, Aldrich) or 44 ml HBr (48 wt% in water, Aldrich) in a 250 ml round-bottom flask at 0 °C for 4 h with stirring, respectively.')\n",
    "\n",
    "    try:\n",
    "        a = sentence_classifier.classify_sentences(syn_sen_model,X_test)\n",
    "    except (AssertionError):\n",
    "        pass\n",
    "    else:\n",
    "        raise Exception (\"Exception not handled by Asserts\")\n",
    "        \n",
    "    pred_data, synthesis_sentences, not_synthesis_sentences = sentence_classifier.classify_sentences(syn_sen_model,X_test)\n",
    "    assert type(pred_data)== numpy.ndarray\n",
    "    assert type(synthesis_sentences) == type(not_synthesis_sentences) == list"
   ]
  },
  {
   "cell_type": "code",
   "execution_count": null,
   "metadata": {},
   "outputs": [],
   "source": []
  }
 ],
 "metadata": {
  "kernelspec": {
   "display_name": "Python 3",
   "language": "python",
   "name": "python3"
  },
  "language_info": {
   "codemirror_mode": {
    "name": "ipython",
    "version": 3
   },
   "file_extension": ".py",
   "mimetype": "text/x-python",
   "name": "python",
   "nbconvert_exporter": "python",
   "pygments_lexer": "ipython3",
   "version": "3.6.8"
  }
 },
 "nbformat": 4,
 "nbformat_minor": 2
}

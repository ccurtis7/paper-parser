{
 "cells": [
  {
   "cell_type": "code",
   "execution_count": 37,
   "metadata": {},
   "outputs": [],
   "source": [
    "import sys\n",
    "sys.path.insert(0, '../../paperparser/read_paper')\n",
    "import sentence_classifier"
   ]
  },
  {
   "cell_type": "code",
   "execution_count": 50,
   "metadata": {},
   "outputs": [],
   "source": [
    "def test_spacy_tokenizer():\n",
    "    \"\"\" Test function for tokenizing a sentence\"\"\"\n",
    "    sentences = [\n",
    "        'The quick brown fox jumps over the lazy dog .',\n",
    "        'By Jove , my quick study of lexicography won a prize .',\n",
    "        'This is a short sentence .'] #sentences has to be str and list is passed so will raise a type error\n",
    "    try:\n",
    "        tokenized_sentences = sentence_classifier.spacy_tokenizer(sentences)\n",
    "    except (TypeError):\n",
    "        pass\n",
    "    else:\n",
    "        raise Exception (\"Exception not handled by Asserts\")\n",
    "    tokenized_sentences_1 = sentence_classifier.spacy_tokenizer(sentences[0])\n",
    "    assert type(tokenized_sentences_1) == list,\\\n",
    "    \"\"\"output is ['quick', 'brown', 'fox', 'jump', 'lazy', 'dog'] is to check whether stop words and punctuation is working\"\"\"\n",
    "    assert len(tokenized_sentences_1) == 6 \n",
    "    return"
   ]
  },
  {
   "cell_type": "code",
   "execution_count": null,
   "metadata": {},
   "outputs": [],
   "source": []
  }
 ],
 "metadata": {
  "kernelspec": {
   "display_name": "Python 3",
   "language": "python",
   "name": "python3"
  },
  "language_info": {
   "codemirror_mode": {
    "name": "ipython",
    "version": 3
   },
   "file_extension": ".py",
   "mimetype": "text/x-python",
   "name": "python",
   "nbconvert_exporter": "python",
   "pygments_lexer": "ipython3",
   "version": "3.6.8"
  }
 },
 "nbformat": 4,
 "nbformat_minor": 2
}
